{
 "cells": [
  {
   "cell_type": "markdown",
   "metadata": {
    "id": "YpIEH-aNZ8pv"
   },
   "source": [
    "# Data loading"
   ]
  },
  {
   "cell_type": "code",
   "execution_count": 1,
   "metadata": {
    "colab": {
     "base_uri": "https://localhost:8080/"
    },
    "executionInfo": {
     "elapsed": 3305,
     "status": "ok",
     "timestamp": 1731993855770,
     "user": {
      "displayName": "Tsugumi17",
      "userId": "11013398911568640638"
     },
     "user_tz": -480
    },
    "id": "GhjJw8bcX_DC",
    "outputId": "681f8f7f-89be-40aa-daa9-2c698768cab6"
   },
   "outputs": [],
   "source": [
    "# from google.colab import drive\n",
    "# drive.mount('/content/drive')"
   ]
  },
  {
   "cell_type": "code",
   "execution_count": 2,
   "metadata": {},
   "outputs": [],
   "source": [
    "FOLDER = \".\""
   ]
  },
  {
   "cell_type": "code",
   "execution_count": null,
   "metadata": {
    "id": "Nm-I-vtBZFF4"
   },
   "outputs": [
    {
     "name": "stderr",
     "output_type": "stream",
     "text": [
      "2024-11-23 19:14:36.594124: I tensorflow/core/util/port.cc:153] oneDNN custom operations are on. You may see slightly different numerical results due to floating-point round-off errors from different computation orders. To turn them off, set the environment variable `TF_ENABLE_ONEDNN_OPTS=0`.\n",
      "2024-11-23 19:14:36.609463: E external/local_xla/xla/stream_executor/cuda/cuda_fft.cc:477] Unable to register cuFFT factory: Attempting to register factory for plugin cuFFT when one has already been registered\n",
      "WARNING: All log messages before absl::InitializeLog() is called are written to STDERR\n",
      "E0000 00:00:1732360476.625768 1798180 cuda_dnn.cc:8310] Unable to register cuDNN factory: Attempting to register factory for plugin cuDNN when one has already been registered\n",
      "E0000 00:00:1732360476.630455 1798180 cuda_blas.cc:1418] Unable to register cuBLAS factory: Attempting to register factory for plugin cuBLAS when one has already been registered\n",
      "2024-11-23 19:14:36.647344: I tensorflow/core/platform/cpu_feature_guard.cc:210] This TensorFlow binary is optimized to use available CPU instructions in performance-critical operations.\n",
      "To enable the following instructions: AVX2 AVX512F AVX512_VNNI FMA, in other operations, rebuild TensorFlow with the appropriate compiler flags.\n"
     ]
    }
   ],
   "source": [
    "import os\n",
    "import random\n",
    "from collections import Counter\n",
    "\n",
    "import numpy as np\n",
    "import pandas as pd\n",
    "import matplotlib.pyplot as plt\n",
    "import seaborn as sns\n",
    "\n",
    "import tensorflow as tf\n",
    "from tensorflow.keras import layers, models, regularizers\n",
    "from tensorflow.keras.layers import (\n",
    "    Embedding, LSTM, Dense, Dropout, Input, Concatenate, Flatten, RepeatVector\n",
    ")\n",
    "from tensorflow.keras.models import Model\n",
    "from tensorflow.keras.initializers import GlorotUniform, Zeros\n",
    "from tensorflow.keras.callbacks import EarlyStopping, ReduceLROnPlateau, TensorBoard\n",
    "\n",
    "from sklearn.model_selection import train_test_split\n",
    "from sklearn.metrics import accuracy_score, confusion_matrix, ConfusionMatrixDisplay"
   ]
  },
  {
   "cell_type": "code",
   "execution_count": null,
   "metadata": {},
   "outputs": [
    {
     "name": "stdout",
     "output_type": "stream",
     "text": [
      "Using GPUs: 5, 6, 7, 0\n",
      "Num GPUs Available after reset: 4\n"
     ]
    }
   ],
   "source": [
    "import GPUtil\n",
    "\n",
    "# Get the 4 GPUs with the most available memory (most of the time 4 cpu are free from UGCPU)\n",
    "gpus = GPUtil.getAvailable(order='memory', limit=4)\n",
    "\n",
    "# Set the selected GPUs to be visible\n",
    "if len(gpus) >= 4:\n",
    "    os.environ[\"CUDA_VISIBLE_DEVICES\"] = f\"{gpus[0]},{gpus[1]},{gpus[2]},{gpus[3]}\"\n",
    "    print(f\"Using GPUs: {gpus[0]}, {gpus[1]}, {gpus[2]}, {gpus[3]}\")\n",
    "else:\n",
    "    print(\"Not enough available GPUs. Only found:\", gpus)\n",
    "\n",
    "visible_gpus = tf.config.list_physical_devices('GPU')\n",
    "for gpu in visible_gpus:\n",
    "    tf.config.experimental.set_memory_growth(gpu, True)\n",
    "\n",
    "print(\"Num GPUs Available after reset:\", len(gpus))"
   ]
  },
  {
   "cell_type": "code",
   "execution_count": 5,
   "metadata": {
    "colab": {
     "base_uri": "https://localhost:8080/",
     "height": 424
    },
    "executionInfo": {
     "elapsed": 594,
     "status": "ok",
     "timestamp": 1731993856362,
     "user": {
      "displayName": "Tsugumi17",
      "userId": "11013398911568640638"
     },
     "user_tz": -480
    },
    "id": "dxibw3ifX01m",
    "outputId": "39057796-be92-42b9-eec6-6b683e2b0e6b"
   },
   "outputs": [
    {
     "data": {
      "text/html": [
       "<div>\n",
       "<style scoped>\n",
       "    .dataframe tbody tr th:only-of-type {\n",
       "        vertical-align: middle;\n",
       "    }\n",
       "\n",
       "    .dataframe tbody tr th {\n",
       "        vertical-align: top;\n",
       "    }\n",
       "\n",
       "    .dataframe thead th {\n",
       "        text-align: right;\n",
       "    }\n",
       "</style>\n",
       "<table border=\"1\" class=\"dataframe\">\n",
       "  <thead>\n",
       "    <tr style=\"text-align: right;\">\n",
       "      <th></th>\n",
       "      <th>EventA</th>\n",
       "      <th>EventB</th>\n",
       "      <th>relation</th>\n",
       "    </tr>\n",
       "  </thead>\n",
       "  <tbody>\n",
       "    <tr>\n",
       "      <th>0</th>\n",
       "      <td>PersonX causes trouble</td>\n",
       "      <td>['Is arrested', 'Thrown in jail']</td>\n",
       "      <td>xEffect</td>\n",
       "    </tr>\n",
       "    <tr>\n",
       "      <th>1</th>\n",
       "      <td>PersonX drops off the radar</td>\n",
       "      <td>['has peace an quiet', 'gets more sleep']</td>\n",
       "      <td>xEffect</td>\n",
       "    </tr>\n",
       "    <tr>\n",
       "      <th>2</th>\n",
       "      <td>PersonX starts the fire</td>\n",
       "      <td>['to light a match', 'to pour gasoline everywh...</td>\n",
       "      <td>xNeed</td>\n",
       "    </tr>\n",
       "    <tr>\n",
       "      <th>3</th>\n",
       "      <td>PersonX attends to PersonY's duties</td>\n",
       "      <td>['to hear thanks', 'keep helping person']</td>\n",
       "      <td>xWant</td>\n",
       "    </tr>\n",
       "    <tr>\n",
       "      <th>4</th>\n",
       "      <td>PersonX lets PersonY go</td>\n",
       "      <td>['sad, but helpful']</td>\n",
       "      <td>xReact</td>\n",
       "    </tr>\n",
       "    <tr>\n",
       "      <th>...</th>\n",
       "      <td>...</td>\n",
       "      <td>...</td>\n",
       "      <td>...</td>\n",
       "    </tr>\n",
       "    <tr>\n",
       "      <th>319770</th>\n",
       "      <td>PersonX closes PersonY's doors</td>\n",
       "      <td>['helpful', 'generous']</td>\n",
       "      <td>xReact</td>\n",
       "    </tr>\n",
       "    <tr>\n",
       "      <th>319771</th>\n",
       "      <td>PersonX has a pizza party</td>\n",
       "      <td>['thank personx', 'help clean up']</td>\n",
       "      <td>oWant</td>\n",
       "    </tr>\n",
       "    <tr>\n",
       "      <th>319772</th>\n",
       "      <td>PersonX invites PersonY to PersonX's house</td>\n",
       "      <td>['like he made a friend']</td>\n",
       "      <td>xReact</td>\n",
       "    </tr>\n",
       "    <tr>\n",
       "      <th>319773</th>\n",
       "      <td>PersonX blows PersonY's nose</td>\n",
       "      <td>['to protest', 'to thank PersonX']</td>\n",
       "      <td>oWant</td>\n",
       "    </tr>\n",
       "    <tr>\n",
       "      <th>319774</th>\n",
       "      <td>PersonX gives PersonY PersonX's attention</td>\n",
       "      <td>['openminded', 'closer to persony']</td>\n",
       "      <td>xReact</td>\n",
       "    </tr>\n",
       "  </tbody>\n",
       "</table>\n",
       "<p>319775 rows × 3 columns</p>\n",
       "</div>"
      ],
      "text/plain": [
       "                                            EventA  \\\n",
       "0                           PersonX causes trouble   \n",
       "1                      PersonX drops off the radar   \n",
       "2                          PersonX starts the fire   \n",
       "3              PersonX attends to PersonY's duties   \n",
       "4                          PersonX lets PersonY go   \n",
       "...                                            ...   \n",
       "319770              PersonX closes PersonY's doors   \n",
       "319771                   PersonX has a pizza party   \n",
       "319772  PersonX invites PersonY to PersonX's house   \n",
       "319773                PersonX blows PersonY's nose   \n",
       "319774   PersonX gives PersonY PersonX's attention   \n",
       "\n",
       "                                                   EventB relation  \n",
       "0                       ['Is arrested', 'Thrown in jail']  xEffect  \n",
       "1               ['has peace an quiet', 'gets more sleep']  xEffect  \n",
       "2       ['to light a match', 'to pour gasoline everywh...    xNeed  \n",
       "3               ['to hear thanks', 'keep helping person']    xWant  \n",
       "4                                    ['sad, but helpful']   xReact  \n",
       "...                                                   ...      ...  \n",
       "319770                            ['helpful', 'generous']   xReact  \n",
       "319771                 ['thank personx', 'help clean up']    oWant  \n",
       "319772                          ['like he made a friend']   xReact  \n",
       "319773                 ['to protest', 'to thank PersonX']    oWant  \n",
       "319774                ['openminded', 'closer to persony']   xReact  \n",
       "\n",
       "[319775 rows x 3 columns]"
      ]
     },
     "execution_count": 5,
     "metadata": {},
     "output_type": "execute_result"
    }
   ],
   "source": [
    "# Load the train.csv file\n",
    "train_data = pd.read_csv(f'{FOLDER}/shuffled_A_B_relation_train.csv')\n",
    "train_data"
   ]
  },
  {
   "cell_type": "markdown",
   "metadata": {},
   "source": [
    "Understand the data"
   ]
  },
  {
   "cell_type": "code",
   "execution_count": 7,
   "metadata": {
    "colab": {
     "base_uri": "https://localhost:8080/",
     "height": 507
    },
    "executionInfo": {
     "elapsed": 444,
     "status": "ok",
     "timestamp": 1731995643816,
     "user": {
      "displayName": "Tsugumi17",
      "userId": "11013398911568640638"
     },
     "user_tz": -480
    },
    "id": "bOie5S0cwhaT",
    "outputId": "872c08a4-b759-4473-b090-cc19556dc048"
   },
   "outputs": [
    {
     "data": {
      "image/png": "[encoded data removed]",
      "text/plain": [
       "<Figure size 640x480 with 1 Axes>"
      ]
     },
     "metadata": {},
     "output_type": "display_data"
    }
   ],
   "source": [
    "relation_counts = train_data['relation'].value_counts()\n",
    "relation_counts.plot(kind='bar')\n",
    "plt.xlabel('Relation')\n",
    "plt.ylabel('Frequency')\n",
    "plt.title('Class Distribution in Training Data')\n",
    "plt.show()"
   ]
  },
  {
   "cell_type": "code",
   "execution_count": null,
   "metadata": {
    "colab": {
     "base_uri": "https://localhost:8080/",
     "height": 472
    },
    "executionInfo": {
     "elapsed": 669,
     "status": "ok",
     "timestamp": 1731993857648,
     "user": {
      "displayName": "Tsugumi17",
      "userId": "11013398911568640638"
     },
     "user_tz": -480
    },
    "id": "4I_bbxexwoSi",
    "outputId": "3e61687f-93d5-43d2-bc93-85143f0373a6"
   },
   "outputs": [
    {
     "data": {
      "image/png": "[encoded data removed]",
      "text/plain": [
       "<Figure size 640x480 with 1 Axes>"
      ]
     },
     "metadata": {},
     "output_type": "display_data"
    }
   ],
   "source": [
    "# Check the distribution of text lengths for input events\n",
    "train_data['text_length'] = train_data['EventA'].apply(len) + train_data['EventB'].apply(len)\n",
    "train_data['text_length'].plot(kind='hist', bins=50)\n",
    "plt.xlabel('Text Length')\n",
    "plt.ylabel('Frequency')\n",
    "plt.title('Distribution of Event Text Lengths')\n",
    "plt.show()"
   ]
  },
  {
   "cell_type": "code",
   "execution_count": 9,
   "metadata": {
    "colab": {
     "base_uri": "https://localhost:8080/"
    },
    "executionInfo": {
     "elapsed": 9,
     "status": "ok",
     "timestamp": 1731993857648,
     "user": {
      "displayName": "Tsugumi17",
      "userId": "11013398911568640638"
     },
     "user_tz": -480
    },
    "id": "6BRh8rWRf8HM",
    "outputId": "6ae80a25-cd66-4dd4-d641-0d8fb77ed744"
   },
   "outputs": [
    {
     "data": {
      "text/plain": [
       "array(['xEffect', 'xNeed', 'xWant', 'xReact', 'xAttr', 'xIntent',\n",
       "       'oReact', 'oEffect', 'oWant'], dtype=object)"
      ]
     },
     "execution_count": 9,
     "metadata": {},
     "output_type": "execute_result"
    }
   ],
   "source": [
    "train_data[\"relation\"].unique()"
   ]
  },
  {
   "cell_type": "code",
   "execution_count": null,
   "metadata": {
    "colab": {
     "base_uri": "https://localhost:8080/"
    },
    "executionInfo": {
     "elapsed": 9,
     "status": "ok",
     "timestamp": 1731993857649,
     "user": {
      "displayName": "Tsugumi17",
      "userId": "11013398911568640638"
     },
     "user_tz": -480
    },
    "id": "Xi4NQpQOks0-",
    "outputId": "79a0150f-df51-4bf3-c623-7c0de11a52a3"
   },
   "outputs": [
    {
     "name": "stdout",
     "output_type": "stream",
     "text": [
      "Relation Vocabulary: {'xEffect': 0, 'xNeed': 1, 'xWant': 2, 'xReact': 3, 'xAttr': 4, 'xIntent': 5, 'oReact': 6, 'oEffect': 7, 'oWant': 8}\n"
     ]
    }
   ],
   "source": [
    "# Step 1: Construct the relation vocabulary\n",
    "relations = train_data['relation'].unique()\n",
    "relation_vocab = {relation: idx for idx, relation in enumerate(relations)}\n",
    "print(\"Relation Vocabulary:\", relation_vocab)"
   ]
  },
  {
   "cell_type": "markdown",
   "metadata": {
    "id": "gOGnQIWtzj_9"
   },
   "source": [
    "## Resampling (will not use)\n",
    "\n",
    "SMOTE is not suitable for text data because the feature space of text data is not suitable for interpolation."
   ]
  },
  {
   "cell_type": "code",
   "execution_count": null,
   "metadata": {
    "id": "ivlqWDo3zpnc"
   },
   "outputs": [],
   "source": [
    "# from imblearn.over_sampling import SMOTE\n",
    "\n",
    "# train_features_np = preprocess_input(train_data, vocab)\n",
    "# train_targets_np = train_data['relation'].map(relation_vocab).values\n",
    "\n",
    "# smote = SMOTE()\n",
    "# train_features_resampled, train_targets_resampled = smote.fit_resample(train_features_np, train_targets_np)\n",
    "\n",
    "# # TensorFlow Dataset\n",
    "# train_dataset_resampled = tf.data.Dataset.from_tensor_slices((train_features_resampled, train_targets_resampled))"
   ]
  },
  {
   "cell_type": "code",
   "execution_count": 12,
   "metadata": {
    "colab": {
     "base_uri": "https://localhost:8080/",
     "height": 485
    },
    "executionInfo": {
     "elapsed": 7,
     "status": "ok",
     "timestamp": 1731993870588,
     "user": {
      "displayName": "Tsugumi17",
      "userId": "11013398911568640638"
     },
     "user_tz": -480
    },
    "id": "nUv5aFiiz1Sw",
    "outputId": "74c6d4f4-e8dc-4223-f314-25f4eac5cc45"
   },
   "outputs": [],
   "source": [
    "# resampled_targets_series = pd.Series(train_targets_resampled)\n",
    "# print(len(resampled_targets_series))\n",
    "\n",
    "# # plot out the new resampled data\n",
    "# resampled_targets_series.value_counts().plot(kind='bar')\n",
    "# plt.xlabel('Class Label')\n",
    "# plt.ylabel('Frequency')\n",
    "# plt.title('Class Distribution after Resampling')\n",
    "# plt.show()"
   ]
  },
  {
   "cell_type": "code",
   "execution_count": 13,
   "metadata": {
    "colab": {
     "base_uri": "https://localhost:8080/"
    },
    "executionInfo": {
     "elapsed": 5,
     "status": "ok",
     "timestamp": 1731993870588,
     "user": {
      "displayName": "Tsugumi17",
      "userId": "11013398911568640638"
     },
     "user_tz": -480
    },
    "id": "w6JfSe0g1vze",
    "outputId": "c4c0c18a-3d6a-420c-b02a-85bcc8935a95"
   },
   "outputs": [],
   "source": [
    "# print(train_dataset_resampled)"
   ]
  },
  {
   "cell_type": "markdown",
   "metadata": {
    "id": "0-qeYaOn9brZ"
   },
   "source": [
    "# Data Augmentation"
   ]
  },
  {
   "cell_type": "code",
   "execution_count": null,
   "metadata": {
    "colab": {
     "base_uri": "https://localhost:8080/"
    },
    "executionInfo": {
     "elapsed": 2494,
     "status": "ok",
     "timestamp": 1731995861640,
     "user": {
      "displayName": "Tsugumi17",
      "userId": "11013398911568640638"
     },
     "user_tz": -480
    },
    "id": "ztMPzr3b94v7",
    "outputId": "3aa2147b-92db-48e9-ba23-a2f59c0cbc6d"
   },
   "outputs": [
    {
     "name": "stderr",
     "output_type": "stream",
     "text": [
      "[nltk_data] Downloading package wordnet to ....\n",
      "[nltk_data]   Package wordnet is already up-to-date!\n",
      "[nltk_data] Downloading package omw-1.4 to ....\n",
      "[nltk_data]   Package omw-1.4 is already up-to-date!\n"
     ]
    }
   ],
   "source": [
    "import nltk\n",
    "from nltk.corpus import wordnet\n",
    "\n",
    "# Set the download directory for NLTK data\n",
    "nltk.data.path.append(FOLDER)\n",
    "# Download WordNet data\n",
    "nltk.download('wordnet', download_dir=FOLDER)\n",
    "nltk.download('omw-1.4', download_dir=FOLDER)\n",
    "\n",
    "def synonym_replacement(sentence, n=2):\n",
    "    words = sentence.split()\n",
    "    new_words = words.copy()\n",
    "    # Create a list of words that have synonyms in WordNet\n",
    "    random_word_list = list(set([word for word in words if wordnet.synsets(word)]))\n",
    "    random.shuffle(random_word_list)\n",
    "    num_replaced = 0\n",
    "    for random_word in random_word_list:\n",
    "        synonyms = wordnet.synsets(random_word)\n",
    "        if synonyms:\n",
    "            # Get the first synonym\n",
    "            synonym = synonyms[0].lemmas()[0].name() \n",
    "            if synonym != random_word:\n",
    "                # Replace the word with its synonym\n",
    "                new_words = [synonym if word == random_word else word for word in new_words]\n",
    "                num_replaced += 1\n",
    "            if num_replaced >= n:\n",
    "                break\n",
    "    return ' '.join(new_words)"
   ]
  },
  {
   "cell_type": "code",
   "execution_count": null,
   "metadata": {
    "id": "64dVRnGt_lHs"
   },
   "outputs": [],
   "source": [
    "augmented_data = []\n",
    "\n",
    "for _, row in train_data.iterrows():\n",
    "    event_a = row['EventA']\n",
    "    event_b = row['EventB']\n",
    "    relation = row['relation']\n",
    "\n",
    "    # Original data\n",
    "    augmented_data.append({'EventA': event_a, 'EventB': event_b, 'relation': relation})\n",
    "\n",
    "    # Perform data augmentation on EventA and EventB separately\n",
    "    augmented_event_a = synonym_replacement(event_a)\n",
    "    augmented_event_b = synonym_replacement(event_b)\n",
    "\n",
    "    # Add augmented data\n",
    "    augmented_data.append({'EventA': augmented_event_a, 'EventB': event_b, 'relation': relation})\n",
    "    augmented_data.append({'EventA': event_a, 'EventB': augmented_event_b, 'relation': relation})\n",
    "    augmented_data.append({'EventA': augmented_event_a, 'EventB': augmented_event_b, 'relation': relation})\n",
    "\n",
    "augmented_df = pd.DataFrame(augmented_data)"
   ]
  },
  {
   "cell_type": "code",
   "execution_count": null,
   "metadata": {
    "colab": {
     "base_uri": "https://localhost:8080/"
    },
    "executionInfo": {
     "elapsed": 4913,
     "status": "ok",
     "timestamp": 1731996352566,
     "user": {
      "displayName": "Tsugumi17",
      "userId": "11013398911568640638"
     },
     "user_tz": -480
    },
    "id": "6xq1IcKE_nKf",
    "outputId": "06844537-5b56-4f06-bb4d-da588ad039b3"
   },
   "outputs": [
    {
     "name": "stdout",
     "output_type": "stream",
     "text": [
      "Vocabulary size: 85078\n"
     ]
    }
   ],
   "source": [
    "# Get all text\n",
    "all_text = augmented_df['EventA'].tolist() + augmented_df['EventB'].tolist()\n",
    "\n",
    "# Tokenize\n",
    "all_tokens = []\n",
    "for text in all_text:\n",
    "    tokens = text.split()\n",
    "    all_tokens.extend(tokens)\n",
    "\n",
    "# Count word frequencies\n",
    "token_counter = Counter(all_tokens)\n",
    "\n",
    "# Create vocabulary\n",
    "vocab = {word: idx + 1 for idx, (word, _) in enumerate(token_counter.items())}\n",
    "vocab['<unk>'] = 0  # Unknown word\n",
    "print(f\"Vocabulary size: {len(vocab)}\")"
   ]
  },
  {
   "cell_type": "code",
   "execution_count": 17,
   "metadata": {},
   "outputs": [
    {
     "data": {
      "text/html": [
       "<div>\n",
       "<style scoped>\n",
       "    .dataframe tbody tr th:only-of-type {\n",
       "        vertical-align: middle;\n",
       "    }\n",
       "\n",
       "    .dataframe tbody tr th {\n",
       "        vertical-align: top;\n",
       "    }\n",
       "\n",
       "    .dataframe thead th {\n",
       "        text-align: right;\n",
       "    }\n",
       "</style>\n",
       "<table border=\"1\" class=\"dataframe\">\n",
       "  <thead>\n",
       "    <tr style=\"text-align: right;\">\n",
       "      <th></th>\n",
       "      <th>EventA</th>\n",
       "      <th>EventB</th>\n",
       "      <th>relation</th>\n",
       "    </tr>\n",
       "  </thead>\n",
       "  <tbody>\n",
       "    <tr>\n",
       "      <th>0</th>\n",
       "      <td>PersonX causes trouble</td>\n",
       "      <td>['Is arrested', 'Thrown in jail']</td>\n",
       "      <td>xEffect</td>\n",
       "    </tr>\n",
       "    <tr>\n",
       "      <th>1</th>\n",
       "      <td>PersonX cause trouble</td>\n",
       "      <td>['Is arrested', 'Thrown in jail']</td>\n",
       "      <td>xEffect</td>\n",
       "    </tr>\n",
       "    <tr>\n",
       "      <th>2</th>\n",
       "      <td>PersonX causes trouble</td>\n",
       "      <td>['Is arrested', 'Thrown inch jail']</td>\n",
       "      <td>xEffect</td>\n",
       "    </tr>\n",
       "    <tr>\n",
       "      <th>3</th>\n",
       "      <td>PersonX cause trouble</td>\n",
       "      <td>['Is arrested', 'Thrown inch jail']</td>\n",
       "      <td>xEffect</td>\n",
       "    </tr>\n",
       "    <tr>\n",
       "      <th>4</th>\n",
       "      <td>PersonX drops off the radar</td>\n",
       "      <td>['has peace an quiet', 'gets more sleep']</td>\n",
       "      <td>xEffect</td>\n",
       "    </tr>\n",
       "    <tr>\n",
       "      <th>...</th>\n",
       "      <td>...</td>\n",
       "      <td>...</td>\n",
       "      <td>...</td>\n",
       "    </tr>\n",
       "    <tr>\n",
       "      <th>1279095</th>\n",
       "      <td>PersonX blow PersonY's nose</td>\n",
       "      <td>['to protest', 'to thank PersonX']</td>\n",
       "      <td>oWant</td>\n",
       "    </tr>\n",
       "    <tr>\n",
       "      <th>1279096</th>\n",
       "      <td>PersonX gives PersonY PersonX's attention</td>\n",
       "      <td>['openminded', 'closer to persony']</td>\n",
       "      <td>xReact</td>\n",
       "    </tr>\n",
       "    <tr>\n",
       "      <th>1279097</th>\n",
       "      <td>PersonX give PersonY PersonX's attention</td>\n",
       "      <td>['openminded', 'closer to persony']</td>\n",
       "      <td>xReact</td>\n",
       "    </tr>\n",
       "    <tr>\n",
       "      <th>1279098</th>\n",
       "      <td>PersonX gives PersonY PersonX's attention</td>\n",
       "      <td>['openminded', 'closer to persony']</td>\n",
       "      <td>xReact</td>\n",
       "    </tr>\n",
       "    <tr>\n",
       "      <th>1279099</th>\n",
       "      <td>PersonX give PersonY PersonX's attention</td>\n",
       "      <td>['openminded', 'closer to persony']</td>\n",
       "      <td>xReact</td>\n",
       "    </tr>\n",
       "  </tbody>\n",
       "</table>\n",
       "<p>1279100 rows × 3 columns</p>\n",
       "</div>"
      ],
      "text/plain": [
       "                                            EventA  \\\n",
       "0                           PersonX causes trouble   \n",
       "1                            PersonX cause trouble   \n",
       "2                           PersonX causes trouble   \n",
       "3                            PersonX cause trouble   \n",
       "4                      PersonX drops off the radar   \n",
       "...                                            ...   \n",
       "1279095                PersonX blow PersonY's nose   \n",
       "1279096  PersonX gives PersonY PersonX's attention   \n",
       "1279097   PersonX give PersonY PersonX's attention   \n",
       "1279098  PersonX gives PersonY PersonX's attention   \n",
       "1279099   PersonX give PersonY PersonX's attention   \n",
       "\n",
       "                                            EventB relation  \n",
       "0                ['Is arrested', 'Thrown in jail']  xEffect  \n",
       "1                ['Is arrested', 'Thrown in jail']  xEffect  \n",
       "2              ['Is arrested', 'Thrown inch jail']  xEffect  \n",
       "3              ['Is arrested', 'Thrown inch jail']  xEffect  \n",
       "4        ['has peace an quiet', 'gets more sleep']  xEffect  \n",
       "...                                            ...      ...  \n",
       "1279095         ['to protest', 'to thank PersonX']    oWant  \n",
       "1279096        ['openminded', 'closer to persony']   xReact  \n",
       "1279097        ['openminded', 'closer to persony']   xReact  \n",
       "1279098        ['openminded', 'closer to persony']   xReact  \n",
       "1279099        ['openminded', 'closer to persony']   xReact  \n",
       "\n",
       "[1279100 rows x 3 columns]"
      ]
     },
     "execution_count": 17,
     "metadata": {},
     "output_type": "execute_result"
    }
   ],
   "source": [
    "augmented_df.to_csv(f'{FOLDER}/augmented_data.csv', index=False)\n",
    "augmented_df"
   ]
  },
  {
   "cell_type": "markdown",
   "metadata": {},
   "source": [
    "# Data Preprocessing"
   ]
  },
  {
   "cell_type": "code",
   "execution_count": 18,
   "metadata": {},
   "outputs": [
    {
     "name": "stdout",
     "output_type": "stream",
     "text": [
      "EventA: PersonX causes trouble\n",
      "EventB: ['Is arrested', 'Thrown in jail']\n"
     ]
    }
   ],
   "source": [
    "print(\"EventA:\", augmented_df.iloc[0]['EventA'])\n",
    "print(\"EventB:\", augmented_df.iloc[0]['EventB'])"
   ]
  },
  {
   "cell_type": "markdown",
   "metadata": {},
   "source": [
    "we need to combine event a and event b into one event, and then use the combined event to train the model."
   ]
  },
  {
   "cell_type": "code",
   "execution_count": 19,
   "metadata": {},
   "outputs": [
    {
     "data": {
      "text/html": [
       "<div>\n",
       "<style scoped>\n",
       "    .dataframe tbody tr th:only-of-type {\n",
       "        vertical-align: middle;\n",
       "    }\n",
       "\n",
       "    .dataframe tbody tr th {\n",
       "        vertical-align: top;\n",
       "    }\n",
       "\n",
       "    .dataframe thead th {\n",
       "        text-align: right;\n",
       "    }\n",
       "</style>\n",
       "<table border=\"1\" class=\"dataframe\">\n",
       "  <thead>\n",
       "    <tr style=\"text-align: right;\">\n",
       "      <th></th>\n",
       "      <th>EventA</th>\n",
       "      <th>EventB</th>\n",
       "      <th>relation</th>\n",
       "    </tr>\n",
       "  </thead>\n",
       "  <tbody>\n",
       "    <tr>\n",
       "      <th>0</th>\n",
       "      <td>PersonX causes trouble</td>\n",
       "      <td>Is arrested Thrown in jail</td>\n",
       "      <td>xEffect</td>\n",
       "    </tr>\n",
       "    <tr>\n",
       "      <th>1</th>\n",
       "      <td>PersonX cause trouble</td>\n",
       "      <td>Is arrested Thrown in jail</td>\n",
       "      <td>xEffect</td>\n",
       "    </tr>\n",
       "    <tr>\n",
       "      <th>2</th>\n",
       "      <td>PersonX causes trouble</td>\n",
       "      <td>Is arrested Thrown inch jail</td>\n",
       "      <td>xEffect</td>\n",
       "    </tr>\n",
       "    <tr>\n",
       "      <th>3</th>\n",
       "      <td>PersonX cause trouble</td>\n",
       "      <td>Is arrested Thrown inch jail</td>\n",
       "      <td>xEffect</td>\n",
       "    </tr>\n",
       "    <tr>\n",
       "      <th>4</th>\n",
       "      <td>PersonX drops off the radar</td>\n",
       "      <td>has peace an quiet gets more sleep</td>\n",
       "      <td>xEffect</td>\n",
       "    </tr>\n",
       "  </tbody>\n",
       "</table>\n",
       "</div>"
      ],
      "text/plain": [
       "                        EventA                              EventB relation\n",
       "0       PersonX causes trouble          Is arrested Thrown in jail  xEffect\n",
       "1        PersonX cause trouble          Is arrested Thrown in jail  xEffect\n",
       "2       PersonX causes trouble        Is arrested Thrown inch jail  xEffect\n",
       "3        PersonX cause trouble        Is arrested Thrown inch jail  xEffect\n",
       "4  PersonX drops off the radar  has peace an quiet gets more sleep  xEffect"
      ]
     },
     "execution_count": 19,
     "metadata": {},
     "output_type": "execute_result"
    }
   ],
   "source": [
    "# remove []\n",
    "augmented_df['EventB'] = augmented_df['EventB'].str.replace('[', '').str.replace(']', '')\n",
    "# remove ' and ,\n",
    "augmented_df['EventB'] = augmented_df['EventB'].str.replace(\"'\", '').str.replace(',', '')\n",
    "augmented_df.head()"
   ]
  },
  {
   "cell_type": "markdown",
   "metadata": {},
   "source": [
    "manually remove the data with quote in the text."
   ]
  },
  {
   "cell_type": "code",
   "execution_count": 20,
   "metadata": {},
   "outputs": [
    {
     "data": {
      "text/html": [
       "<div>\n",
       "<style scoped>\n",
       "    .dataframe tbody tr th:only-of-type {\n",
       "        vertical-align: middle;\n",
       "    }\n",
       "\n",
       "    .dataframe tbody tr th {\n",
       "        vertical-align: top;\n",
       "    }\n",
       "\n",
       "    .dataframe thead th {\n",
       "        text-align: right;\n",
       "    }\n",
       "</style>\n",
       "<table border=\"1\" class=\"dataframe\">\n",
       "  <thead>\n",
       "    <tr style=\"text-align: right;\">\n",
       "      <th></th>\n",
       "      <th>EventA</th>\n",
       "      <th>EventB</th>\n",
       "      <th>relation</th>\n",
       "      <th>CombinedEventAB</th>\n",
       "    </tr>\n",
       "  </thead>\n",
       "  <tbody>\n",
       "    <tr>\n",
       "      <th>0</th>\n",
       "      <td>PersonX causes trouble</td>\n",
       "      <td>Is arrested Thrown in jail</td>\n",
       "      <td>xEffect</td>\n",
       "      <td>PersonX causes trouble Is arrested Thrown in jail</td>\n",
       "    </tr>\n",
       "    <tr>\n",
       "      <th>1</th>\n",
       "      <td>PersonX cause trouble</td>\n",
       "      <td>Is arrested Thrown in jail</td>\n",
       "      <td>xEffect</td>\n",
       "      <td>PersonX cause trouble Is arrested Thrown in jail</td>\n",
       "    </tr>\n",
       "    <tr>\n",
       "      <th>2</th>\n",
       "      <td>PersonX causes trouble</td>\n",
       "      <td>Is arrested Thrown inch jail</td>\n",
       "      <td>xEffect</td>\n",
       "      <td>PersonX causes trouble Is arrested Thrown inch...</td>\n",
       "    </tr>\n",
       "    <tr>\n",
       "      <th>3</th>\n",
       "      <td>PersonX cause trouble</td>\n",
       "      <td>Is arrested Thrown inch jail</td>\n",
       "      <td>xEffect</td>\n",
       "      <td>PersonX cause trouble Is arrested Thrown inch ...</td>\n",
       "    </tr>\n",
       "    <tr>\n",
       "      <th>4</th>\n",
       "      <td>PersonX drops off the radar</td>\n",
       "      <td>has peace an quiet gets more sleep</td>\n",
       "      <td>xEffect</td>\n",
       "      <td>PersonX drops off the radar has peace an quiet...</td>\n",
       "    </tr>\n",
       "  </tbody>\n",
       "</table>\n",
       "</div>"
      ],
      "text/plain": [
       "                        EventA                              EventB relation  \\\n",
       "0       PersonX causes trouble          Is arrested Thrown in jail  xEffect   \n",
       "1        PersonX cause trouble          Is arrested Thrown in jail  xEffect   \n",
       "2       PersonX causes trouble        Is arrested Thrown inch jail  xEffect   \n",
       "3        PersonX cause trouble        Is arrested Thrown inch jail  xEffect   \n",
       "4  PersonX drops off the radar  has peace an quiet gets more sleep  xEffect   \n",
       "\n",
       "                                     CombinedEventAB  \n",
       "0  PersonX causes trouble Is arrested Thrown in jail  \n",
       "1   PersonX cause trouble Is arrested Thrown in jail  \n",
       "2  PersonX causes trouble Is arrested Thrown inch...  \n",
       "3  PersonX cause trouble Is arrested Thrown inch ...  \n",
       "4  PersonX drops off the radar has peace an quiet...  "
      ]
     },
     "execution_count": 20,
     "metadata": {},
     "output_type": "execute_result"
    }
   ],
   "source": [
    "# Combine EventA and EventB into one column and convert list of words in EventB to words\n",
    "augmented_df['CombinedEventAB'] = augmented_df['EventA'] + \" \" + augmented_df['EventB']\n",
    "augmented_df.head()"
   ]
  },
  {
   "cell_type": "code",
   "execution_count": 21,
   "metadata": {},
   "outputs": [
    {
     "data": {
      "text/html": [
       "<div>\n",
       "<style scoped>\n",
       "    .dataframe tbody tr th:only-of-type {\n",
       "        vertical-align: middle;\n",
       "    }\n",
       "\n",
       "    .dataframe tbody tr th {\n",
       "        vertical-align: top;\n",
       "    }\n",
       "\n",
       "    .dataframe thead th {\n",
       "        text-align: right;\n",
       "    }\n",
       "</style>\n",
       "<table border=\"1\" class=\"dataframe\">\n",
       "  <thead>\n",
       "    <tr style=\"text-align: right;\">\n",
       "      <th></th>\n",
       "      <th>EventA</th>\n",
       "      <th>EventB</th>\n",
       "      <th>relation</th>\n",
       "      <th>CombinedEventAB</th>\n",
       "    </tr>\n",
       "  </thead>\n",
       "  <tbody>\n",
       "    <tr>\n",
       "      <th>0</th>\n",
       "      <td>PersonX causes trouble</td>\n",
       "      <td>Is arrested Thrown in jail</td>\n",
       "      <td>xEffect</td>\n",
       "      <td>PersonX causes trouble Is arrested Thrown in jail</td>\n",
       "    </tr>\n",
       "    <tr>\n",
       "      <th>1</th>\n",
       "      <td>PersonX cause trouble</td>\n",
       "      <td>Is arrested Thrown in jail</td>\n",
       "      <td>xEffect</td>\n",
       "      <td>PersonX cause trouble Is arrested Thrown in jail</td>\n",
       "    </tr>\n",
       "    <tr>\n",
       "      <th>2</th>\n",
       "      <td>PersonX causes trouble</td>\n",
       "      <td>Is arrested Thrown inch jail</td>\n",
       "      <td>xEffect</td>\n",
       "      <td>PersonX causes trouble Is arrested Thrown inch...</td>\n",
       "    </tr>\n",
       "    <tr>\n",
       "      <th>3</th>\n",
       "      <td>PersonX cause trouble</td>\n",
       "      <td>Is arrested Thrown inch jail</td>\n",
       "      <td>xEffect</td>\n",
       "      <td>PersonX cause trouble Is arrested Thrown inch ...</td>\n",
       "    </tr>\n",
       "    <tr>\n",
       "      <th>4</th>\n",
       "      <td>PersonX drops off the radar</td>\n",
       "      <td>has peace an quiet gets more sleep</td>\n",
       "      <td>xEffect</td>\n",
       "      <td>PersonX drops off the radar has peace an quiet...</td>\n",
       "    </tr>\n",
       "    <tr>\n",
       "      <th>...</th>\n",
       "      <td>...</td>\n",
       "      <td>...</td>\n",
       "      <td>...</td>\n",
       "      <td>...</td>\n",
       "    </tr>\n",
       "    <tr>\n",
       "      <th>1279095</th>\n",
       "      <td>PersonX blow PersonY's nose</td>\n",
       "      <td>to protest to thank PersonX</td>\n",
       "      <td>oWant</td>\n",
       "      <td>PersonX blow PersonY's nose to protest to than...</td>\n",
       "    </tr>\n",
       "    <tr>\n",
       "      <th>1279096</th>\n",
       "      <td>PersonX gives PersonY PersonX's attention</td>\n",
       "      <td>openminded closer to persony</td>\n",
       "      <td>xReact</td>\n",
       "      <td>PersonX gives PersonY PersonX's attention open...</td>\n",
       "    </tr>\n",
       "    <tr>\n",
       "      <th>1279097</th>\n",
       "      <td>PersonX give PersonY PersonX's attention</td>\n",
       "      <td>openminded closer to persony</td>\n",
       "      <td>xReact</td>\n",
       "      <td>PersonX give PersonY PersonX's attention openm...</td>\n",
       "    </tr>\n",
       "    <tr>\n",
       "      <th>1279098</th>\n",
       "      <td>PersonX gives PersonY PersonX's attention</td>\n",
       "      <td>openminded closer to persony</td>\n",
       "      <td>xReact</td>\n",
       "      <td>PersonX gives PersonY PersonX's attention open...</td>\n",
       "    </tr>\n",
       "    <tr>\n",
       "      <th>1279099</th>\n",
       "      <td>PersonX give PersonY PersonX's attention</td>\n",
       "      <td>openminded closer to persony</td>\n",
       "      <td>xReact</td>\n",
       "      <td>PersonX give PersonY PersonX's attention openm...</td>\n",
       "    </tr>\n",
       "  </tbody>\n",
       "</table>\n",
       "<p>1279100 rows × 4 columns</p>\n",
       "</div>"
      ],
      "text/plain": [
       "                                            EventA  \\\n",
       "0                           PersonX causes trouble   \n",
       "1                            PersonX cause trouble   \n",
       "2                           PersonX causes trouble   \n",
       "3                            PersonX cause trouble   \n",
       "4                      PersonX drops off the radar   \n",
       "...                                            ...   \n",
       "1279095                PersonX blow PersonY's nose   \n",
       "1279096  PersonX gives PersonY PersonX's attention   \n",
       "1279097   PersonX give PersonY PersonX's attention   \n",
       "1279098  PersonX gives PersonY PersonX's attention   \n",
       "1279099   PersonX give PersonY PersonX's attention   \n",
       "\n",
       "                                     EventB relation  \\\n",
       "0                Is arrested Thrown in jail  xEffect   \n",
       "1                Is arrested Thrown in jail  xEffect   \n",
       "2              Is arrested Thrown inch jail  xEffect   \n",
       "3              Is arrested Thrown inch jail  xEffect   \n",
       "4        has peace an quiet gets more sleep  xEffect   \n",
       "...                                     ...      ...   \n",
       "1279095         to protest to thank PersonX    oWant   \n",
       "1279096        openminded closer to persony   xReact   \n",
       "1279097        openminded closer to persony   xReact   \n",
       "1279098        openminded closer to persony   xReact   \n",
       "1279099        openminded closer to persony   xReact   \n",
       "\n",
       "                                           CombinedEventAB  \n",
       "0        PersonX causes trouble Is arrested Thrown in jail  \n",
       "1         PersonX cause trouble Is arrested Thrown in jail  \n",
       "2        PersonX causes trouble Is arrested Thrown inch...  \n",
       "3        PersonX cause trouble Is arrested Thrown inch ...  \n",
       "4        PersonX drops off the radar has peace an quiet...  \n",
       "...                                                    ...  \n",
       "1279095  PersonX blow PersonY's nose to protest to than...  \n",
       "1279096  PersonX gives PersonY PersonX's attention open...  \n",
       "1279097  PersonX give PersonY PersonX's attention openm...  \n",
       "1279098  PersonX gives PersonY PersonX's attention open...  \n",
       "1279099  PersonX give PersonY PersonX's attention openm...  \n",
       "\n",
       "[1279100 rows x 4 columns]"
      ]
     },
     "execution_count": 21,
     "metadata": {},
     "output_type": "execute_result"
    }
   ],
   "source": [
    "augmented_df"
   ]
  },
  {
   "cell_type": "markdown",
   "metadata": {
    "id": "GYVHtgCMzlo1"
   },
   "source": [
    "# Data -> tf format"
   ]
  },
  {
   "cell_type": "code",
   "execution_count": 40,
   "metadata": {
    "id": "L_HQ3APvboCb"
   },
   "outputs": [],
   "source": [
    "# Step 3: Prepare the dataset using TensorFlow\n",
    "class AtomicDataset(tf.data.Dataset):\n",
    "    def __new__(cls, dataframe, vocab, relation_vocab, max_length=30):\n",
    "        # Convert the dataframe into sequences of indices\n",
    "        original_features_list = []\n",
    "        features_list = []\n",
    "        targets_list = []\n",
    "\n",
    "        for _, row in dataframe.iterrows():\n",
    "            # Concatenate EventA and EventB as the input features\n",
    "            original_features = row['CombinedEventAB'] # which is the combinedEventAB\n",
    "            features = original_features \n",
    "            tokens = features.split()\n",
    "\n",
    "            # Convert tokens to indices using vocab\n",
    "            feature_indices = [vocab.get(word, 0) for word in tokens]  # Use 0 if word is not in vocab (<unk>)\n",
    "\n",
    "            # Padding or trimming to ensure consistent length\n",
    "            if len(feature_indices) > max_length:\n",
    "                feature_indices = feature_indices[:max_length]  # Trim to max_length\n",
    "            else:\n",
    "                feature_indices += [0] * (max_length - len(feature_indices))  # Pad with zeros\n",
    "\n",
    "            # Append features and target to the list\n",
    "            original_features_list.append(original_features)\n",
    "            features_list.append(feature_indices)\n",
    "            targets_list.append(relation_vocab[row['relation']])\n",
    "\n",
    "        # Convert lists to numpy arrays\n",
    "        original_features_np = np.array(original_features_list, dtype=np.str_)\n",
    "        features_np = np.array(features_list, dtype=np.int32)\n",
    "        targets_np = np.array(targets_list, dtype=np.int32)\n",
    "\n",
    "        # Create a TensorFlow dataset\n",
    "        # return tf.data.Dataset.from_tensor_slices((original_features_np, features_np, targets_np)) # only used to check before training, not used anymore\n",
    "        return tf.data.Dataset.from_tensor_slices((features_np, targets_np))"
   ]
  },
  {
   "cell_type": "code",
   "execution_count": 41,
   "metadata": {
    "id": "1VEo6Wo6oJZr"
   },
   "outputs": [],
   "source": [
    "# Step 4: Create training and validation datasets\n",
    "train_data_augmented, val_data_augmented = train_test_split(augmented_df, test_size=0.2, random_state=42)\n",
    "\n",
    "# Create TensorFlow datasets from the augmented data\n",
    "train_dataset = AtomicDataset(train_data_augmented, vocab, relation_vocab, max_length=30)\n",
    "val_dataset = AtomicDataset(val_data_augmented, vocab, relation_vocab, max_length=30)\n",
    "\n",
    "# Set batch size\n",
    "batch_size = 512\n",
    "\n",
    "# Shuffle and batch the training dataset, and prefetch for performance optimization\n",
    "train_dataset = train_dataset.shuffle(buffer_size=len(train_data_augmented)).batch(batch_size).prefetch(buffer_size=tf.data.AUTOTUNE)\n",
    "val_dataset = val_dataset.batch(batch_size).prefetch(buffer_size=tf.data.AUTOTUNE)"
   ]
  },
  {
   "cell_type": "markdown",
   "metadata": {
    "id": "PURe9uqhyi9D"
   },
   "source": [
    "testing dataset"
   ]
  },
  {
   "cell_type": "code",
   "execution_count": 42,
   "metadata": {
    "colab": {
     "base_uri": "https://localhost:8080/"
    },
    "executionInfo": {
     "elapsed": 3529,
     "status": "ok",
     "timestamp": 1731997391841,
     "user": {
      "displayName": "Tsugumi17",
      "userId": "11013398911568640638"
     },
     "user_tz": -480
    },
    "id": "D34v3wmoymcD",
    "outputId": "b3554125-649b-45a0-f6a8-f6dda85c4af0"
   },
   "outputs": [
    {
     "name": "stdout",
     "output_type": "stream",
     "text": [
      "Features shape: (512, 30)\n",
      "Target shape: (512,)\n",
      "Features (Index 0): [[   1 1103  104 ...    0    0    0]\n",
      " [   1   11 5067 ...    0    0    0]\n",
      " [   1   77   30 ...    0    0    0]\n",
      " ...\n",
      " [   1  641   36 ...    0    0    0]\n",
      " [   1 3059   16 ...    0    0    0]\n",
      " [   1  161   34 ...    0    0    0]]\n",
      "Target (Index 0): [5 5 2 2 2 4 0 4 1 3 2 1 2 0 5 0 7 4 1 2 0 7 4 4 8 8 4 8 3 4 3 5 0 0 5 3 5\n",
      " 0 8 4 5 6 0 3 2 2 3 3 3 0 2 2 6 1 5 1 3 5 5 3 2 3 0 2 0 2 1 0 2 6 6 2 8 0\n",
      " 2 2 3 0 6 3 1 3 3 4 4 8 0 0 3 2 0 6 4 7 0 5 3 0 3 0 0 0 6 4 2 0 5 4 1 4 3\n",
      " 2 2 6 2 0 3 3 0 3 8 2 4 5 4 6 3 3 0 4 2 5 5 7 1 4 4 7 4 2 2 3 4 1 7 1 6 0\n",
      " 8 6 8 3 4 2 2 8 4 0 3 7 4 0 4 8 0 4 0 2 1 4 4 3 0 3 4 4 4 2 4 0 3 2 1 1 3\n",
      " 1 7 2 0 1 3 0 4 6 4 2 2 4 3 8 2 3 3 8 1 6 3 0 4 7 4 1 8 2 1 4 8 1 6 1 1 0\n",
      " 1 7 1 2 7 6 2 3 8 4 8 4 3 6 5 4 3 2 4 0 4 4 5 1 0 3 3 2 5 6 8 1 1 2 4 0 2\n",
      " 6 1 3 1 0 3 3 4 2 2 4 4 3 3 3 3 1 4 4 5 7 1 2 4 5 4 4 0 5 8 6 3 5 2 8 3 4\n",
      " 8 2 0 6 6 0 2 2 3 4 8 4 3 0 6 1 1 4 5 0 4 2 3 4 3 8 0 2 4 2 2 4 3 4 8 1 4\n",
      " 5 1 1 5 0 0 5 4 3 2 8 3 5 3 2 7 3 8 2 2 4 7 5 0 0 6 3 3 1 6 4 5 4 3 2 7 0\n",
      " 0 0 4 0 4 0 4 3 4 5 0 3 1 3 4 8 4 3 1 8 8 4 2 0 8 1 5 0 2 5 4 1 3 3 1 2 6\n",
      " 3 7 5 0 0 2 3 4 2 0 1 0 0 1 8 2 1 4 0 1 2 4 3 5 4 3 5 0 0 6 3 6 4 1 3 4 0\n",
      " 8 6 0 4 4 3 1 5 2 8 2 7 1 0 3 3 8 3 3 8 2 3 5 4 3 4 1 3 2 2 5 0 4 2 4 7 5\n",
      " 0 5 5 5 2 4 6 1 3 2 2 4 2 0 4 2 5 0 5 2 5 2 1 8 5 4 2 0 2 8 4]\n"
     ]
    }
   ],
   "source": [
    "# Check 1 sample from the dataset\n",
    "# with original feature debugging is commented out as input dim is 2 but not 3\n",
    "# for i, (original_features, features, target) in enumerate(train_dataset.take(1)):\n",
    "    # original_features_decoded = [feat.decode('utf-8') if isinstance(feat, bytes) else feat for feat in original_features.numpy()]\n",
    "    # print(f\"Original Features (Index {i}): {' '.join(original_features_decoded)}\")\n",
    "    # print(f\"Encoded Features (Index {i}): {features.numpy()}\")\n",
    "    # print(f\"Target (Index {i}): {target.numpy()}\")\n",
    "\n",
    "for i, (features, target) in enumerate(train_dataset.take(1)):\n",
    "    print(f\"Features shape: {features.shape}\")\n",
    "    print(f\"Target shape: {target.shape}\")\n",
    "    print(f\"Features (Index {i}): {features.numpy()}\")\n",
    "    print(f\"Target (Index {i}): {target.numpy()}\")"
   ]
  },
  {
   "cell_type": "markdown",
   "metadata": {
    "id": "V_4uTVIOZ6NJ"
   },
   "source": [
    "# Training"
   ]
  },
  {
   "cell_type": "code",
   "execution_count": null,
   "metadata": {
    "colab": {
     "base_uri": "https://localhost:8080/",
     "height": 347
    },
    "executionInfo": {
     "elapsed": 365,
     "status": "ok",
     "timestamp": 1731997404697,
     "user": {
      "displayName": "Tsugumi17",
      "userId": "11013398911568640638"
     },
     "user_tz": -480
    },
    "id": "tuhtnVzomxPi",
    "outputId": "ec2e6fa2-41d1-48fe-8c9a-733fbec0a48c"
   },
   "outputs": [
    {
     "data": {
      "text/html": [
       "<pre style=\"white-space:pre;overflow-x:auto;line-height:normal;font-family:Menlo,'DejaVu Sans Mono',consolas,'Courier New',monospace\"><span style=\"font-weight: bold\">Model: \"sequential_1\"</span>\n",
       "</pre>\n"
      ],
      "text/plain": [
       "\u001b[1mModel: \"sequential_1\"\u001b[0m\n"
      ]
     },
     "metadata": {},
     "output_type": "display_data"
    },
    {
     "data": {
      "text/html": [
       "<pre style=\"white-space:pre;overflow-x:auto;line-height:normal;font-family:Menlo,'DejaVu Sans Mono',consolas,'Courier New',monospace\">┏━━━━━━━━━━━━━━━━━━━━━━━━━━━━━━━━━┳━━━━━━━━━━━━━━━━━━━━━━━━┳━━━━━━━━━━━━━━━┓\n",
       "┃<span style=\"font-weight: bold\"> Layer (type)                    </span>┃<span style=\"font-weight: bold\"> Output Shape           </span>┃<span style=\"font-weight: bold\">       Param # </span>┃\n",
       "┡━━━━━━━━━━━━━━━━━━━━━━━━━━━━━━━━━╇━━━━━━━━━━━━━━━━━━━━━━━━╇━━━━━━━━━━━━━━━┩\n",
       "│ embedding_1 (<span style=\"color: #0087ff; text-decoration-color: #0087ff\">Embedding</span>)         │ ?                      │   <span style=\"color: #00af00; text-decoration-color: #00af00\">0</span> (unbuilt) │\n",
       "├─────────────────────────────────┼────────────────────────┼───────────────┤\n",
       "│ lstm_1 (<span style=\"color: #0087ff; text-decoration-color: #0087ff\">LSTM</span>)                   │ ?                      │   <span style=\"color: #00af00; text-decoration-color: #00af00\">0</span> (unbuilt) │\n",
       "├─────────────────────────────────┼────────────────────────┼───────────────┤\n",
       "│ batch_normalization_1           │ ?                      │   <span style=\"color: #00af00; text-decoration-color: #00af00\">0</span> (unbuilt) │\n",
       "│ (<span style=\"color: #0087ff; text-decoration-color: #0087ff\">BatchNormalization</span>)            │                        │               │\n",
       "├─────────────────────────────────┼────────────────────────┼───────────────┤\n",
       "│ dense_2 (<span style=\"color: #0087ff; text-decoration-color: #0087ff\">Dense</span>)                 │ ?                      │   <span style=\"color: #00af00; text-decoration-color: #00af00\">0</span> (unbuilt) │\n",
       "├─────────────────────────────────┼────────────────────────┼───────────────┤\n",
       "│ dropout_1 (<span style=\"color: #0087ff; text-decoration-color: #0087ff\">Dropout</span>)             │ ?                      │             <span style=\"color: #00af00; text-decoration-color: #00af00\">0</span> │\n",
       "├─────────────────────────────────┼────────────────────────┼───────────────┤\n",
       "│ dense_3 (<span style=\"color: #0087ff; text-decoration-color: #0087ff\">Dense</span>)                 │ ?                      │   <span style=\"color: #00af00; text-decoration-color: #00af00\">0</span> (unbuilt) │\n",
       "└─────────────────────────────────┴────────────────────────┴───────────────┘\n",
       "</pre>\n"
      ],
      "text/plain": [
       "┏━━━━━━━━━━━━━━━━━━━━━━━━━━━━━━━━━┳━━━━━━━━━━━━━━━━━━━━━━━━┳━━━━━━━━━━━━━━━┓\n",
       "┃\u001b[1m \u001b[0m\u001b[1mLayer (type)                   \u001b[0m\u001b[1m \u001b[0m┃\u001b[1m \u001b[0m\u001b[1mOutput Shape          \u001b[0m\u001b[1m \u001b[0m┃\u001b[1m \u001b[0m\u001b[1m      Param #\u001b[0m\u001b[1m \u001b[0m┃\n",
       "┡━━━━━━━━━━━━━━━━━━━━━━━━━━━━━━━━━╇━━━━━━━━━━━━━━━━━━━━━━━━╇━━━━━━━━━━━━━━━┩\n",
       "│ embedding_1 (\u001b[38;5;33mEmbedding\u001b[0m)         │ ?                      │   \u001b[38;5;34m0\u001b[0m (unbuilt) │\n",
       "├─────────────────────────────────┼────────────────────────┼───────────────┤\n",
       "│ lstm_1 (\u001b[38;5;33mLSTM\u001b[0m)                   │ ?                      │   \u001b[38;5;34m0\u001b[0m (unbuilt) │\n",
       "├─────────────────────────────────┼────────────────────────┼───────────────┤\n",
       "│ batch_normalization_1           │ ?                      │   \u001b[38;5;34m0\u001b[0m (unbuilt) │\n",
       "│ (\u001b[38;5;33mBatchNormalization\u001b[0m)            │                        │               │\n",
       "├─────────────────────────────────┼────────────────────────┼───────────────┤\n",
       "│ dense_2 (\u001b[38;5;33mDense\u001b[0m)                 │ ?                      │   \u001b[38;5;34m0\u001b[0m (unbuilt) │\n",
       "├─────────────────────────────────┼────────────────────────┼───────────────┤\n",
       "│ dropout_1 (\u001b[38;5;33mDropout\u001b[0m)             │ ?                      │             \u001b[38;5;34m0\u001b[0m │\n",
       "├─────────────────────────────────┼────────────────────────┼───────────────┤\n",
       "│ dense_3 (\u001b[38;5;33mDense\u001b[0m)                 │ ?                      │   \u001b[38;5;34m0\u001b[0m (unbuilt) │\n",
       "└─────────────────────────────────┴────────────────────────┴───────────────┘\n"
      ]
     },
     "metadata": {},
     "output_type": "display_data"
    },
    {
     "data": {
      "text/html": [
       "<pre style=\"white-space:pre;overflow-x:auto;line-height:normal;font-family:Menlo,'DejaVu Sans Mono',consolas,'Courier New',monospace\"><span style=\"font-weight: bold\"> Total params: </span><span style=\"color: #00af00; text-decoration-color: #00af00\">0</span> (0.00 B)\n",
       "</pre>\n"
      ],
      "text/plain": [
       "\u001b[1m Total params: \u001b[0m\u001b[38;5;34m0\u001b[0m (0.00 B)\n"
      ]
     },
     "metadata": {},
     "output_type": "display_data"
    },
    {
     "data": {
      "text/html": [
       "<pre style=\"white-space:pre;overflow-x:auto;line-height:normal;font-family:Menlo,'DejaVu Sans Mono',consolas,'Courier New',monospace\"><span style=\"font-weight: bold\"> Trainable params: </span><span style=\"color: #00af00; text-decoration-color: #00af00\">0</span> (0.00 B)\n",
       "</pre>\n"
      ],
      "text/plain": [
       "\u001b[1m Trainable params: \u001b[0m\u001b[38;5;34m0\u001b[0m (0.00 B)\n"
      ]
     },
     "metadata": {},
     "output_type": "display_data"
    },
    {
     "data": {
      "text/html": [
       "<pre style=\"white-space:pre;overflow-x:auto;line-height:normal;font-family:Menlo,'DejaVu Sans Mono',consolas,'Courier New',monospace\"><span style=\"font-weight: bold\"> Non-trainable params: </span><span style=\"color: #00af00; text-decoration-color: #00af00\">0</span> (0.00 B)\n",
       "</pre>\n"
      ],
      "text/plain": [
       "\u001b[1m Non-trainable params: \u001b[0m\u001b[38;5;34m0\u001b[0m (0.00 B)\n"
      ]
     },
     "metadata": {},
     "output_type": "display_data"
    }
   ],
   "source": [
    "# Step 5: Define LSTM Model\n",
    "vocab_size = len(vocab) + 1  # Add 1 to include <pad> or <unk> token\n",
    "embedding_dim = 64           # Dimension of word embeddings\n",
    "hidden_dim = 256             \n",
    "output_dim = len(relation_vocab)  # Output dimension matches the number of relation classes\n",
    "\n",
    "model = models.Sequential([\n",
    "    layers.Embedding(input_dim=vocab_size, output_dim=embedding_dim),\n",
    "    layers.LSTM(hidden_dim, return_sequences=False, dropout=0.5),\n",
    "    layers.BatchNormalization(), # enhanse convergense\n",
    "    layers.Dense(256, activation='relu'), # Added an extra Dense layer]\n",
    "    layers.Dropout(0.5),  # prevent overfitting\n",
    "    layers.Dense(output_dim, activation='softmax', kernel_regularizer=regularizers.l2(0.01))\n",
    "])\n",
    "\n",
    "model.compile(optimizer='adam', loss='sparse_categorical_crossentropy', metrics=['accuracy'])\n",
    "model.summary()"
   ]
  },
  {
   "cell_type": "code",
   "execution_count": null,
   "metadata": {
    "colab": {
     "base_uri": "https://localhost:8080/"
    },
    "executionInfo": {
     "elapsed": 4606436,
     "status": "ok",
     "timestamp": 1732002021586,
     "user": {
      "displayName": "Tsugumi17",
      "userId": "11013398911568640638"
     },
     "user_tz": -480
    },
    "id": "jEQ6w-bqrDVd",
    "outputId": "48b046f2-586f-49d4-aae0-386de0c1f1e4"
   },
   "outputs": [
    {
     "name": "stdout",
     "output_type": "stream",
     "text": [
      "Epoch 1/20\n"
     ]
    },
    {
     "name": "stdout",
     "output_type": "stream",
     "text": [
      "\u001b[1m1999/1999\u001b[0m \u001b[32m━━━━━━━━━━━━━━━━━━━━\u001b[0m\u001b[37m\u001b[0m \u001b[1m18s\u001b[0m 7ms/step - accuracy: 0.5331 - loss: 1.2415 - val_accuracy: 0.6865 - val_loss: 0.8454\n",
      "Epoch 2/20\n",
      "\u001b[1m1999/1999\u001b[0m \u001b[32m━━━━━━━━━━━━━━━━━━━━\u001b[0m\u001b[37m\u001b[0m \u001b[1m16s\u001b[0m 7ms/step - accuracy: 0.7057 - loss: 0.7915 - val_accuracy: 0.7329 - val_loss: 0.7033\n",
      "Epoch 3/20\n",
      "\u001b[1m1999/1999\u001b[0m \u001b[32m━━━━━━━━━━━━━━━━━━━━\u001b[0m\u001b[37m\u001b[0m \u001b[1m16s\u001b[0m 7ms/step - accuracy: 0.7444 - loss: 0.6835 - val_accuracy: 0.7525 - val_loss: 0.6462\n",
      "Epoch 4/20\n",
      "\u001b[1m1999/1999\u001b[0m \u001b[32m━━━━━━━━━━━━━━━━━━━━\u001b[0m\u001b[37m\u001b[0m \u001b[1m16s\u001b[0m 7ms/step - accuracy: 0.7620 - loss: 0.6334 - val_accuracy: 0.7645 - val_loss: 0.6222\n",
      "Epoch 5/20\n",
      "\u001b[1m1999/1999\u001b[0m \u001b[32m━━━━━━━━━━━━━━━━━━━━\u001b[0m\u001b[37m\u001b[0m \u001b[1m16s\u001b[0m 7ms/step - accuracy: 0.7738 - loss: 0.6003 - val_accuracy: 0.7734 - val_loss: 0.5969\n",
      "Epoch 6/20\n",
      "\u001b[1m1999/1999\u001b[0m \u001b[32m━━━━━━━━━━━━━━━━━━━━\u001b[0m\u001b[37m\u001b[0m \u001b[1m16s\u001b[0m 7ms/step - accuracy: 0.7838 - loss: 0.5723 - val_accuracy: 0.7779 - val_loss: 0.5832\n",
      "Epoch 7/20\n",
      "\u001b[1m1999/1999\u001b[0m \u001b[32m━━━━━━━━━━━━━━━━━━━━\u001b[0m\u001b[37m\u001b[0m \u001b[1m16s\u001b[0m 7ms/step - accuracy: 0.7921 - loss: 0.5501 - val_accuracy: 0.7850 - val_loss: 0.5628\n",
      "Epoch 8/20\n",
      "\u001b[1m1999/1999\u001b[0m \u001b[32m━━━━━━━━━━━━━━━━━━━━\u001b[0m\u001b[37m\u001b[0m \u001b[1m16s\u001b[0m 7ms/step - accuracy: 0.7970 - loss: 0.5339 - val_accuracy: 0.7883 - val_loss: 0.5519\n",
      "Epoch 9/20\n",
      "\u001b[1m1999/1999\u001b[0m \u001b[32m━━━━━━━━━━━━━━━━━━━━\u001b[0m\u001b[37m\u001b[0m \u001b[1m16s\u001b[0m 7ms/step - accuracy: 0.8036 - loss: 0.5174 - val_accuracy: 0.7922 - val_loss: 0.5414\n",
      "Epoch 10/20\n",
      "\u001b[1m1999/1999\u001b[0m \u001b[32m━━━━━━━━━━━━━━━━━━━━\u001b[0m\u001b[37m\u001b[0m \u001b[1m16s\u001b[0m 7ms/step - accuracy: 0.8080 - loss: 0.5041 - val_accuracy: 0.7966 - val_loss: 0.5342\n",
      "Epoch 11/20\n",
      "\u001b[1m1999/1999\u001b[0m \u001b[32m━━━━━━━━━━━━━━━━━━━━\u001b[0m\u001b[37m\u001b[0m \u001b[1m16s\u001b[0m 7ms/step - accuracy: 0.8122 - loss: 0.4923 - val_accuracy: 0.8004 - val_loss: 0.5260\n",
      "Epoch 12/20\n",
      "\u001b[1m1999/1999\u001b[0m \u001b[32m━━━━━━━━━━━━━━━━━━━━\u001b[0m\u001b[37m\u001b[0m \u001b[1m16s\u001b[0m 7ms/step - accuracy: 0.8170 - loss: 0.4798 - val_accuracy: 0.8036 - val_loss: 0.5155\n",
      "Epoch 13/20\n",
      "\u001b[1m1999/1999\u001b[0m \u001b[32m━━━━━━━━━━━━━━━━━━━━\u001b[0m\u001b[37m\u001b[0m \u001b[1m16s\u001b[0m 7ms/step - accuracy: 0.8203 - loss: 0.4708 - val_accuracy: 0.8074 - val_loss: 0.5030\n",
      "Epoch 14/20\n",
      "\u001b[1m1999/1999\u001b[0m \u001b[32m━━━━━━━━━━━━━━━━━━━━\u001b[0m\u001b[37m\u001b[0m \u001b[1m16s\u001b[0m 7ms/step - accuracy: 0.8244 - loss: 0.4608 - val_accuracy: 0.8044 - val_loss: 0.5076\n",
      "Epoch 15/20\n",
      "\u001b[1m1999/1999\u001b[0m \u001b[32m━━━━━━━━━━━━━━━━━━━━\u001b[0m\u001b[37m\u001b[0m \u001b[1m16s\u001b[0m 7ms/step - accuracy: 0.8274 - loss: 0.4512 - val_accuracy: 0.8119 - val_loss: 0.4951\n",
      "Epoch 16/20\n",
      "\u001b[1m1999/1999\u001b[0m \u001b[32m━━━━━━━━━━━━━━━━━━━━\u001b[0m\u001b[37m\u001b[0m \u001b[1m16s\u001b[0m 7ms/step - accuracy: 0.8301 - loss: 0.4438 - val_accuracy: 0.8140 - val_loss: 0.4882\n",
      "Epoch 17/20\n",
      "\u001b[1m1999/1999\u001b[0m \u001b[32m━━━━━━━━━━━━━━━━━━━━\u001b[0m\u001b[37m\u001b[0m \u001b[1m16s\u001b[0m 7ms/step - accuracy: 0.8332 - loss: 0.4376 - val_accuracy: 0.8172 - val_loss: 0.4811\n",
      "Epoch 18/20\n",
      "\u001b[1m1999/1999\u001b[0m \u001b[32m━━━━━━━━━━━━━━━━━━━━\u001b[0m\u001b[37m\u001b[0m \u001b[1m16s\u001b[0m 7ms/step - accuracy: 0.8355 - loss: 0.4304 - val_accuracy: 0.8168 - val_loss: 0.4847\n",
      "Epoch 19/20\n",
      "\u001b[1m1999/1999\u001b[0m \u001b[32m━━━━━━━━━━━━━━━━━━━━\u001b[0m\u001b[37m\u001b[0m \u001b[1m16s\u001b[0m 7ms/step - accuracy: 0.8386 - loss: 0.4235 - val_accuracy: 0.8192 - val_loss: 0.4754\n",
      "Epoch 20/20\n",
      "\u001b[1m1999/1999\u001b[0m \u001b[32m━━━━━━━━━━━━━━━━━━━━\u001b[0m\u001b[37m\u001b[0m \u001b[1m16s\u001b[0m 7ms/step - accuracy: 0.8403 - loss: 0.4169 - val_accuracy: 0.8196 - val_loss: 0.4728\n"
     ]
    }
   ],
   "source": [
    "early_stopping = EarlyStopping(monitor='val_loss', patience=3, restore_best_weights=True)\n",
    "tensorboard_callback = TensorBoard(log_dir='./logs')\n",
    "\n",
    "# Step 6: Train the Model\n",
    "epochs = 20  # Number of epochs for training\n",
    "\n",
    "history = model.fit(\n",
    "    train_dataset,\n",
    "    validation_data=val_dataset, \n",
    "    epochs=epochs,\n",
    "    callbacks=[early_stopping, tensorboard_callback],\n",
    "    verbose=1  # Display progress bar\n",
    ")"
   ]
  },
  {
   "cell_type": "code",
   "execution_count": 45,
   "metadata": {
    "colab": {
     "base_uri": "https://localhost:8080/"
    },
    "executionInfo": {
     "elapsed": 1304,
     "status": "ok",
     "timestamp": 1732002024000,
     "user": {
      "displayName": "Tsugumi17",
      "userId": "11013398911568640638"
     },
     "user_tz": -480
    },
    "id": "RECUlbFC4ysQ",
    "outputId": "ff0a4860-82db-49f7-ac6b-652028624ffd"
   },
   "outputs": [
    {
     "name": "stderr",
     "output_type": "stream",
     "text": [
      "WARNING:absl:You are saving your model as an HDF5 file via `model.save()` or `keras.saving.save_model(model)`. This file format is considered legacy. We recommend using instead the native Keras format, e.g. `model.save('my_model.keras')` or `keras.saving.save_model(model, 'my_model.keras')`. \n"
     ]
    },
    {
     "name": "stdout",
     "output_type": "stream",
     "text": [
      "Model saved to ./trained_lstm_model_task1.h5\n"
     ]
    }
   ],
   "source": [
    "# Step 7: Save the trained model\n",
    "model_save_path = f'{FOLDER}/trained_lstm_model_task1.h5'  # You can specify any path you like\n",
    "model.save(model_save_path)\n",
    "\n",
    "print(f\"Model saved to {model_save_path}\")"
   ]
  },
  {
   "cell_type": "code",
   "execution_count": 46,
   "metadata": {
    "id": "xtQXhtji7_AP"
   },
   "outputs": [],
   "source": [
    "# from tensorflow.keras.models import load_model\n",
    "\n",
    "# # Load the saved model\n",
    "# loaded_model = load_model('trained_lstm_model.h5')"
   ]
  },
  {
   "cell_type": "markdown",
   "metadata": {
    "id": "NIFkoBj7vpT3"
   },
   "source": [
    "# Prediction"
   ]
  },
  {
   "cell_type": "markdown",
   "metadata": {},
   "source": [
    "## Reusable code"
   ]
  },
  {
   "cell_type": "code",
   "execution_count": 47,
   "metadata": {},
   "outputs": [
    {
     "data": {
      "text/html": [
       "<div>\n",
       "<style scoped>\n",
       "    .dataframe tbody tr th:only-of-type {\n",
       "        vertical-align: middle;\n",
       "    }\n",
       "\n",
       "    .dataframe tbody tr th {\n",
       "        vertical-align: top;\n",
       "    }\n",
       "\n",
       "    .dataframe thead th {\n",
       "        text-align: right;\n",
       "    }\n",
       "</style>\n",
       "<table border=\"1\" class=\"dataframe\">\n",
       "  <thead>\n",
       "    <tr style=\"text-align: right;\">\n",
       "      <th></th>\n",
       "      <th>EventA</th>\n",
       "      <th>EventB</th>\n",
       "      <th>relation</th>\n",
       "      <th>CombinedEventAB</th>\n",
       "    </tr>\n",
       "  </thead>\n",
       "  <tbody>\n",
       "    <tr>\n",
       "      <th>0</th>\n",
       "      <td>PersonX causes trouble</td>\n",
       "      <td>Is arrested Thrown in jail</td>\n",
       "      <td>xEffect</td>\n",
       "      <td>PersonX causes trouble Is arrested Thrown in jail</td>\n",
       "    </tr>\n",
       "    <tr>\n",
       "      <th>1</th>\n",
       "      <td>PersonX cause trouble</td>\n",
       "      <td>Is arrested Thrown in jail</td>\n",
       "      <td>xEffect</td>\n",
       "      <td>PersonX cause trouble Is arrested Thrown in jail</td>\n",
       "    </tr>\n",
       "    <tr>\n",
       "      <th>2</th>\n",
       "      <td>PersonX causes trouble</td>\n",
       "      <td>Is arrested Thrown inch jail</td>\n",
       "      <td>xEffect</td>\n",
       "      <td>PersonX causes trouble Is arrested Thrown inch...</td>\n",
       "    </tr>\n",
       "    <tr>\n",
       "      <th>3</th>\n",
       "      <td>PersonX cause trouble</td>\n",
       "      <td>Is arrested Thrown inch jail</td>\n",
       "      <td>xEffect</td>\n",
       "      <td>PersonX cause trouble Is arrested Thrown inch ...</td>\n",
       "    </tr>\n",
       "    <tr>\n",
       "      <th>4</th>\n",
       "      <td>PersonX drops off the radar</td>\n",
       "      <td>has peace an quiet gets more sleep</td>\n",
       "      <td>xEffect</td>\n",
       "      <td>PersonX drops off the radar has peace an quiet...</td>\n",
       "    </tr>\n",
       "  </tbody>\n",
       "</table>\n",
       "</div>"
      ],
      "text/plain": [
       "                        EventA                              EventB relation  \\\n",
       "0       PersonX causes trouble          Is arrested Thrown in jail  xEffect   \n",
       "1        PersonX cause trouble          Is arrested Thrown in jail  xEffect   \n",
       "2       PersonX causes trouble        Is arrested Thrown inch jail  xEffect   \n",
       "3        PersonX cause trouble        Is arrested Thrown inch jail  xEffect   \n",
       "4  PersonX drops off the radar  has peace an quiet gets more sleep  xEffect   \n",
       "\n",
       "                                     CombinedEventAB  \n",
       "0  PersonX causes trouble Is arrested Thrown in jail  \n",
       "1   PersonX cause trouble Is arrested Thrown in jail  \n",
       "2  PersonX causes trouble Is arrested Thrown inch...  \n",
       "3  PersonX cause trouble Is arrested Thrown inch ...  \n",
       "4  PersonX drops off the radar has peace an quiet...  "
      ]
     },
     "execution_count": 47,
     "metadata": {},
     "output_type": "execute_result"
    }
   ],
   "source": [
    "augmented_df.head()"
   ]
  },
  {
   "cell_type": "code",
   "execution_count": 48,
   "metadata": {
    "id": "N84m7bD4uczH"
   },
   "outputs": [],
   "source": [
    "def preprocess_input(df, vocab, max_length=30):\n",
    "    features_list = []\n",
    "\n",
    "    # Create TensorFlow datasets from the augmented data\n",
    "    df_dataset = AtomicDataset(df, vocab, relation_vocab, max_length=30)\n",
    "\n",
    "    # Set batch size\n",
    "    batch_size = 512\n",
    "\n",
    "    # Shuffle and batch the training dataset, and prefetch for performance optimization\n",
    "    df_dataset = df_dataset.shuffle(buffer_size=len(train_data_augmented)).batch(batch_size).prefetch(buffer_size=tf.data.AUTOTUNE)\n",
    "\n",
    "    return df_dataset"
   ]
  },
  {
   "cell_type": "code",
   "execution_count": null,
   "metadata": {},
   "outputs": [],
   "source": [
    "def random_sample_prediction(df, model, vocab, relation_vocab, num_samples=5):\n",
    "    for i in range(num_samples):\n",
    "        # Step 1: Randomly select one data point from df\n",
    "        random_index = random.randint(0, len(df) - 1)\n",
    "        random_sample = df.iloc[random_index:random_index + 1]\n",
    "\n",
    "        # Step 2: Preprocess the selected input using the function you defined earlier\n",
    "        input_features_np = preprocess_input(random_sample, vocab)\n",
    "\n",
    "        # Step 3: Get the correct output label for comparison\n",
    "        correct_relation = random_sample['relation'].values[0]\n",
    "\n",
    "        # Step 4: Make the prediction\n",
    "        predictions = model.predict(input_features_np)\n",
    "\n",
    "        # Step 5: Convert prediction to class label\n",
    "        predicted_class = np.argmax(predictions, axis=-1)[0]  # Since it's only one input\n",
    "        inverse_relation_vocab = {v: k for k, v in relation_vocab.items()}\n",
    "        predicted_label = inverse_relation_vocab[predicted_class]\n",
    "\n",
    "        # Step 6: Display the input, correct output, and predicted output\n",
    "        print(\"Input Features:\", random_sample['CombinedEventAB'].values[0])\n",
    "        print(\"Correct Output:\", correct_relation)\n",
    "        print(\"LSTM Predicted:\", predicted_label)\n",
    "\n",
    "        # Step 7: Generate a list of top predictions for all labels\n",
    "        top_n = 9  # i want all the labels to be shown\n",
    "        top_n_indices = np.argsort(predictions[0])[-top_n:][::-1]\n",
    "        top_n_labels = [inverse_relation_vocab[idx] for idx in top_n_indices]\n",
    "        top_n_probs = [predictions[0][idx] for idx in top_n_indices]\n",
    "\n",
    "        print(\"Top N Predictions:\")\n",
    "        for label, prob in zip(top_n_labels, top_n_probs):\n",
    "            print(f\"{label}: {prob:.3f}\", end=', ')\n",
    "        print(\"\\n\")"
   ]
  },
  {
   "cell_type": "code",
   "execution_count": null,
   "metadata": {
    "colab": {
     "base_uri": "https://localhost:8080/"
    },
    "executionInfo": {
     "elapsed": 144799,
     "status": "ok",
     "timestamp": 1732002170096,
     "user": {
      "displayName": "Tsugumi17",
      "userId": "11013398911568640638"
     },
     "user_tz": -480
    },
    "id": "b4JJk9D4xD0-",
    "outputId": "4ca93a7c-6e07-447a-f954-a6d6188be5dc"
   },
   "outputs": [],
   "source": [
    "def plot_confusion_matrix(model, val_dataset, relation_vocab):\n",
    "    # Step 1: Make predictions on the validation dataset\n",
    "    val_features = []\n",
    "    val_labels = []\n",
    "\n",
    "    for features, label in val_dataset:\n",
    "        val_features.append(features.numpy())\n",
    "        val_labels.append(label.numpy())\n",
    "\n",
    "    # Convert lists to numpy arrays\n",
    "    val_features_np = np.concatenate(val_features, axis=0)\n",
    "    val_labels_np = np.concatenate(val_labels, axis=0)\n",
    "\n",
    "    # Get predictions\n",
    "    predictions = model.predict(val_features_np)\n",
    "    predicted_labels = np.argmax(predictions, axis=-1)\n",
    "\n",
    "    # Step 2: Generate confusion matrix\n",
    "    cm = confusion_matrix(val_labels_np, predicted_labels)\n",
    "\n",
    "    # Step 3: Plot confusion matrix\n",
    "    disp = ConfusionMatrixDisplay(confusion_matrix=cm, display_labels=list(relation_vocab.keys()))\n",
    "    disp.plot(cmap=plt.cm.Blues)\n",
    "\n",
    "    # Show the confusion matrix\n",
    "    fig = disp.figure_\n",
    "    fig.set_size_inches(10, 10)  # Adjust the size of the plot\n",
    "    plt.show()\n",
    "\n",
    "    # Get the number of classes\n",
    "    num_classes = cm.shape[0]\n",
    "\n",
    "    # Initialize Precision and Recall lists\n",
    "    precision = []\n",
    "    recall = []\n",
    "\n",
    "    # Calculate Precision and Recall for each class\n",
    "    for i in range(num_classes):\n",
    "        TP = cm[i, i]  # Diagonal element\n",
    "        FP = np.sum(cm[:, i]) - TP  # Sum of the column minus TP\n",
    "        FN = np.sum(cm[i, :]) - TP  # Sum of the row minus TP\n",
    "\n",
    "        precision_i = TP / (TP + FP) if (TP + FP) > 0 else 0\n",
    "        recall_i = TP / (TP + FN) if (TP + FN) > 0 else 0\n",
    "\n",
    "        precision.append(precision_i)\n",
    "        recall.append(recall_i)\n",
    "\n",
    "    # Convert to percentages and print results\n",
    "    precision_percent = [f\"{p * 100:.2f}%\" for p in precision]\n",
    "    recall_percent = [f\"{r * 100:.2f}%\" for r in recall]\n",
    "\n",
    "    # Print Precision and Recall for each class\n",
    "    accuracy = accuracy_score(val_labels_np, predicted_labels)\n",
    "    print(f\"Overall Accuracy: {accuracy * 100:.2f}%\")\n",
    "    for i, label in enumerate(relation_vocab):\n",
    "        print(f\"{label}: Precision = {precision_percent[i]}, Recall = {recall_percent[i]}\")\n"
   ]
  },
  {
   "cell_type": "markdown",
   "metadata": {},
   "source": [
    "## Predict on validation set"
   ]
  },
  {
   "cell_type": "code",
   "execution_count": 77,
   "metadata": {},
   "outputs": [
    {
     "name": "stdout",
     "output_type": "stream",
     "text": [
      "\u001b[1m1/1\u001b[0m \u001b[32m━━━━━━━━━━━━━━━━━━━━\u001b[0m\u001b[37m\u001b[0m \u001b[1m0s\u001b[0m 20ms/step\n",
      "Input Features: PersonX discovery PersonX's voice happygrateful\n",
      "Correct Output: oReact\n",
      "LSTM Predicted: xAttr\n",
      "Top N Predictions:\n",
      "xAttr: 0.519, xReact: 0.436, oReact: 0.023, xIntent: 0.008, xEffect: 0.007, xWant: 0.003, oEffect: 0.002, xNeed: 0.002, oWant: 0.001, \n",
      "\n",
      "\u001b[1m1/1\u001b[0m \u001b[32m━━━━━━━━━━━━━━━━━━━━\u001b[0m\u001b[37m\u001b[0m \u001b[1m0s\u001b[0m 11ms/step\n"
     ]
    },
    {
     "name": "stdout",
     "output_type": "stream",
     "text": [
      "Input Features: PersonX go every year keep a schedule prepare plan ahead\n",
      "Correct Output: xNeed\n",
      "LSTM Predicted: xNeed\n",
      "Top N Predictions:\n",
      "xNeed: 0.970, xWant: 0.030, oWant: 0.000, xEffect: 0.000, xIntent: 0.000, oEffect: 0.000, xReact: 0.000, oReact: 0.000, xAttr: 0.000, \n",
      "\n",
      "\u001b[1m1/1\u001b[0m \u001b[32m━━━━━━━━━━━━━━━━━━━━\u001b[0m\u001b[37m\u001b[0m \u001b[1m0s\u001b[0m 11ms/step\n",
      "Input Features: PersonX eventually found ___ to retrieve something to use something\n",
      "Correct Output: xWant\n",
      "LSTM Predicted: xWant\n",
      "Top N Predictions:\n",
      "xWant: 0.848, xIntent: 0.095, xNeed: 0.051, oWant: 0.005, xEffect: 0.000, xReact: 0.000, xAttr: 0.000, oReact: 0.000, oEffect: 0.000, \n",
      "\n",
      "\u001b[1m1/1\u001b[0m \u001b[32m━━━━━━━━━━━━━━━━━━━━\u001b[0m\u001b[37m\u001b[0m \u001b[1m0s\u001b[0m 11ms/step\n",
      "Input Features: PersonX wage PersonY tax PersonX is thanked PersonX receives a receipt\n",
      "Correct Output: xEffect\n",
      "LSTM Predicted: xEffect\n",
      "Top N Predictions:\n",
      "xEffect: 1.000, oEffect: 0.000, xWant: 0.000, xNeed: 0.000, xReact: 0.000, xAttr: 0.000, xIntent: 0.000, oWant: 0.000, oReact: 0.000, \n",
      "\n",
      "\u001b[1m1/1\u001b[0m \u001b[32m━━━━━━━━━━━━━━━━━━━━\u001b[0m\u001b[37m\u001b[0m \u001b[1m0s\u001b[0m 11ms/step\n",
      "Input Features: PersonX better PersonY's cognition Gives A Gives encouragement\n",
      "Correct Output: xEffect\n",
      "LSTM Predicted: xNeed\n",
      "Top N Predictions:\n",
      "xNeed: 0.801, xEffect: 0.080, oEffect: 0.065, oWant: 0.022, xAttr: 0.016, xWant: 0.015, xReact: 0.001, oReact: 0.001, xIntent: 0.000, \n",
      "\n"
     ]
    }
   ],
   "source": [
    "random_sample_prediction(val_data_augmented, model, vocab, relation_vocab, num_samples=5)"
   ]
  },
  {
   "cell_type": "code",
   "execution_count": 60,
   "metadata": {},
   "outputs": [
    {
     "name": "stdout",
     "output_type": "stream",
     "text": [
      "\u001b[1m7995/7995\u001b[0m \u001b[32m━━━━━━━━━━━━━━━━━━━━\u001b[0m\u001b[37m\u001b[0m \u001b[1m11s\u001b[0m 1ms/step\n"
     ]
    },
    {
     "data": {
      "image/png": "[encoded data removed]",
      "text/plain": [
       "<Figure size 1000x1000 with 2 Axes>"
      ]
     },
     "metadata": {},
     "output_type": "display_data"
    },
    {
     "name": "stdout",
     "output_type": "stream",
     "text": [
      "Overall Accuracy: 81.98%\n",
      "xEffect: Precision = 89.76%, Recall = 88.01%\n",
      "xNeed: Precision = 81.99%, Recall = 88.39%\n",
      "xWant: Precision = 80.83%, Recall = 79.68%\n",
      "xReact: Precision = 74.00%, Recall = 74.58%\n",
      "xAttr: Precision = 83.33%, Recall = 88.39%\n",
      "xIntent: Precision = 92.48%, Recall = 87.91%\n",
      "oReact: Precision = 69.32%, Recall = 60.94%\n",
      "oEffect: Precision = 75.41%, Recall = 80.35%\n",
      "oWant: Precision = 81.61%, Recall = 74.92%\n"
     ]
    }
   ],
   "source": [
    "# Call the function\n",
    "plot_confusion_matrix(model, val_dataset, relation_vocab)"
   ]
  },
  {
   "cell_type": "markdown",
   "metadata": {},
   "source": [
    "# Predict on dataset generated by GPT-task-2"
   ]
  },
  {
   "cell_type": "code",
   "execution_count": 85,
   "metadata": {},
   "outputs": [
    {
     "data": {
      "text/html": [
       "<div>\n",
       "<style scoped>\n",
       "    .dataframe tbody tr th:only-of-type {\n",
       "        vertical-align: middle;\n",
       "    }\n",
       "\n",
       "    .dataframe tbody tr th {\n",
       "        vertical-align: top;\n",
       "    }\n",
       "\n",
       "    .dataframe thead th {\n",
       "        text-align: right;\n",
       "    }\n",
       "</style>\n",
       "<table border=\"1\" class=\"dataframe\">\n",
       "  <thead>\n",
       "    <tr style=\"text-align: right;\">\n",
       "      <th></th>\n",
       "      <th>CombinedEventAB</th>\n",
       "      <th>relation</th>\n",
       "    </tr>\n",
       "  </thead>\n",
       "  <tbody>\n",
       "    <tr>\n",
       "      <th>0</th>\n",
       "      <td>PersonX lets go of the tiger's tail.</td>\n",
       "      <td>xReact</td>\n",
       "    </tr>\n",
       "    <tr>\n",
       "      <th>1</th>\n",
       "      <td>PersonX takes up PersonY's cross to help PersonY.</td>\n",
       "      <td>xWant</td>\n",
       "    </tr>\n",
       "    <tr>\n",
       "      <th>2</th>\n",
       "      <td>PersonX pays PersonY tax == PersonY rewards Pe...</td>\n",
       "      <td>xAttr</td>\n",
       "    </tr>\n",
       "    <tr>\n",
       "      <th>3</th>\n",
       "      <td>PersonX feels satisfied after learning valuabl...</td>\n",
       "      <td>xWant</td>\n",
       "    </tr>\n",
       "    <tr>\n",
       "      <th>4</th>\n",
       "      <td>PersonX goes skydiving.</td>\n",
       "      <td>xAttr</td>\n",
       "    </tr>\n",
       "    <tr>\n",
       "      <th>...</th>\n",
       "      <td>...</td>\n",
       "      <td>...</td>\n",
       "    </tr>\n",
       "    <tr>\n",
       "      <th>3995</th>\n",
       "      <td>PersonX starts digging the ground with a shovel.</td>\n",
       "      <td>xAttr</td>\n",
       "    </tr>\n",
       "    <tr>\n",
       "      <th>3996</th>\n",
       "      <td>PersonY may reciprocate the attracted feelings...</td>\n",
       "      <td>oWant</td>\n",
       "    </tr>\n",
       "    <tr>\n",
       "      <th>3997</th>\n",
       "      <td>PersonX moves out.</td>\n",
       "      <td>oWant</td>\n",
       "    </tr>\n",
       "    <tr>\n",
       "      <th>3998</th>\n",
       "      <td>PersonX organizes a game night.</td>\n",
       "      <td>xAttr</td>\n",
       "    </tr>\n",
       "    <tr>\n",
       "      <th>3999</th>\n",
       "      <td>PersonX admires PersonY's work.</td>\n",
       "      <td>xIntent</td>\n",
       "    </tr>\n",
       "  </tbody>\n",
       "</table>\n",
       "<p>4000 rows × 2 columns</p>\n",
       "</div>"
      ],
      "text/plain": [
       "                                        CombinedEventAB relation\n",
       "0                  PersonX lets go of the tiger's tail.   xReact\n",
       "1     PersonX takes up PersonY's cross to help PersonY.    xWant\n",
       "2     PersonX pays PersonY tax == PersonY rewards Pe...    xAttr\n",
       "3     PersonX feels satisfied after learning valuabl...    xWant\n",
       "4                               PersonX goes skydiving.    xAttr\n",
       "...                                                 ...      ...\n",
       "3995   PersonX starts digging the ground with a shovel.    xAttr\n",
       "3996  PersonY may reciprocate the attracted feelings...    oWant\n",
       "3997                                 PersonX moves out.    oWant\n",
       "3998                    PersonX organizes a game night.    xAttr\n",
       "3999                    PersonX admires PersonY's work.  xIntent\n",
       "\n",
       "[4000 rows x 2 columns]"
      ]
     },
     "execution_count": 85,
     "metadata": {},
     "output_type": "execute_result"
    }
   ],
   "source": [
    "gpt_df = pd.read_csv(f'{FOLDER}/task2_zero-shot_cot_False.csv', index_col=0)\n",
    "gpt_df.rename(columns={'predict': 'CombinedEventAB'}, inplace=True)\n",
    "gpt_df.reset_index(drop=True, inplace=True)\n",
    "gpt_df"
   ]
  },
  {
   "cell_type": "markdown",
   "metadata": {},
   "source": [
    "check df integrity (generated by GPT, we cant garuntee the quality of the data)"
   ]
  },
  {
   "cell_type": "code",
   "execution_count": 86,
   "metadata": {},
   "outputs": [
    {
     "name": "stdout",
     "output_type": "stream",
     "text": [
      "NaN values in each column:\n",
      "CombinedEventAB    9\n",
      "relation           0\n",
      "dtype: int64\n",
      "NaN values have been dropped.\n"
     ]
    },
    {
     "data": {
      "text/html": [
       "<div>\n",
       "<style scoped>\n",
       "    .dataframe tbody tr th:only-of-type {\n",
       "        vertical-align: middle;\n",
       "    }\n",
       "\n",
       "    .dataframe tbody tr th {\n",
       "        vertical-align: top;\n",
       "    }\n",
       "\n",
       "    .dataframe thead th {\n",
       "        text-align: right;\n",
       "    }\n",
       "</style>\n",
       "<table border=\"1\" class=\"dataframe\">\n",
       "  <thead>\n",
       "    <tr style=\"text-align: right;\">\n",
       "      <th></th>\n",
       "      <th>CombinedEventAB</th>\n",
       "      <th>relation</th>\n",
       "    </tr>\n",
       "  </thead>\n",
       "  <tbody>\n",
       "    <tr>\n",
       "      <th>0</th>\n",
       "      <td>PersonX lets go of the tiger's tail.</td>\n",
       "      <td>xReact</td>\n",
       "    </tr>\n",
       "    <tr>\n",
       "      <th>1</th>\n",
       "      <td>PersonX takes up PersonY's cross to help PersonY.</td>\n",
       "      <td>xWant</td>\n",
       "    </tr>\n",
       "    <tr>\n",
       "      <th>2</th>\n",
       "      <td>PersonX pays PersonY tax == PersonY rewards Pe...</td>\n",
       "      <td>xAttr</td>\n",
       "    </tr>\n",
       "    <tr>\n",
       "      <th>3</th>\n",
       "      <td>PersonX feels satisfied after learning valuabl...</td>\n",
       "      <td>xWant</td>\n",
       "    </tr>\n",
       "    <tr>\n",
       "      <th>4</th>\n",
       "      <td>PersonX goes skydiving.</td>\n",
       "      <td>xAttr</td>\n",
       "    </tr>\n",
       "    <tr>\n",
       "      <th>...</th>\n",
       "      <td>...</td>\n",
       "      <td>...</td>\n",
       "    </tr>\n",
       "    <tr>\n",
       "      <th>3995</th>\n",
       "      <td>PersonX starts digging the ground with a shovel.</td>\n",
       "      <td>xAttr</td>\n",
       "    </tr>\n",
       "    <tr>\n",
       "      <th>3996</th>\n",
       "      <td>PersonY may reciprocate the attracted feelings...</td>\n",
       "      <td>oWant</td>\n",
       "    </tr>\n",
       "    <tr>\n",
       "      <th>3997</th>\n",
       "      <td>PersonX moves out.</td>\n",
       "      <td>oWant</td>\n",
       "    </tr>\n",
       "    <tr>\n",
       "      <th>3998</th>\n",
       "      <td>PersonX organizes a game night.</td>\n",
       "      <td>xAttr</td>\n",
       "    </tr>\n",
       "    <tr>\n",
       "      <th>3999</th>\n",
       "      <td>PersonX admires PersonY's work.</td>\n",
       "      <td>xIntent</td>\n",
       "    </tr>\n",
       "  </tbody>\n",
       "</table>\n",
       "<p>3991 rows × 2 columns</p>\n",
       "</div>"
      ],
      "text/plain": [
       "                                        CombinedEventAB relation\n",
       "0                  PersonX lets go of the tiger's tail.   xReact\n",
       "1     PersonX takes up PersonY's cross to help PersonY.    xWant\n",
       "2     PersonX pays PersonY tax == PersonY rewards Pe...    xAttr\n",
       "3     PersonX feels satisfied after learning valuabl...    xWant\n",
       "4                               PersonX goes skydiving.    xAttr\n",
       "...                                                 ...      ...\n",
       "3995   PersonX starts digging the ground with a shovel.    xAttr\n",
       "3996  PersonY may reciprocate the attracted feelings...    oWant\n",
       "3997                                 PersonX moves out.    oWant\n",
       "3998                    PersonX organizes a game night.    xAttr\n",
       "3999                    PersonX admires PersonY's work.  xIntent\n",
       "\n",
       "[3991 rows x 2 columns]"
      ]
     },
     "execution_count": 86,
     "metadata": {},
     "output_type": "execute_result"
    }
   ],
   "source": [
    "# Check for NaN values in gpt_df\n",
    "nan_counts = gpt_df.isnull().sum()\n",
    "print(\"NaN values in each column:\")\n",
    "print(nan_counts)\n",
    "\n",
    "# Optionally, you can handle NaN values, for example by dropping rows with NaN values\n",
    "gpt_df = gpt_df.dropna()\n",
    "print(\"NaN values have been dropped.\")\n",
    "gpt_df"
   ]
  },
  {
   "cell_type": "code",
   "execution_count": 87,
   "metadata": {},
   "outputs": [
    {
     "name": "stdout",
     "output_type": "stream",
     "text": [
      "{'xEffect': 0, 'xNeed': 1, 'xWant': 2, 'xReact': 3, 'xAttr': 4, 'xIntent': 5, 'oReact': 6, 'oEffect': 7, 'oWant': 8}\n"
     ]
    },
    {
     "data": {
      "text/html": [
       "<div>\n",
       "<style scoped>\n",
       "    .dataframe tbody tr th:only-of-type {\n",
       "        vertical-align: middle;\n",
       "    }\n",
       "\n",
       "    .dataframe tbody tr th {\n",
       "        vertical-align: top;\n",
       "    }\n",
       "\n",
       "    .dataframe thead th {\n",
       "        text-align: right;\n",
       "    }\n",
       "</style>\n",
       "<table border=\"1\" class=\"dataframe\">\n",
       "  <thead>\n",
       "    <tr style=\"text-align: right;\">\n",
       "      <th></th>\n",
       "      <th>CombinedEventAB</th>\n",
       "      <th>relation</th>\n",
       "    </tr>\n",
       "  </thead>\n",
       "  <tbody>\n",
       "    <tr>\n",
       "      <th>0</th>\n",
       "      <td>PersonX lets go of the tiger's tail.</td>\n",
       "      <td>xReact</td>\n",
       "    </tr>\n",
       "    <tr>\n",
       "      <th>1</th>\n",
       "      <td>PersonX takes up PersonY's cross to help PersonY.</td>\n",
       "      <td>xWant</td>\n",
       "    </tr>\n",
       "    <tr>\n",
       "      <th>2</th>\n",
       "      <td>PersonX pays PersonY tax == PersonY rewards Pe...</td>\n",
       "      <td>xAttr</td>\n",
       "    </tr>\n",
       "    <tr>\n",
       "      <th>3</th>\n",
       "      <td>PersonX feels satisfied after learning valuabl...</td>\n",
       "      <td>xWant</td>\n",
       "    </tr>\n",
       "    <tr>\n",
       "      <th>4</th>\n",
       "      <td>PersonX goes skydiving.</td>\n",
       "      <td>xAttr</td>\n",
       "    </tr>\n",
       "    <tr>\n",
       "      <th>...</th>\n",
       "      <td>...</td>\n",
       "      <td>...</td>\n",
       "    </tr>\n",
       "    <tr>\n",
       "      <th>3995</th>\n",
       "      <td>PersonX starts digging the ground with a shovel.</td>\n",
       "      <td>xAttr</td>\n",
       "    </tr>\n",
       "    <tr>\n",
       "      <th>3996</th>\n",
       "      <td>PersonY may reciprocate the attracted feelings...</td>\n",
       "      <td>oWant</td>\n",
       "    </tr>\n",
       "    <tr>\n",
       "      <th>3997</th>\n",
       "      <td>PersonX moves out.</td>\n",
       "      <td>oWant</td>\n",
       "    </tr>\n",
       "    <tr>\n",
       "      <th>3998</th>\n",
       "      <td>PersonX organizes a game night.</td>\n",
       "      <td>xAttr</td>\n",
       "    </tr>\n",
       "    <tr>\n",
       "      <th>3999</th>\n",
       "      <td>PersonX admires PersonY's work.</td>\n",
       "      <td>xIntent</td>\n",
       "    </tr>\n",
       "  </tbody>\n",
       "</table>\n",
       "<p>3991 rows × 2 columns</p>\n",
       "</div>"
      ],
      "text/plain": [
       "                                        CombinedEventAB relation\n",
       "0                  PersonX lets go of the tiger's tail.   xReact\n",
       "1     PersonX takes up PersonY's cross to help PersonY.    xWant\n",
       "2     PersonX pays PersonY tax == PersonY rewards Pe...    xAttr\n",
       "3     PersonX feels satisfied after learning valuabl...    xWant\n",
       "4                               PersonX goes skydiving.    xAttr\n",
       "...                                                 ...      ...\n",
       "3995   PersonX starts digging the ground with a shovel.    xAttr\n",
       "3996  PersonY may reciprocate the attracted feelings...    oWant\n",
       "3997                                 PersonX moves out.    oWant\n",
       "3998                    PersonX organizes a game night.    xAttr\n",
       "3999                    PersonX admires PersonY's work.  xIntent\n",
       "\n",
       "[3991 rows x 2 columns]"
      ]
     },
     "execution_count": 87,
     "metadata": {},
     "output_type": "execute_result"
    }
   ],
   "source": [
    "# check if the relation is in the relation_vocab\n",
    "print(relation_vocab)\n",
    "gpt_df = gpt_df[gpt_df['relation'].isin(relation_vocab.keys())]\n",
    "gpt_df"
   ]
  },
  {
   "cell_type": "code",
   "execution_count": 88,
   "metadata": {},
   "outputs": [
    {
     "name": "stdout",
     "output_type": "stream",
     "text": [
      "\u001b[1m1/1\u001b[0m \u001b[32m━━━━━━━━━━━━━━━━━━━━\u001b[0m\u001b[37m\u001b[0m \u001b[1m0s\u001b[0m 20ms/step\n",
      "Input Features: PersonX adopts the cat.\n",
      "Correct Output: xNeed\n",
      "LSTM Predicted: xAttr\n",
      "Top N Predictions:\n",
      "xAttr: 0.579, xReact: 0.304, oReact: 0.098, xEffect: 0.008, oEffect: 0.005, xIntent: 0.004, xWant: 0.002, xNeed: 0.001, oWant: 0.001, \n",
      "\n",
      "\u001b[1m1/1\u001b[0m \u001b[32m━━━━━━━━━━━━━━━━━━━━\u001b[0m\u001b[37m\u001b[0m \u001b[1m0s\u001b[0m 11ms/step\n"
     ]
    },
    {
     "name": "stdout",
     "output_type": "stream",
     "text": [
      "Input Features: PersonX receives a pay rise.\n",
      "Correct Output: xNeed\n",
      "LSTM Predicted: xAttr\n",
      "Top N Predictions:\n",
      "xAttr: 0.630, xReact: 0.296, oReact: 0.051, xEffect: 0.010, oEffect: 0.004, xIntent: 0.003, xWant: 0.003, xNeed: 0.001, oWant: 0.001, \n",
      "\n",
      "\u001b[1m1/1\u001b[0m \u001b[32m━━━━━━━━━━━━━━━━━━━━\u001b[0m\u001b[37m\u001b[0m \u001b[1m0s\u001b[0m 11ms/step\n",
      "Input Features: to wear the new shoes\n",
      "Correct Output: xIntent\n",
      "LSTM Predicted: xIntent\n",
      "Top N Predictions:\n",
      "xIntent: 0.906, xNeed: 0.064, xWant: 0.015, xReact: 0.007, xEffect: 0.005, oWant: 0.002, oReact: 0.001, xAttr: 0.001, oEffect: 0.001, \n",
      "\n",
      "\u001b[1m1/1\u001b[0m \u001b[32m━━━━━━━━━━━━━━━━━━━━\u001b[0m\u001b[37m\u001b[0m \u001b[1m0s\u001b[0m 11ms/step\n",
      "Input Features: PersonX finds the right page.\n",
      "Correct Output: xNeed\n",
      "LSTM Predicted: xReact\n",
      "Top N Predictions:\n",
      "xReact: 0.454, xAttr: 0.436, oReact: 0.096, xIntent: 0.004, xEffect: 0.004, oEffect: 0.003, xWant: 0.002, xNeed: 0.001, oWant: 0.001, \n",
      "\n",
      "\u001b[1m1/1\u001b[0m \u001b[32m━━━━━━━━━━━━━━━━━━━━\u001b[0m\u001b[37m\u001b[0m \u001b[1m0s\u001b[0m 11ms/step\n",
      "Input Features: PersonY asks for more details.\n",
      "Correct Output: oEffect\n",
      "LSTM Predicted: xEffect\n",
      "Top N Predictions:\n",
      "xEffect: 0.241, xReact: 0.208, xAttr: 0.138, oReact: 0.115, xIntent: 0.094, xWant: 0.066, oEffect: 0.059, xNeed: 0.056, oWant: 0.023, \n",
      "\n"
     ]
    }
   ],
   "source": [
    "random_sample_prediction(gpt_df, model, vocab, relation_vocab, num_samples=5)"
   ]
  },
  {
   "cell_type": "code",
   "execution_count": 89,
   "metadata": {},
   "outputs": [
    {
     "name": "stdout",
     "output_type": "stream",
     "text": [
      "\u001b[1m 84/125\u001b[0m \u001b[32m━━━━━━━━━━━━━\u001b[0m\u001b[37m━━━━━━━\u001b[0m \u001b[1m0s\u001b[0m 1ms/step"
     ]
    },
    {
     "name": "stderr",
     "output_type": "stream",
     "text": [
      "2024-11-23 21:32:08.146581: I tensorflow/core/framework/local_rendezvous.cc:405] Local rendezvous is aborting with status: OUT_OF_RANGE: End of sequence\n"
     ]
    },
    {
     "name": "stdout",
     "output_type": "stream",
     "text": [
      "\u001b[1m125/125\u001b[0m \u001b[32m━━━━━━━━━━━━━━━━━━━━\u001b[0m\u001b[37m\u001b[0m \u001b[1m0s\u001b[0m 1ms/step\n"
     ]
    },
    {
     "data": {
      "image/png": "[encoded data removed]",
      "text/plain": [
       "<Figure size 1000x1000 with 2 Axes>"
      ]
     },
     "metadata": {},
     "output_type": "display_data"
    },
    {
     "name": "stdout",
     "output_type": "stream",
     "text": [
      "Overall Accuracy: 20.57%\n",
      "xEffect: Precision = 26.54%, Recall = 19.72%\n",
      "xNeed: Precision = 29.49%, Recall = 5.30%\n",
      "xWant: Precision = 46.15%, Recall = 4.83%\n",
      "xReact: Precision = 19.06%, Recall = 20.57%\n",
      "xAttr: Precision = 21.12%, Recall = 53.05%\n",
      "xIntent: Precision = 18.97%, Recall = 19.66%\n",
      "oReact: Precision = 13.40%, Recall = 11.40%\n",
      "oEffect: Precision = 12.22%, Recall = 25.75%\n",
      "oWant: Precision = 36.36%, Recall = 4.40%\n"
     ]
    }
   ],
   "source": [
    "gpt_dataset = preprocess_input(gpt_df, vocab)\n",
    "plot_confusion_matrix(model, gpt_dataset, relation_vocab)"
   ]
  },
  {
   "cell_type": "code",
   "execution_count": 90,
   "metadata": {},
   "outputs": [
    {
     "name": "stdout",
     "output_type": "stream",
     "text": [
      "\u001b[1m8/8\u001b[0m \u001b[32m━━━━━━━━━━━━━━━━━━━━\u001b[0m\u001b[37m\u001b[0m \u001b[1m0s\u001b[0m 2ms/step \n"
     ]
    },
    {
     "data": {
      "text/html": [
       "<div>\n",
       "<style scoped>\n",
       "    .dataframe tbody tr th:only-of-type {\n",
       "        vertical-align: middle;\n",
       "    }\n",
       "\n",
       "    .dataframe tbody tr th {\n",
       "        vertical-align: top;\n",
       "    }\n",
       "\n",
       "    .dataframe thead th {\n",
       "        text-align: right;\n",
       "    }\n",
       "</style>\n",
       "<table border=\"1\" class=\"dataframe\">\n",
       "  <thead>\n",
       "    <tr style=\"text-align: right;\">\n",
       "      <th></th>\n",
       "      <th>CombinedEventAB</th>\n",
       "      <th>relation</th>\n",
       "      <th>top_n_predictions</th>\n",
       "    </tr>\n",
       "  </thead>\n",
       "  <tbody>\n",
       "    <tr>\n",
       "      <th>0</th>\n",
       "      <td>PersonX lets go of the tiger's tail.</td>\n",
       "      <td>xReact</td>\n",
       "      <td>[(oEffect, 0.982094), (xEffect, 0.014931834), ...</td>\n",
       "    </tr>\n",
       "    <tr>\n",
       "      <th>1</th>\n",
       "      <td>PersonX takes up PersonY's cross to help PersonY.</td>\n",
       "      <td>xWant</td>\n",
       "      <td>[(xReact, 0.447645), (oReact, 0.333279), (xAtt...</td>\n",
       "    </tr>\n",
       "    <tr>\n",
       "      <th>2</th>\n",
       "      <td>PersonX pays PersonY tax == PersonY rewards Pe...</td>\n",
       "      <td>xAttr</td>\n",
       "      <td>[(oWant, 0.48888212), (xWant, 0.3740197), (xIn...</td>\n",
       "    </tr>\n",
       "    <tr>\n",
       "      <th>3</th>\n",
       "      <td>PersonX feels satisfied after learning valuabl...</td>\n",
       "      <td>xWant</td>\n",
       "      <td>[(xReact, 0.45415008), (xAttr, 0.3884003), (oR...</td>\n",
       "    </tr>\n",
       "    <tr>\n",
       "      <th>4</th>\n",
       "      <td>PersonX goes skydiving.</td>\n",
       "      <td>xAttr</td>\n",
       "      <td>[(xIntent, 0.70232004), (xReact, 0.25249156), ...</td>\n",
       "    </tr>\n",
       "    <tr>\n",
       "      <th>...</th>\n",
       "      <td>...</td>\n",
       "      <td>...</td>\n",
       "      <td>...</td>\n",
       "    </tr>\n",
       "    <tr>\n",
       "      <th>3995</th>\n",
       "      <td>PersonX starts digging the ground with a shovel.</td>\n",
       "      <td>xAttr</td>\n",
       "      <td>[(xReact, 0.874523), (oReact, 0.06328528), (xA...</td>\n",
       "    </tr>\n",
       "    <tr>\n",
       "      <th>3996</th>\n",
       "      <td>PersonY may reciprocate the attracted feelings...</td>\n",
       "      <td>oWant</td>\n",
       "      <td>[(xEffect, 0.42176437), (oEffect, 0.30977806),...</td>\n",
       "    </tr>\n",
       "    <tr>\n",
       "      <th>3997</th>\n",
       "      <td>PersonX moves out.</td>\n",
       "      <td>oWant</td>\n",
       "      <td>[(xEffect, 0.5997882), (xWant, 0.36844632), (o...</td>\n",
       "    </tr>\n",
       "    <tr>\n",
       "      <th>3998</th>\n",
       "      <td>PersonX organizes a game night.</td>\n",
       "      <td>xAttr</td>\n",
       "      <td>[(xAttr, 0.8707763), (xReact, 0.12279627), (oR...</td>\n",
       "    </tr>\n",
       "    <tr>\n",
       "      <th>3999</th>\n",
       "      <td>PersonX admires PersonY's work.</td>\n",
       "      <td>xIntent</td>\n",
       "      <td>[(xIntent, 0.8123196), (xAttr, 0.14589559), (x...</td>\n",
       "    </tr>\n",
       "  </tbody>\n",
       "</table>\n",
       "<p>3991 rows × 3 columns</p>\n",
       "</div>"
      ],
      "text/plain": [
       "                                        CombinedEventAB relation  \\\n",
       "0                  PersonX lets go of the tiger's tail.   xReact   \n",
       "1     PersonX takes up PersonY's cross to help PersonY.    xWant   \n",
       "2     PersonX pays PersonY tax == PersonY rewards Pe...    xAttr   \n",
       "3     PersonX feels satisfied after learning valuabl...    xWant   \n",
       "4                               PersonX goes skydiving.    xAttr   \n",
       "...                                                 ...      ...   \n",
       "3995   PersonX starts digging the ground with a shovel.    xAttr   \n",
       "3996  PersonY may reciprocate the attracted feelings...    oWant   \n",
       "3997                                 PersonX moves out.    oWant   \n",
       "3998                    PersonX organizes a game night.    xAttr   \n",
       "3999                    PersonX admires PersonY's work.  xIntent   \n",
       "\n",
       "                                      top_n_predictions  \n",
       "0     [(oEffect, 0.982094), (xEffect, 0.014931834), ...  \n",
       "1     [(xReact, 0.447645), (oReact, 0.333279), (xAtt...  \n",
       "2     [(oWant, 0.48888212), (xWant, 0.3740197), (xIn...  \n",
       "3     [(xReact, 0.45415008), (xAttr, 0.3884003), (oR...  \n",
       "4     [(xIntent, 0.70232004), (xReact, 0.25249156), ...  \n",
       "...                                                 ...  \n",
       "3995  [(xReact, 0.874523), (oReact, 0.06328528), (xA...  \n",
       "3996  [(xEffect, 0.42176437), (oEffect, 0.30977806),...  \n",
       "3997  [(xEffect, 0.5997882), (xWant, 0.36844632), (o...  \n",
       "3998  [(xAttr, 0.8707763), (xReact, 0.12279627), (oR...  \n",
       "3999  [(xIntent, 0.8123196), (xAttr, 0.14589559), (x...  \n",
       "\n",
       "[3991 rows x 3 columns]"
      ]
     },
     "execution_count": 90,
     "metadata": {},
     "output_type": "execute_result"
    }
   ],
   "source": [
    "def generate_predictions(df, model, vocab, relation_vocab, top_n=9):\n",
    "    # Preprocess the input dataframe\n",
    "    input_dataset = preprocess_input(gpt_df, vocab)\n",
    "\n",
    "    # Make predictions\n",
    "    predictions = model.predict(input_dataset)\n",
    "\n",
    "    # Convert predictions to class labels\n",
    "    inverse_relation_vocab = {v: k for k, v in relation_vocab.items()}\n",
    "    top_n_predictions = []\n",
    "\n",
    "    for pred in predictions:\n",
    "        top_n_indices = np.argsort(pred)[-top_n:][::-1]\n",
    "        top_n_labels = [inverse_relation_vocab[idx] for idx in top_n_indices]\n",
    "        top_n_probs = [pred[idx] for idx in top_n_indices]\n",
    "        top_n_predictions.append(list(zip(top_n_labels, top_n_probs)))\n",
    "\n",
    "    # Add predictions to the dataframe\n",
    "    df['top_n_predictions'] = top_n_predictions\n",
    "\n",
    "    return df\n",
    "\n",
    "# Generate predictions for 5 random samples from gpt_df\n",
    "gpt_df_with_predictions = generate_predictions(gpt_df, model, vocab, relation_vocab, top_n=9)\n",
    "gpt_df_with_predictions"
   ]
  },
  {
   "cell_type": "code",
   "execution_count": 91,
   "metadata": {},
   "outputs": [
    {
     "name": "stdout",
     "output_type": "stream",
     "text": [
      "Predictions saved to ./gpt_predictions.csv\n"
     ]
    }
   ],
   "source": [
    "# Save the prediction DataFrame to a CSV file\n",
    "gpt_df_with_predictions.to_csv(f'{FOLDER}/gpt_predictions.csv', index=False)\n",
    "\n",
    "print(f\"Predictions saved to {FOLDER}/gpt_predictions.csv\")"
   ]
  }
 ],
 "metadata": {
  "colab": {
   "collapsed_sections": [
    "gOGnQIWtzj_9"
   ],
   "provenance": [],
   "toc_visible": true
  },
  "kernelspec": {
   "display_name": "venv",
   "language": "python",
   "name": "python3"
  },
  "language_info": {
   "codemirror_mode": {
    "name": "ipython",
    "version": 3
   },
   "file_extension": ".py",
   "mimetype": "text/x-python",
   "name": "python",
   "nbconvert_exporter": "python",
   "pygments_lexer": "ipython3",
   "version": "3.9.19"
  }
 },
 "nbformat": 4,
 "nbformat_minor": 0
}
