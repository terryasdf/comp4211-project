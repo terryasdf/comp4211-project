{
  "cells": [
    {
      "cell_type": "markdown",
      "metadata": {
        "id": "AC1nIu2zX01k"
      },
      "source": [
        "Description of the dataset, which includes but is not limited to its size and features"
      ]
    },
    {
      "cell_type": "markdown",
      "source": [
        "# Data loading"
      ],
      "metadata": {
        "id": "YpIEH-aNZ8pv"
      }
    },
    {
      "cell_type": "code",
      "source": [
        "from google.colab import drive\n",
        "drive.mount('/content/drive')"
      ],
      "metadata": {
        "id": "GhjJw8bcX_DC",
        "colab": {
          "base_uri": "https://localhost:8080/"
        },
        "outputId": "681f8f7f-89be-40aa-daa9-2c698768cab6"
      },
      "execution_count": null,
      "outputs": [
        {
          "output_type": "stream",
          "name": "stdout",
          "text": [
            "Drive already mounted at /content/drive; to attempt to forcibly remount, call drive.mount(\"/content/drive\", force_remount=True).\n"
          ]
        }
      ]
    },
    {
      "cell_type": "code",
      "source": [
        "import numpy as np\n",
        "import pandas as pd\n",
        "import matplotlib.pyplot as plt\n",
        "# import os\n",
        "from tqdm import tqdm\n",
        "import random\n",
        "# from collections import Counter\n",
        "\n",
        "import tensorflow as tf\n",
        "from tensorflow.keras.layers import Embedding, LSTM, Dense, Dropout\n",
        "from tensorflow.keras import Model\n",
        "from tensorflow.keras.initializers import GlorotUniform, Zeros\n",
        "from tensorflow.keras import layers, models\n",
        "from keras.callbacks import EarlyStopping\n",
        "from tensorflow.keras import regularizers\n",
        "\n",
        "# import torch\n",
        "# import torch.nn as nn\n",
        "# import torch.optim as optim\n",
        "# from torch.utils.data import Dataset, DataLoader\n",
        "# import torch.nn.utils.rnn as rnn_utils\n",
        "\n",
        "from sklearn.model_selection import train_test_split\n",
        "from sklearn.metrics import accuracy_score, confusion_matrix\n",
        "import seaborn as sns"
      ],
      "metadata": {
        "id": "Nm-I-vtBZFF4"
      },
      "execution_count": null,
      "outputs": []
    },
    {
      "cell_type": "code",
      "execution_count": null,
      "metadata": {
        "id": "dxibw3ifX01m",
        "outputId": "39057796-be92-42b9-eec6-6b683e2b0e6b",
        "colab": {
          "base_uri": "https://localhost:8080/",
          "height": 424
        }
      },
      "outputs": [
        {
          "output_type": "execute_result",
          "data": {
            "text/plain": [
              "                                            EventA  \\\n",
              "0                           PersonX causes trouble   \n",
              "1                      PersonX drops off the radar   \n",
              "2                          PersonX starts the fire   \n",
              "3              PersonX attends to PersonY's duties   \n",
              "4                          PersonX lets PersonY go   \n",
              "...                                            ...   \n",
              "319770              PersonX closes PersonY's doors   \n",
              "319771                   PersonX has a pizza party   \n",
              "319772  PersonX invites PersonY to PersonX's house   \n",
              "319773                PersonX blows PersonY's nose   \n",
              "319774   PersonX gives PersonY PersonX's attention   \n",
              "\n",
              "                                                   EventB relation  \n",
              "0                       ['Is arrested', 'Thrown in jail']  xEffect  \n",
              "1               ['has peace an quiet', 'gets more sleep']  xEffect  \n",
              "2       ['to light a match', 'to pour gasoline everywh...    xNeed  \n",
              "3               ['to hear thanks', 'keep helping person']    xWant  \n",
              "4                                    ['sad, but helpful']   xReact  \n",
              "...                                                   ...      ...  \n",
              "319770                            ['helpful', 'generous']   xReact  \n",
              "319771                 ['thank personx', 'help clean up']    oWant  \n",
              "319772                          ['like he made a friend']   xReact  \n",
              "319773                 ['to protest', 'to thank PersonX']    oWant  \n",
              "319774                ['openminded', 'closer to persony']   xReact  \n",
              "\n",
              "[319775 rows x 3 columns]"
            ],
            "text/html": [
              "\n",
              "  <div id=\"df-8b359b83-c33f-46e3-95b2-8246ef37c7a9\" class=\"colab-df-container\">\n",
              "    <div>\n",
              "<style scoped>\n",
              "    .dataframe tbody tr th:only-of-type {\n",
              "        vertical-align: middle;\n",
              "    }\n",
              "\n",
              "    .dataframe tbody tr th {\n",
              "        vertical-align: top;\n",
              "    }\n",
              "\n",
              "    .dataframe thead th {\n",
              "        text-align: right;\n",
              "    }\n",
              "</style>\n",
              "<table border=\"1\" class=\"dataframe\">\n",
              "  <thead>\n",
              "    <tr style=\"text-align: right;\">\n",
              "      <th></th>\n",
              "      <th>EventA</th>\n",
              "      <th>EventB</th>\n",
              "      <th>relation</th>\n",
              "    </tr>\n",
              "  </thead>\n",
              "  <tbody>\n",
              "    <tr>\n",
              "      <th>0</th>\n",
              "      <td>PersonX causes trouble</td>\n",
              "      <td>['Is arrested', 'Thrown in jail']</td>\n",
              "      <td>xEffect</td>\n",
              "    </tr>\n",
              "    <tr>\n",
              "      <th>1</th>\n",
              "      <td>PersonX drops off the radar</td>\n",
              "      <td>['has peace an quiet', 'gets more sleep']</td>\n",
              "      <td>xEffect</td>\n",
              "    </tr>\n",
              "    <tr>\n",
              "      <th>2</th>\n",
              "      <td>PersonX starts the fire</td>\n",
              "      <td>['to light a match', 'to pour gasoline everywh...</td>\n",
              "      <td>xNeed</td>\n",
              "    </tr>\n",
              "    <tr>\n",
              "      <th>3</th>\n",
              "      <td>PersonX attends to PersonY's duties</td>\n",
              "      <td>['to hear thanks', 'keep helping person']</td>\n",
              "      <td>xWant</td>\n",
              "    </tr>\n",
              "    <tr>\n",
              "      <th>4</th>\n",
              "      <td>PersonX lets PersonY go</td>\n",
              "      <td>['sad, but helpful']</td>\n",
              "      <td>xReact</td>\n",
              "    </tr>\n",
              "    <tr>\n",
              "      <th>...</th>\n",
              "      <td>...</td>\n",
              "      <td>...</td>\n",
              "      <td>...</td>\n",
              "    </tr>\n",
              "    <tr>\n",
              "      <th>319770</th>\n",
              "      <td>PersonX closes PersonY's doors</td>\n",
              "      <td>['helpful', 'generous']</td>\n",
              "      <td>xReact</td>\n",
              "    </tr>\n",
              "    <tr>\n",
              "      <th>319771</th>\n",
              "      <td>PersonX has a pizza party</td>\n",
              "      <td>['thank personx', 'help clean up']</td>\n",
              "      <td>oWant</td>\n",
              "    </tr>\n",
              "    <tr>\n",
              "      <th>319772</th>\n",
              "      <td>PersonX invites PersonY to PersonX's house</td>\n",
              "      <td>['like he made a friend']</td>\n",
              "      <td>xReact</td>\n",
              "    </tr>\n",
              "    <tr>\n",
              "      <th>319773</th>\n",
              "      <td>PersonX blows PersonY's nose</td>\n",
              "      <td>['to protest', 'to thank PersonX']</td>\n",
              "      <td>oWant</td>\n",
              "    </tr>\n",
              "    <tr>\n",
              "      <th>319774</th>\n",
              "      <td>PersonX gives PersonY PersonX's attention</td>\n",
              "      <td>['openminded', 'closer to persony']</td>\n",
              "      <td>xReact</td>\n",
              "    </tr>\n",
              "  </tbody>\n",
              "</table>\n",
              "<p>319775 rows × 3 columns</p>\n",
              "</div>\n",
              "    <div class=\"colab-df-buttons\">\n",
              "\n",
              "  <div class=\"colab-df-container\">\n",
              "    <button class=\"colab-df-convert\" onclick=\"convertToInteractive('df-8b359b83-c33f-46e3-95b2-8246ef37c7a9')\"\n",
              "            title=\"Convert this dataframe to an interactive table.\"\n",
              "            style=\"display:none;\">\n",
              "\n",
              "  <svg xmlns=\"http://www.w3.org/2000/svg\" height=\"24px\" viewBox=\"0 -960 960 960\">\n",
              "    <path d=\"M120-120v-720h720v720H120Zm60-500h600v-160H180v160Zm220 220h160v-160H400v160Zm0 220h160v-160H400v160ZM180-400h160v-160H180v160Zm440 0h160v-160H620v160ZM180-180h160v-160H180v160Zm440 0h160v-160H620v160Z\"/>\n",
              "  </svg>\n",
              "    </button>\n",
              "\n",
              "  <style>\n",
              "    .colab-df-container {\n",
              "      display:flex;\n",
              "      gap: 12px;\n",
              "    }\n",
              "\n",
              "    .colab-df-convert {\n",
              "      background-color: #E8F0FE;\n",
              "      border: none;\n",
              "      border-radius: 50%;\n",
              "      cursor: pointer;\n",
              "      display: none;\n",
              "      fill: #1967D2;\n",
              "      height: 32px;\n",
              "      padding: 0 0 0 0;\n",
              "      width: 32px;\n",
              "    }\n",
              "\n",
              "    .colab-df-convert:hover {\n",
              "      background-color: #E2EBFA;\n",
              "      box-shadow: 0px 1px 2px rgba(60, 64, 67, 0.3), 0px 1px 3px 1px rgba(60, 64, 67, 0.15);\n",
              "      fill: #174EA6;\n",
              "    }\n",
              "\n",
              "    .colab-df-buttons div {\n",
              "      margin-bottom: 4px;\n",
              "    }\n",
              "\n",
              "    [theme=dark] .colab-df-convert {\n",
              "      background-color: #3B4455;\n",
              "      fill: #D2E3FC;\n",
              "    }\n",
              "\n",
              "    [theme=dark] .colab-df-convert:hover {\n",
              "      background-color: #434B5C;\n",
              "      box-shadow: 0px 1px 3px 1px rgba(0, 0, 0, 0.15);\n",
              "      filter: drop-shadow(0px 1px 2px rgba(0, 0, 0, 0.3));\n",
              "      fill: #FFFFFF;\n",
              "    }\n",
              "  </style>\n",
              "\n",
              "    <script>\n",
              "      const buttonEl =\n",
              "        document.querySelector('#df-8b359b83-c33f-46e3-95b2-8246ef37c7a9 button.colab-df-convert');\n",
              "      buttonEl.style.display =\n",
              "        google.colab.kernel.accessAllowed ? 'block' : 'none';\n",
              "\n",
              "      async function convertToInteractive(key) {\n",
              "        const element = document.querySelector('#df-8b359b83-c33f-46e3-95b2-8246ef37c7a9');\n",
              "        const dataTable =\n",
              "          await google.colab.kernel.invokeFunction('convertToInteractive',\n",
              "                                                    [key], {});\n",
              "        if (!dataTable) return;\n",
              "\n",
              "        const docLinkHtml = 'Like what you see? Visit the ' +\n",
              "          '<a target=\"_blank\" href=https://colab.research.google.com/notebooks/data_table.ipynb>data table notebook</a>'\n",
              "          + ' to learn more about interactive tables.';\n",
              "        element.innerHTML = '';\n",
              "        dataTable['output_type'] = 'display_data';\n",
              "        await google.colab.output.renderOutput(dataTable, element);\n",
              "        const docLink = document.createElement('div');\n",
              "        docLink.innerHTML = docLinkHtml;\n",
              "        element.appendChild(docLink);\n",
              "      }\n",
              "    </script>\n",
              "  </div>\n",
              "\n",
              "\n",
              "<div id=\"df-f5a0f679-4b78-4c55-a76b-b383f915a778\">\n",
              "  <button class=\"colab-df-quickchart\" onclick=\"quickchart('df-f5a0f679-4b78-4c55-a76b-b383f915a778')\"\n",
              "            title=\"Suggest charts\"\n",
              "            style=\"display:none;\">\n",
              "\n",
              "<svg xmlns=\"http://www.w3.org/2000/svg\" height=\"24px\"viewBox=\"0 0 24 24\"\n",
              "     width=\"24px\">\n",
              "    <g>\n",
              "        <path d=\"M19 3H5c-1.1 0-2 .9-2 2v14c0 1.1.9 2 2 2h14c1.1 0 2-.9 2-2V5c0-1.1-.9-2-2-2zM9 17H7v-7h2v7zm4 0h-2V7h2v10zm4 0h-2v-4h2v4z\"/>\n",
              "    </g>\n",
              "</svg>\n",
              "  </button>\n",
              "\n",
              "<style>\n",
              "  .colab-df-quickchart {\n",
              "      --bg-color: #E8F0FE;\n",
              "      --fill-color: #1967D2;\n",
              "      --hover-bg-color: #E2EBFA;\n",
              "      --hover-fill-color: #174EA6;\n",
              "      --disabled-fill-color: #AAA;\n",
              "      --disabled-bg-color: #DDD;\n",
              "  }\n",
              "\n",
              "  [theme=dark] .colab-df-quickchart {\n",
              "      --bg-color: #3B4455;\n",
              "      --fill-color: #D2E3FC;\n",
              "      --hover-bg-color: #434B5C;\n",
              "      --hover-fill-color: #FFFFFF;\n",
              "      --disabled-bg-color: #3B4455;\n",
              "      --disabled-fill-color: #666;\n",
              "  }\n",
              "\n",
              "  .colab-df-quickchart {\n",
              "    background-color: var(--bg-color);\n",
              "    border: none;\n",
              "    border-radius: 50%;\n",
              "    cursor: pointer;\n",
              "    display: none;\n",
              "    fill: var(--fill-color);\n",
              "    height: 32px;\n",
              "    padding: 0;\n",
              "    width: 32px;\n",
              "  }\n",
              "\n",
              "  .colab-df-quickchart:hover {\n",
              "    background-color: var(--hover-bg-color);\n",
              "    box-shadow: 0 1px 2px rgba(60, 64, 67, 0.3), 0 1px 3px 1px rgba(60, 64, 67, 0.15);\n",
              "    fill: var(--button-hover-fill-color);\n",
              "  }\n",
              "\n",
              "  .colab-df-quickchart-complete:disabled,\n",
              "  .colab-df-quickchart-complete:disabled:hover {\n",
              "    background-color: var(--disabled-bg-color);\n",
              "    fill: var(--disabled-fill-color);\n",
              "    box-shadow: none;\n",
              "  }\n",
              "\n",
              "  .colab-df-spinner {\n",
              "    border: 2px solid var(--fill-color);\n",
              "    border-color: transparent;\n",
              "    border-bottom-color: var(--fill-color);\n",
              "    animation:\n",
              "      spin 1s steps(1) infinite;\n",
              "  }\n",
              "\n",
              "  @keyframes spin {\n",
              "    0% {\n",
              "      border-color: transparent;\n",
              "      border-bottom-color: var(--fill-color);\n",
              "      border-left-color: var(--fill-color);\n",
              "    }\n",
              "    20% {\n",
              "      border-color: transparent;\n",
              "      border-left-color: var(--fill-color);\n",
              "      border-top-color: var(--fill-color);\n",
              "    }\n",
              "    30% {\n",
              "      border-color: transparent;\n",
              "      border-left-color: var(--fill-color);\n",
              "      border-top-color: var(--fill-color);\n",
              "      border-right-color: var(--fill-color);\n",
              "    }\n",
              "    40% {\n",
              "      border-color: transparent;\n",
              "      border-right-color: var(--fill-color);\n",
              "      border-top-color: var(--fill-color);\n",
              "    }\n",
              "    60% {\n",
              "      border-color: transparent;\n",
              "      border-right-color: var(--fill-color);\n",
              "    }\n",
              "    80% {\n",
              "      border-color: transparent;\n",
              "      border-right-color: var(--fill-color);\n",
              "      border-bottom-color: var(--fill-color);\n",
              "    }\n",
              "    90% {\n",
              "      border-color: transparent;\n",
              "      border-bottom-color: var(--fill-color);\n",
              "    }\n",
              "  }\n",
              "</style>\n",
              "\n",
              "  <script>\n",
              "    async function quickchart(key) {\n",
              "      const quickchartButtonEl =\n",
              "        document.querySelector('#' + key + ' button');\n",
              "      quickchartButtonEl.disabled = true;  // To prevent multiple clicks.\n",
              "      quickchartButtonEl.classList.add('colab-df-spinner');\n",
              "      try {\n",
              "        const charts = await google.colab.kernel.invokeFunction(\n",
              "            'suggestCharts', [key], {});\n",
              "      } catch (error) {\n",
              "        console.error('Error during call to suggestCharts:', error);\n",
              "      }\n",
              "      quickchartButtonEl.classList.remove('colab-df-spinner');\n",
              "      quickchartButtonEl.classList.add('colab-df-quickchart-complete');\n",
              "    }\n",
              "    (() => {\n",
              "      let quickchartButtonEl =\n",
              "        document.querySelector('#df-f5a0f679-4b78-4c55-a76b-b383f915a778 button');\n",
              "      quickchartButtonEl.style.display =\n",
              "        google.colab.kernel.accessAllowed ? 'block' : 'none';\n",
              "    })();\n",
              "  </script>\n",
              "</div>\n",
              "    </div>\n",
              "  </div>\n"
            ],
            "application/vnd.google.colaboratory.intrinsic+json": {
              "type": "dataframe",
              "variable_name": "train_df"
            }
          },
          "metadata": {},
          "execution_count": 95
        }
      ],
      "source": [
        "# Load the train.csv file\n",
        "train_df = pd.read_csv('/content/drive/MyDrive/COMP4211/shuffled_A_B_relation_train.csv')\n",
        "train_df"
      ]
    },
    {
      "cell_type": "code",
      "source": [
        "# Take the first 100000 data points\n",
        "size = 100000\n",
        "# train_df_subset = train_df.sample(n=size, random_state=42)\n",
        "train_df_subset = train_df # take all data instead\n",
        "\n",
        "# Split the subset into training and validation sets (4:1 ratio)\n",
        "train_data, val_data = train_test_split(train_df_subset, test_size=0.2, random_state=42)\n",
        "\n",
        "print(f\"Training data size: {len(train_data)}\")\n",
        "print(f\"Validation data size: {len(val_data)}\")"
      ],
      "metadata": {
        "colab": {
          "base_uri": "https://localhost:8080/"
        },
        "id": "1RBQ5zoVZv50",
        "outputId": "e72db861-f325-4475-b709-bcfe0f7ebcb2"
      },
      "execution_count": null,
      "outputs": [
        {
          "output_type": "stream",
          "name": "stdout",
          "text": [
            "Training data size: 255820\n",
            "Validation data size: 63955\n"
          ]
        }
      ]
    },
    {
      "cell_type": "code",
      "source": [
        "train_data"
      ],
      "metadata": {
        "colab": {
          "base_uri": "https://localhost:8080/",
          "height": 424
        },
        "id": "KeIIMtnIZ4K7",
        "outputId": "a934e8f8-c7ae-47cf-ce33-e8badc186f8e"
      },
      "execution_count": null,
      "outputs": [
        {
          "output_type": "execute_result",
          "data": {
            "text/plain": [
              "                                           EventA  \\\n",
              "175563               PersonX gives PersonY a time   \n",
              "116446                         PersonX texts back   \n",
              "264520    PersonX has to call the fire department   \n",
              "251547                           PersonX sees one   \n",
              "303551         PersonX helps PersonY in every way   \n",
              "...                                           ...   \n",
              "119879                    PersonX tests every ___   \n",
              "259178  PersonX regulates PersonY's ___ according   \n",
              "131932              PersonX meets ___ at the door   \n",
              "146867     PersonX gives ___ to PersonX's parents   \n",
              "121958               PersonX feels very depressed   \n",
              "\n",
              "                                                   EventB relation  \n",
              "175563          ['for discussion', 'to speak', 'to meet']  xIntent  \n",
              "116446                             ['responsive', 'kind']    xAttr  \n",
              "264520  ['to look for the phone', 'to see a fire', 'to...    xNeed  \n",
              "251547      ['to go to it', 'to tell someone he saw one']    xWant  \n",
              "303551           ['considerate', 'friendly', 'dedicated']    xAttr  \n",
              "...                                                   ...      ...  \n",
              "119879                             ['Year', 'assignment']    xWant  \n",
              "259178                                       ['beholden']   oReact  \n",
              "131932  ['PersonX says hello', 'PersonX signs for a pa...  xEffect  \n",
              "146867  ['to check the report card', 'to talk to Perso...    oWant  \n",
              "121958                       ['get drunk', 'fall asleep']    xWant  \n",
              "\n",
              "[255820 rows x 3 columns]"
            ],
            "text/html": [
              "\n",
              "  <div id=\"df-f5eef141-d472-4fc7-832e-eee9674cbf8d\" class=\"colab-df-container\">\n",
              "    <div>\n",
              "<style scoped>\n",
              "    .dataframe tbody tr th:only-of-type {\n",
              "        vertical-align: middle;\n",
              "    }\n",
              "\n",
              "    .dataframe tbody tr th {\n",
              "        vertical-align: top;\n",
              "    }\n",
              "\n",
              "    .dataframe thead th {\n",
              "        text-align: right;\n",
              "    }\n",
              "</style>\n",
              "<table border=\"1\" class=\"dataframe\">\n",
              "  <thead>\n",
              "    <tr style=\"text-align: right;\">\n",
              "      <th></th>\n",
              "      <th>EventA</th>\n",
              "      <th>EventB</th>\n",
              "      <th>relation</th>\n",
              "    </tr>\n",
              "  </thead>\n",
              "  <tbody>\n",
              "    <tr>\n",
              "      <th>175563</th>\n",
              "      <td>PersonX gives PersonY a time</td>\n",
              "      <td>['for discussion', 'to speak', 'to meet']</td>\n",
              "      <td>xIntent</td>\n",
              "    </tr>\n",
              "    <tr>\n",
              "      <th>116446</th>\n",
              "      <td>PersonX texts back</td>\n",
              "      <td>['responsive', 'kind']</td>\n",
              "      <td>xAttr</td>\n",
              "    </tr>\n",
              "    <tr>\n",
              "      <th>264520</th>\n",
              "      <td>PersonX has to call the fire department</td>\n",
              "      <td>['to look for the phone', 'to see a fire', 'to...</td>\n",
              "      <td>xNeed</td>\n",
              "    </tr>\n",
              "    <tr>\n",
              "      <th>251547</th>\n",
              "      <td>PersonX sees one</td>\n",
              "      <td>['to go to it', 'to tell someone he saw one']</td>\n",
              "      <td>xWant</td>\n",
              "    </tr>\n",
              "    <tr>\n",
              "      <th>303551</th>\n",
              "      <td>PersonX helps PersonY in every way</td>\n",
              "      <td>['considerate', 'friendly', 'dedicated']</td>\n",
              "      <td>xAttr</td>\n",
              "    </tr>\n",
              "    <tr>\n",
              "      <th>...</th>\n",
              "      <td>...</td>\n",
              "      <td>...</td>\n",
              "      <td>...</td>\n",
              "    </tr>\n",
              "    <tr>\n",
              "      <th>119879</th>\n",
              "      <td>PersonX tests every ___</td>\n",
              "      <td>['Year', 'assignment']</td>\n",
              "      <td>xWant</td>\n",
              "    </tr>\n",
              "    <tr>\n",
              "      <th>259178</th>\n",
              "      <td>PersonX regulates PersonY's ___ according</td>\n",
              "      <td>['beholden']</td>\n",
              "      <td>oReact</td>\n",
              "    </tr>\n",
              "    <tr>\n",
              "      <th>131932</th>\n",
              "      <td>PersonX meets ___ at the door</td>\n",
              "      <td>['PersonX says hello', 'PersonX signs for a pa...</td>\n",
              "      <td>xEffect</td>\n",
              "    </tr>\n",
              "    <tr>\n",
              "      <th>146867</th>\n",
              "      <td>PersonX gives ___ to PersonX's parents</td>\n",
              "      <td>['to check the report card', 'to talk to Perso...</td>\n",
              "      <td>oWant</td>\n",
              "    </tr>\n",
              "    <tr>\n",
              "      <th>121958</th>\n",
              "      <td>PersonX feels very depressed</td>\n",
              "      <td>['get drunk', 'fall asleep']</td>\n",
              "      <td>xWant</td>\n",
              "    </tr>\n",
              "  </tbody>\n",
              "</table>\n",
              "<p>255820 rows × 3 columns</p>\n",
              "</div>\n",
              "    <div class=\"colab-df-buttons\">\n",
              "\n",
              "  <div class=\"colab-df-container\">\n",
              "    <button class=\"colab-df-convert\" onclick=\"convertToInteractive('df-f5eef141-d472-4fc7-832e-eee9674cbf8d')\"\n",
              "            title=\"Convert this dataframe to an interactive table.\"\n",
              "            style=\"display:none;\">\n",
              "\n",
              "  <svg xmlns=\"http://www.w3.org/2000/svg\" height=\"24px\" viewBox=\"0 -960 960 960\">\n",
              "    <path d=\"M120-120v-720h720v720H120Zm60-500h600v-160H180v160Zm220 220h160v-160H400v160Zm0 220h160v-160H400v160ZM180-400h160v-160H180v160Zm440 0h160v-160H620v160ZM180-180h160v-160H180v160Zm440 0h160v-160H620v160Z\"/>\n",
              "  </svg>\n",
              "    </button>\n",
              "\n",
              "  <style>\n",
              "    .colab-df-container {\n",
              "      display:flex;\n",
              "      gap: 12px;\n",
              "    }\n",
              "\n",
              "    .colab-df-convert {\n",
              "      background-color: #E8F0FE;\n",
              "      border: none;\n",
              "      border-radius: 50%;\n",
              "      cursor: pointer;\n",
              "      display: none;\n",
              "      fill: #1967D2;\n",
              "      height: 32px;\n",
              "      padding: 0 0 0 0;\n",
              "      width: 32px;\n",
              "    }\n",
              "\n",
              "    .colab-df-convert:hover {\n",
              "      background-color: #E2EBFA;\n",
              "      box-shadow: 0px 1px 2px rgba(60, 64, 67, 0.3), 0px 1px 3px 1px rgba(60, 64, 67, 0.15);\n",
              "      fill: #174EA6;\n",
              "    }\n",
              "\n",
              "    .colab-df-buttons div {\n",
              "      margin-bottom: 4px;\n",
              "    }\n",
              "\n",
              "    [theme=dark] .colab-df-convert {\n",
              "      background-color: #3B4455;\n",
              "      fill: #D2E3FC;\n",
              "    }\n",
              "\n",
              "    [theme=dark] .colab-df-convert:hover {\n",
              "      background-color: #434B5C;\n",
              "      box-shadow: 0px 1px 3px 1px rgba(0, 0, 0, 0.15);\n",
              "      filter: drop-shadow(0px 1px 2px rgba(0, 0, 0, 0.3));\n",
              "      fill: #FFFFFF;\n",
              "    }\n",
              "  </style>\n",
              "\n",
              "    <script>\n",
              "      const buttonEl =\n",
              "        document.querySelector('#df-f5eef141-d472-4fc7-832e-eee9674cbf8d button.colab-df-convert');\n",
              "      buttonEl.style.display =\n",
              "        google.colab.kernel.accessAllowed ? 'block' : 'none';\n",
              "\n",
              "      async function convertToInteractive(key) {\n",
              "        const element = document.querySelector('#df-f5eef141-d472-4fc7-832e-eee9674cbf8d');\n",
              "        const dataTable =\n",
              "          await google.colab.kernel.invokeFunction('convertToInteractive',\n",
              "                                                    [key], {});\n",
              "        if (!dataTable) return;\n",
              "\n",
              "        const docLinkHtml = 'Like what you see? Visit the ' +\n",
              "          '<a target=\"_blank\" href=https://colab.research.google.com/notebooks/data_table.ipynb>data table notebook</a>'\n",
              "          + ' to learn more about interactive tables.';\n",
              "        element.innerHTML = '';\n",
              "        dataTable['output_type'] = 'display_data';\n",
              "        await google.colab.output.renderOutput(dataTable, element);\n",
              "        const docLink = document.createElement('div');\n",
              "        docLink.innerHTML = docLinkHtml;\n",
              "        element.appendChild(docLink);\n",
              "      }\n",
              "    </script>\n",
              "  </div>\n",
              "\n",
              "\n",
              "<div id=\"df-0b31bb39-92c9-442d-bf4b-dbc60d6026c1\">\n",
              "  <button class=\"colab-df-quickchart\" onclick=\"quickchart('df-0b31bb39-92c9-442d-bf4b-dbc60d6026c1')\"\n",
              "            title=\"Suggest charts\"\n",
              "            style=\"display:none;\">\n",
              "\n",
              "<svg xmlns=\"http://www.w3.org/2000/svg\" height=\"24px\"viewBox=\"0 0 24 24\"\n",
              "     width=\"24px\">\n",
              "    <g>\n",
              "        <path d=\"M19 3H5c-1.1 0-2 .9-2 2v14c0 1.1.9 2 2 2h14c1.1 0 2-.9 2-2V5c0-1.1-.9-2-2-2zM9 17H7v-7h2v7zm4 0h-2V7h2v10zm4 0h-2v-4h2v4z\"/>\n",
              "    </g>\n",
              "</svg>\n",
              "  </button>\n",
              "\n",
              "<style>\n",
              "  .colab-df-quickchart {\n",
              "      --bg-color: #E8F0FE;\n",
              "      --fill-color: #1967D2;\n",
              "      --hover-bg-color: #E2EBFA;\n",
              "      --hover-fill-color: #174EA6;\n",
              "      --disabled-fill-color: #AAA;\n",
              "      --disabled-bg-color: #DDD;\n",
              "  }\n",
              "\n",
              "  [theme=dark] .colab-df-quickchart {\n",
              "      --bg-color: #3B4455;\n",
              "      --fill-color: #D2E3FC;\n",
              "      --hover-bg-color: #434B5C;\n",
              "      --hover-fill-color: #FFFFFF;\n",
              "      --disabled-bg-color: #3B4455;\n",
              "      --disabled-fill-color: #666;\n",
              "  }\n",
              "\n",
              "  .colab-df-quickchart {\n",
              "    background-color: var(--bg-color);\n",
              "    border: none;\n",
              "    border-radius: 50%;\n",
              "    cursor: pointer;\n",
              "    display: none;\n",
              "    fill: var(--fill-color);\n",
              "    height: 32px;\n",
              "    padding: 0;\n",
              "    width: 32px;\n",
              "  }\n",
              "\n",
              "  .colab-df-quickchart:hover {\n",
              "    background-color: var(--hover-bg-color);\n",
              "    box-shadow: 0 1px 2px rgba(60, 64, 67, 0.3), 0 1px 3px 1px rgba(60, 64, 67, 0.15);\n",
              "    fill: var(--button-hover-fill-color);\n",
              "  }\n",
              "\n",
              "  .colab-df-quickchart-complete:disabled,\n",
              "  .colab-df-quickchart-complete:disabled:hover {\n",
              "    background-color: var(--disabled-bg-color);\n",
              "    fill: var(--disabled-fill-color);\n",
              "    box-shadow: none;\n",
              "  }\n",
              "\n",
              "  .colab-df-spinner {\n",
              "    border: 2px solid var(--fill-color);\n",
              "    border-color: transparent;\n",
              "    border-bottom-color: var(--fill-color);\n",
              "    animation:\n",
              "      spin 1s steps(1) infinite;\n",
              "  }\n",
              "\n",
              "  @keyframes spin {\n",
              "    0% {\n",
              "      border-color: transparent;\n",
              "      border-bottom-color: var(--fill-color);\n",
              "      border-left-color: var(--fill-color);\n",
              "    }\n",
              "    20% {\n",
              "      border-color: transparent;\n",
              "      border-left-color: var(--fill-color);\n",
              "      border-top-color: var(--fill-color);\n",
              "    }\n",
              "    30% {\n",
              "      border-color: transparent;\n",
              "      border-left-color: var(--fill-color);\n",
              "      border-top-color: var(--fill-color);\n",
              "      border-right-color: var(--fill-color);\n",
              "    }\n",
              "    40% {\n",
              "      border-color: transparent;\n",
              "      border-right-color: var(--fill-color);\n",
              "      border-top-color: var(--fill-color);\n",
              "    }\n",
              "    60% {\n",
              "      border-color: transparent;\n",
              "      border-right-color: var(--fill-color);\n",
              "    }\n",
              "    80% {\n",
              "      border-color: transparent;\n",
              "      border-right-color: var(--fill-color);\n",
              "      border-bottom-color: var(--fill-color);\n",
              "    }\n",
              "    90% {\n",
              "      border-color: transparent;\n",
              "      border-bottom-color: var(--fill-color);\n",
              "    }\n",
              "  }\n",
              "</style>\n",
              "\n",
              "  <script>\n",
              "    async function quickchart(key) {\n",
              "      const quickchartButtonEl =\n",
              "        document.querySelector('#' + key + ' button');\n",
              "      quickchartButtonEl.disabled = true;  // To prevent multiple clicks.\n",
              "      quickchartButtonEl.classList.add('colab-df-spinner');\n",
              "      try {\n",
              "        const charts = await google.colab.kernel.invokeFunction(\n",
              "            'suggestCharts', [key], {});\n",
              "      } catch (error) {\n",
              "        console.error('Error during call to suggestCharts:', error);\n",
              "      }\n",
              "      quickchartButtonEl.classList.remove('colab-df-spinner');\n",
              "      quickchartButtonEl.classList.add('colab-df-quickchart-complete');\n",
              "    }\n",
              "    (() => {\n",
              "      let quickchartButtonEl =\n",
              "        document.querySelector('#df-0b31bb39-92c9-442d-bf4b-dbc60d6026c1 button');\n",
              "      quickchartButtonEl.style.display =\n",
              "        google.colab.kernel.accessAllowed ? 'block' : 'none';\n",
              "    })();\n",
              "  </script>\n",
              "</div>\n",
              "    </div>\n",
              "  </div>\n"
            ],
            "application/vnd.google.colaboratory.intrinsic+json": {
              "type": "dataframe",
              "variable_name": "train_data"
            }
          },
          "metadata": {},
          "execution_count": 120
        }
      ]
    },
    {
      "cell_type": "code",
      "source": [
        "relation_counts = train_data['relation'].value_counts()\n",
        "relation_counts.plot(kind='bar')\n",
        "plt.xlabel('Relation')\n",
        "plt.ylabel('Frequency')\n",
        "plt.title('Class Distribution in Training Data')\n",
        "plt.show()"
      ],
      "metadata": {
        "colab": {
          "base_uri": "https://localhost:8080/",
          "height": 507
        },
        "id": "bOie5S0cwhaT",
        "outputId": "872c08a4-b759-4473-b090-cc19556dc048"
      },
      "execution_count": null,
      "outputs": [
        {
          "output_type": "display_data",
          "data": {
            "text/plain": [
              "<Figure size 640x480 with 1 Axes>"
            ],
            "image/png": "[encoded data removed]"
          },
          "metadata": {}
        }
      ]
    },
    {
      "cell_type": "code",
      "source": [
        "# 检查输入事件的文本长度分布\n",
        "train_data['text_length'] = train_data['EventA'].apply(len) + train_data['EventB'].apply(len)\n",
        "train_data['text_length'].plot(kind='hist', bins=50)\n",
        "plt.xlabel('Text Length')\n",
        "plt.ylabel('Frequency')\n",
        "plt.title('Distribution of Event Text Lengths')\n",
        "plt.show()"
      ],
      "metadata": {
        "colab": {
          "base_uri": "https://localhost:8080/",
          "height": 472
        },
        "id": "4I_bbxexwoSi",
        "outputId": "3e61687f-93d5-43d2-bc93-85143f0373a6"
      },
      "execution_count": null,
      "outputs": [
        {
          "output_type": "display_data",
          "data": {
            "text/plain": [
              "<Figure size 640x480 with 1 Axes>"
            ],
            "image/png": "[encoded data removed]"
          },
          "metadata": {}
        }
      ]
    },
    {
      "cell_type": "code",
      "source": [
        "train_data[\"relation\"].unique()"
      ],
      "metadata": {
        "colab": {
          "base_uri": "https://localhost:8080/"
        },
        "id": "6BRh8rWRf8HM",
        "outputId": "6ae80a25-cd66-4dd4-d641-0d8fb77ed744"
      },
      "execution_count": null,
      "outputs": [
        {
          "output_type": "execute_result",
          "data": {
            "text/plain": [
              "array(['oWant', 'oEffect', 'xNeed', 'xAttr', 'xWant', 'xReact', 'xEffect',\n",
              "       'xIntent', 'oReact'], dtype=object)"
            ]
          },
          "metadata": {},
          "execution_count": 100
        }
      ]
    },
    {
      "cell_type": "markdown",
      "source": [
        "Define Custom Dataset Class"
      ],
      "metadata": {
        "id": "yAMjBuqkbwJp"
      }
    },
    {
      "cell_type": "code",
      "source": [
        "# Step 1: Construct the relation vocabulary\n",
        "relations = train_data['relation'].unique()\n",
        "relation_vocab = {relation: idx for idx, relation in enumerate(relations)}\n",
        "print(\"Relation Vocabulary:\", relation_vocab)  # 查看关系与索引的映射"
      ],
      "metadata": {
        "colab": {
          "base_uri": "https://localhost:8080/"
        },
        "id": "Xi4NQpQOks0-",
        "outputId": "79a0150f-df51-4bf3-c623-7c0de11a52a3"
      },
      "execution_count": null,
      "outputs": [
        {
          "output_type": "stream",
          "name": "stdout",
          "text": [
            "Relation Vocabulary: {'oWant': 0, 'oEffect': 1, 'xNeed': 2, 'xAttr': 3, 'xWant': 4, 'xReact': 5, 'xEffect': 6, 'xIntent': 7, 'oReact': 8}\n"
          ]
        }
      ]
    },
    {
      "cell_type": "code",
      "source": [
        "# from collections import Counter\n",
        "\n",
        "# # Step 2: Construct the event vocabulary\n",
        "# # Get all event texts\n",
        "# all_text = train_data['EventA'].tolist() + train_data['EventB'].tolist()\n",
        "\n",
        "# # Tokenize the text\n",
        "# all_tokens = []\n",
        "# for text in all_text:\n",
        "#     tokens = text.split()\n",
        "#     all_tokens.extend(tokens)\n",
        "\n",
        "# # Count token frequencies\n",
        "# token_counter = Counter(all_tokens)\n",
        "\n",
        "# # Create the vocabulary: Use idx + 1 to reserve 0 for padding\n",
        "# vocab = {word: idx + 1 for idx, (word, _) in enumerate(token_counter.items())}\n",
        "# vocab['<unk>'] = 0  # Special token for unknown words\n",
        "\n",
        "# # Check vocabulary size\n",
        "# print(f\"Vocabulary size: {len(vocab)}\")"
      ],
      "metadata": {
        "colab": {
          "base_uri": "https://localhost:8080/"
        },
        "id": "ImsNJsprzLTC",
        "outputId": "6794b8e6-a708-4bf9-d229-7e2683148ab6"
      },
      "execution_count": null,
      "outputs": [
        {
          "output_type": "stream",
          "name": "stdout",
          "text": [
            "Vocabulary size: 42147\n"
          ]
        }
      ]
    },
    {
      "cell_type": "markdown",
      "source": [
        "## Resampling (will not use)\n",
        "\n",
        "SMOTE 不适用于文本数据，因为文本数据的特征空间不适合进行插值。"
      ],
      "metadata": {
        "id": "gOGnQIWtzj_9"
      }
    },
    {
      "cell_type": "code",
      "source": [
        "from imblearn.over_sampling import SMOTE\n",
        "\n",
        "# 将训练数据转换为 NumPy 数组\n",
        "train_features_np = preprocess_input(train_data, vocab)\n",
        "train_targets_np = train_data['relation'].map(relation_vocab).values\n",
        "\n",
        "# 使用 SMOTE 重采样\n",
        "smote = SMOTE()\n",
        "train_features_resampled, train_targets_resampled = smote.fit_resample(train_features_np, train_targets_np)\n",
        "\n",
        "# 将重采样后的数据转换为 TensorFlow Dataset\n",
        "train_dataset_resampled = tf.data.Dataset.from_tensor_slices((train_features_resampled, train_targets_resampled))"
      ],
      "metadata": {
        "id": "ivlqWDo3zpnc"
      },
      "execution_count": null,
      "outputs": []
    },
    {
      "cell_type": "code",
      "source": [
        "resampled_targets_series = pd.Series(train_targets_resampled)\n",
        "print(len(resampled_targets_series))\n",
        "\n",
        "# plot out the new resampled data\n",
        "resampled_targets_series.value_counts().plot(kind='bar')\n",
        "plt.xlabel('Class Label')\n",
        "plt.ylabel('Frequency')\n",
        "plt.title('Class Distribution after Resampling')\n",
        "plt.show()"
      ],
      "metadata": {
        "colab": {
          "base_uri": "https://localhost:8080/",
          "height": 485
        },
        "id": "nUv5aFiiz1Sw",
        "outputId": "74c6d4f4-e8dc-4223-f314-25f4eac5cc45"
      },
      "execution_count": null,
      "outputs": [
        {
          "output_type": "stream",
          "name": "stdout",
          "text": [
            "124065\n"
          ]
        },
        {
          "output_type": "display_data",
          "data": {
            "text/plain": [
              "<Figure size 640x480 with 1 Axes>"
            ],
            "image/png": "[encoded data removed]"
          },
          "metadata": {}
        }
      ]
    },
    {
      "cell_type": "code",
      "source": [
        "print(train_dataset_resampled)"
      ],
      "metadata": {
        "colab": {
          "base_uri": "https://localhost:8080/"
        },
        "id": "w6JfSe0g1vze",
        "outputId": "c4c0c18a-3d6a-420c-b02a-85bcc8935a95"
      },
      "execution_count": null,
      "outputs": [
        {
          "output_type": "stream",
          "name": "stdout",
          "text": [
            "<_TensorSliceDataset element_spec=(TensorSpec(shape=(15,), dtype=tf.int32, name=None), TensorSpec(shape=(), dtype=tf.int64, name=None))>\n"
          ]
        }
      ]
    },
    {
      "cell_type": "markdown",
      "source": [
        "## Data Augmentation"
      ],
      "metadata": {
        "id": "0-qeYaOn9brZ"
      }
    },
    {
      "cell_type": "code",
      "source": [
        "import nltk\n",
        "from nltk.corpus import wordnet\n",
        "\n",
        "# 下载 WordNet 数据\n",
        "nltk.download('wordnet')\n",
        "nltk.download('omw-1.4')\n",
        "\n",
        "def synonym_replacement(sentence, n=2):\n",
        "    words = sentence.split()\n",
        "    new_words = words.copy()\n",
        "    random_word_list = list(set([word for word in words if wordnet.synsets(word)]))\n",
        "    random.shuffle(random_word_list)\n",
        "    num_replaced = 0\n",
        "    for random_word in random_word_list:\n",
        "        synonyms = wordnet.synsets(random_word)\n",
        "        if synonyms:\n",
        "            synonym = synonyms[0].lemmas()[0].name()\n",
        "            if synonym != random_word:\n",
        "                new_words = [synonym if word == random_word else word for word in new_words]\n",
        "                num_replaced += 1\n",
        "            if num_replaced >= n:\n",
        "                break\n",
        "    return ' '.join(new_words)"
      ],
      "metadata": {
        "colab": {
          "base_uri": "https://localhost:8080/"
        },
        "id": "ztMPzr3b94v7",
        "outputId": "3aa2147b-92db-48e9-ba23-a2f59c0cbc6d"
      },
      "execution_count": null,
      "outputs": [
        {
          "output_type": "stream",
          "name": "stderr",
          "text": [
            "[nltk_data] Downloading package wordnet to /root/nltk_data...\n",
            "[nltk_data] Downloading package omw-1.4 to /root/nltk_data...\n"
          ]
        }
      ]
    },
    {
      "cell_type": "code",
      "source": [
        "augmented_data = []\n",
        "\n",
        "for _, row in train_data.iterrows():\n",
        "    event_a = row['EventA']\n",
        "    event_b = row['EventB']\n",
        "    relation = row['relation']\n",
        "\n",
        "    # 原始数据\n",
        "    augmented_data.append({'EventA': event_a, 'EventB': event_b, 'relation': relation})\n",
        "\n",
        "    # 对 EventA 和 EventB 分别进行数据增强\n",
        "    augmented_event_a = synonym_replacement(event_a)\n",
        "    augmented_event_b = synonym_replacement(event_b)\n",
        "\n",
        "    # 添加增强后的数据\n",
        "    augmented_data.append({'EventA': augmented_event_a, 'EventB': event_b, 'relation': relation})\n",
        "    augmented_data.append({'EventA': event_a, 'EventB': augmented_event_b, 'relation': relation})\n",
        "    augmented_data.append({'EventA': augmented_event_a, 'EventB': augmented_event_b, 'relation': relation})\n",
        "\n",
        "# 转换为 DataFrame\n",
        "augmented_df = pd.DataFrame(augmented_data)"
      ],
      "metadata": {
        "id": "64dVRnGt_lHs"
      },
      "execution_count": null,
      "outputs": []
    },
    {
      "cell_type": "code",
      "source": [
        "# 获取所有文本\n",
        "all_text = augmented_df['EventA'].tolist() + augmented_df['EventB'].tolist()\n",
        "\n",
        "# 分词\n",
        "all_tokens = []\n",
        "for text in all_text:\n",
        "    tokens = text.split()\n",
        "    all_tokens.extend(tokens)\n",
        "\n",
        "# 统计词频\n",
        "token_counter = Counter(all_tokens)\n",
        "\n",
        "# 创建词汇表\n",
        "vocab = {word: idx + 1 for idx, (word, _) in enumerate(token_counter.items())}\n",
        "vocab['<unk>'] = 0  # 未知词\n",
        "print(f\"Vocabulary size: {len(vocab)}\")"
      ],
      "metadata": {
        "colab": {
          "base_uri": "https://localhost:8080/"
        },
        "id": "6xq1IcKE_nKf",
        "outputId": "06844537-5b56-4f06-bb4d-da588ad039b3"
      },
      "execution_count": null,
      "outputs": [
        {
          "output_type": "stream",
          "name": "stdout",
          "text": [
            "Vocabulary size: 76488\n"
          ]
        }
      ]
    },
    {
      "cell_type": "markdown",
      "source": [
        "## Data -> tf format"
      ],
      "metadata": {
        "id": "GYVHtgCMzlo1"
      }
    },
    {
      "cell_type": "code",
      "source": [
        "# Step 3: Prepare the dataset using TensorFlow\n",
        "class AtomicDataset(tf.data.Dataset):\n",
        "    def __new__(cls, dataframe, vocab, relation_vocab, max_length=15):\n",
        "        # Convert the dataframe into sequences of indices\n",
        "        original_features_list = []\n",
        "        features_list = []\n",
        "        targets_list = []\n",
        "\n",
        "        for _, row in dataframe.iterrows():\n",
        "            # Concatenate EventA and EventB as the input features\n",
        "            original_features = row['EventA'] + \" \" + row['EventB']\n",
        "            features = original_features\n",
        "            tokens = features.split()\n",
        "\n",
        "            # Convert tokens to indices using vocab\n",
        "            feature_indices = [vocab.get(word, 0) for word in tokens]  # Use 0 if word is not in vocab (<unk>)\n",
        "\n",
        "            # Padding or trimming to ensure consistent length\n",
        "            if len(feature_indices) > max_length:\n",
        "                feature_indices = feature_indices[:max_length]  # Trim to max_length\n",
        "            else:\n",
        "                feature_indices += [0] * (max_length - len(feature_indices))  # Pad with zeros\n",
        "\n",
        "            # Append features and target to the list\n",
        "            original_features_list.append(original_features)\n",
        "            features_list.append(feature_indices)\n",
        "            targets_list.append(relation_vocab[row['relation']])\n",
        "\n",
        "        # Convert lists to numpy arrays\n",
        "        original_features_np = np.array(original_features_list, dtype=np.str_)\n",
        "        features_np = np.array(features_list, dtype=np.int32)\n",
        "        targets_np = np.array(targets_list, dtype=np.int32)\n",
        "\n",
        "        # Create a TensorFlow dataset\n",
        "        # return tf.data.Dataset.from_tensor_slices((original_features_np, features_np, targets_np)) # only used to check before training, not used anymore\n",
        "        return tf.data.Dataset.from_tensor_slices((features_np, targets_np))"
      ],
      "metadata": {
        "id": "L_HQ3APvboCb"
      },
      "execution_count": null,
      "outputs": []
    },
    {
      "cell_type": "code",
      "source": [
        "# Step 4: Create training and validation datasets\n",
        "train_data_augmented, val_data_augmented = train_test_split(augmented_df, test_size=0.2, random_state=42)\n",
        "\n",
        "train_dataset = AtomicDataset(train_data_augmented, vocab, relation_vocab)\n",
        "val_dataset = AtomicDataset(val_data_augmented, vocab, relation_vocab)\n",
        "\n",
        "# Set batch size\n",
        "batch_size = 256\n",
        "\n",
        "# Shuffle and batch the training dataset, plus caching the dataset\n",
        "train_dataset = train_dataset.shuffle(buffer_size=len(train_data_augmented)).batch(batch_size).prefetch(buffer_size=tf.data.AUTOTUNE)\n",
        "val_dataset = val_dataset.batch(batch_size).prefetch(buffer_size=tf.data.AUTOTUNE)"
      ],
      "metadata": {
        "id": "1VEo6Wo6oJZr"
      },
      "execution_count": null,
      "outputs": []
    },
    {
      "cell_type": "markdown",
      "source": [
        "testing dataset"
      ],
      "metadata": {
        "id": "PURe9uqhyi9D"
      }
    },
    {
      "cell_type": "code",
      "source": [
        "# Check 1 sample from the dataset\n",
        "# with original feature debugging is commented out as input dim is 2 but not 3\n",
        "# for i, (original_features, features, target) in enumerate(train_dataset.take(1)):\n",
        "    # original_features_decoded = [feat.decode('utf-8') if isinstance(feat, bytes) else feat for feat in original_features.numpy()]\n",
        "    # print(f\"Original Features (Index {i}): {' '.join(original_features_decoded)}\")\n",
        "    # print(f\"Encoded Features (Index {i}): {features.numpy()}\")\n",
        "    # print(f\"Target (Index {i}): {target.numpy()}\")\n",
        "\n",
        "for i, (features, target) in enumerate(train_dataset.take(1)):\n",
        "    print(f\"Features shape: {features.shape}\")\n",
        "    print(f\"Target shape: {target.shape}\")\n",
        "    print(f\"Features (Index {i}): {features.numpy()}\")\n",
        "    print(f\"Target (Index {i}): {target.numpy()}\")"
      ],
      "metadata": {
        "colab": {
          "base_uri": "https://localhost:8080/"
        },
        "id": "D34v3wmoymcD",
        "outputId": "b3554125-649b-45a0-f6a8-f6dda85c4af0"
      },
      "execution_count": null,
      "outputs": [
        {
          "output_type": "stream",
          "name": "stdout",
          "text": [
            "Features shape: (256, 15)\n",
            "Target shape: (256,)\n",
            "Features (Index 0): [[   1 1145   27 ...    0    0    0]\n",
            " [   1  990   29 ...    0    0    0]\n",
            " [   1  176   14 ...    0    0    0]\n",
            " ...\n",
            " [   1  135 4898 ...    0    0    0]\n",
            " [   1 1147   27 ...    0    0    0]\n",
            " [   1   11 6078 ... 1559 6351  146]]\n",
            "Target (Index 0): [7 3 5 4 3 7 2 7 5 1 4 3 5 5 6 7 0 6 4 1 7 6 4 7 6 1 1 3 5 1 6 8 4 4 2 4 6\n",
            " 4 7 0 0 3 0 4 4 5 3 3 1 6 5 7 0 5 4 3 4 3 6 2 8 7 3 3 3 3 1 1 7 0 6 6 8 4\n",
            " 7 2 2 8 5 2 3 4 6 4 8 3 4 4 4 6 6 5 2 2 7 4 3 3 4 6 0 5 3 7 3 5 7 0 0 3 3\n",
            " 6 1 7 7 3 4 3 5 5 2 3 3 4 3 6 5 2 4 5 7 4 6 0 2 6 4 4 1 2 8 2 2 6 2 5 3 6\n",
            " 2 0 5 2 6 6 4 6 3 6 7 3 8 8 8 4 0 3 7 6 7 3 6 3 4 3 2 5 2 5 2 8 1 1 6 0 2\n",
            " 7 6 2 6 4 2 5 3 7 3 2 3 5 2 6 6 5 3 6 4 4 7 4 2 1 2 0 6 3 3 6 6 5 4 2 2 6\n",
            " 4 3 0 2 2 2 0 5 3 4 3 5 5 5 8 3 5 1 2 6 7 7 4 6 6 4 2 7 0 5 0 5 7 4]\n"
          ]
        }
      ]
    },
    {
      "cell_type": "markdown",
      "source": [
        "# Training"
      ],
      "metadata": {
        "id": "V_4uTVIOZ6NJ"
      }
    },
    {
      "cell_type": "markdown",
      "source": [
        "Define LSTM Model"
      ],
      "metadata": {
        "id": "pjp4HTdEbtSy"
      }
    },
    {
      "cell_type": "code",
      "source": [
        "# Step 5: Define LSTM Model\n",
        "vocab_size = len(vocab) + 1  # Add 1 to include <pad> or <unk> token\n",
        "embedding_dim = 64           # Dimension of word embeddings\n",
        "hidden_dim = 256             # Hidden dimension of LSTM\n",
        "output_dim = len(relation_vocab)  # Output dimension matches the number of relation classes\n",
        "\n",
        "# Define LSTM model using Keras Sequential API\n",
        "model = models.Sequential([\n",
        "    layers.Embedding(input_dim=vocab_size, output_dim=embedding_dim, input_length=15),\n",
        "    layers.LSTM(hidden_dim, return_sequences=False, dropout=0.5),\n",
        "    layers.BatchNormalization(), # enhanse convergense\n",
        "    layers.Dense(256, activation='relu'), # Added an extra Dense layer]\n",
        "    layers.Dropout(0.5),  # Dropout to prevent overfitting\n",
        "    layers.Dense(output_dim, activation='softmax', kernel_regularizer=regularizers.l2(0.01))\n",
        "])\n",
        "\n",
        "# Compile the model\n",
        "model.compile(optimizer='adam', loss='sparse_categorical_crossentropy', metrics=['accuracy'])\n",
        "\n",
        "# Show model summary\n",
        "model.summary()"
      ],
      "metadata": {
        "colab": {
          "base_uri": "https://localhost:8080/",
          "height": 347
        },
        "id": "tuhtnVzomxPi",
        "outputId": "ec2e6fa2-41d1-48fe-8c9a-733fbec0a48c"
      },
      "execution_count": null,
      "outputs": [
        {
          "output_type": "display_data",
          "data": {
            "text/plain": [
              "\u001b[1mModel: \"sequential_8\"\u001b[0m\n"
            ],
            "text/html": [
              "<pre style=\"white-space:pre;overflow-x:auto;line-height:normal;font-family:Menlo,'DejaVu Sans Mono',consolas,'Courier New',monospace\"><span style=\"font-weight: bold\">Model: \"sequential_8\"</span>\n",
              "</pre>\n"
            ]
          },
          "metadata": {}
        },
        {
          "output_type": "display_data",
          "data": {
            "text/plain": [
              "┏━━━━━━━━━━━━━━━━━━━━━━━━━━━━━━━━━━━━━━┳━━━━━━━━━━━━━━━━━━━━━━━━━━━━━┳━━━━━━━━━━━━━━━━━┓\n",
              "┃\u001b[1m \u001b[0m\u001b[1mLayer (type)                        \u001b[0m\u001b[1m \u001b[0m┃\u001b[1m \u001b[0m\u001b[1mOutput Shape               \u001b[0m\u001b[1m \u001b[0m┃\u001b[1m \u001b[0m\u001b[1m        Param #\u001b[0m\u001b[1m \u001b[0m┃\n",
              "┡━━━━━━━━━━━━━━━━━━━━━━━━━━━━━━━━━━━━━━╇━━━━━━━━━━━━━━━━━━━━━━━━━━━━━╇━━━━━━━━━━━━━━━━━┩\n",
              "│ embedding_9 (\u001b[38;5;33mEmbedding\u001b[0m)              │ ?                           │     \u001b[38;5;34m0\u001b[0m (unbuilt) │\n",
              "├──────────────────────────────────────┼─────────────────────────────┼─────────────────┤\n",
              "│ lstm_9 (\u001b[38;5;33mLSTM\u001b[0m)                        │ ?                           │     \u001b[38;5;34m0\u001b[0m (unbuilt) │\n",
              "├──────────────────────────────────────┼─────────────────────────────┼─────────────────┤\n",
              "│ batch_normalization_5                │ ?                           │     \u001b[38;5;34m0\u001b[0m (unbuilt) │\n",
              "│ (\u001b[38;5;33mBatchNormalization\u001b[0m)                 │                             │                 │\n",
              "├──────────────────────────────────────┼─────────────────────────────┼─────────────────┤\n",
              "│ dense_13 (\u001b[38;5;33mDense\u001b[0m)                     │ ?                           │     \u001b[38;5;34m0\u001b[0m (unbuilt) │\n",
              "├──────────────────────────────────────┼─────────────────────────────┼─────────────────┤\n",
              "│ dropout_5 (\u001b[38;5;33mDropout\u001b[0m)                  │ ?                           │     \u001b[38;5;34m0\u001b[0m (unbuilt) │\n",
              "├──────────────────────────────────────┼─────────────────────────────┼─────────────────┤\n",
              "│ dense_14 (\u001b[38;5;33mDense\u001b[0m)                     │ ?                           │     \u001b[38;5;34m0\u001b[0m (unbuilt) │\n",
              "└──────────────────────────────────────┴─────────────────────────────┴─────────────────┘\n"
            ],
            "text/html": [
              "<pre style=\"white-space:pre;overflow-x:auto;line-height:normal;font-family:Menlo,'DejaVu Sans Mono',consolas,'Courier New',monospace\">┏━━━━━━━━━━━━━━━━━━━━━━━━━━━━━━━━━━━━━━┳━━━━━━━━━━━━━━━━━━━━━━━━━━━━━┳━━━━━━━━━━━━━━━━━┓\n",
              "┃<span style=\"font-weight: bold\"> Layer (type)                         </span>┃<span style=\"font-weight: bold\"> Output Shape                </span>┃<span style=\"font-weight: bold\">         Param # </span>┃\n",
              "┡━━━━━━━━━━━━━━━━━━━━━━━━━━━━━━━━━━━━━━╇━━━━━━━━━━━━━━━━━━━━━━━━━━━━━╇━━━━━━━━━━━━━━━━━┩\n",
              "│ embedding_9 (<span style=\"color: #0087ff; text-decoration-color: #0087ff\">Embedding</span>)              │ ?                           │     <span style=\"color: #00af00; text-decoration-color: #00af00\">0</span> (unbuilt) │\n",
              "├──────────────────────────────────────┼─────────────────────────────┼─────────────────┤\n",
              "│ lstm_9 (<span style=\"color: #0087ff; text-decoration-color: #0087ff\">LSTM</span>)                        │ ?                           │     <span style=\"color: #00af00; text-decoration-color: #00af00\">0</span> (unbuilt) │\n",
              "├──────────────────────────────────────┼─────────────────────────────┼─────────────────┤\n",
              "│ batch_normalization_5                │ ?                           │     <span style=\"color: #00af00; text-decoration-color: #00af00\">0</span> (unbuilt) │\n",
              "│ (<span style=\"color: #0087ff; text-decoration-color: #0087ff\">BatchNormalization</span>)                 │                             │                 │\n",
              "├──────────────────────────────────────┼─────────────────────────────┼─────────────────┤\n",
              "│ dense_13 (<span style=\"color: #0087ff; text-decoration-color: #0087ff\">Dense</span>)                     │ ?                           │     <span style=\"color: #00af00; text-decoration-color: #00af00\">0</span> (unbuilt) │\n",
              "├──────────────────────────────────────┼─────────────────────────────┼─────────────────┤\n",
              "│ dropout_5 (<span style=\"color: #0087ff; text-decoration-color: #0087ff\">Dropout</span>)                  │ ?                           │     <span style=\"color: #00af00; text-decoration-color: #00af00\">0</span> (unbuilt) │\n",
              "├──────────────────────────────────────┼─────────────────────────────┼─────────────────┤\n",
              "│ dense_14 (<span style=\"color: #0087ff; text-decoration-color: #0087ff\">Dense</span>)                     │ ?                           │     <span style=\"color: #00af00; text-decoration-color: #00af00\">0</span> (unbuilt) │\n",
              "└──────────────────────────────────────┴─────────────────────────────┴─────────────────┘\n",
              "</pre>\n"
            ]
          },
          "metadata": {}
        },
        {
          "output_type": "display_data",
          "data": {
            "text/plain": [
              "\u001b[1m Total params: \u001b[0m\u001b[38;5;34m0\u001b[0m (0.00 B)\n"
            ],
            "text/html": [
              "<pre style=\"white-space:pre;overflow-x:auto;line-height:normal;font-family:Menlo,'DejaVu Sans Mono',consolas,'Courier New',monospace\"><span style=\"font-weight: bold\"> Total params: </span><span style=\"color: #00af00; text-decoration-color: #00af00\">0</span> (0.00 B)\n",
              "</pre>\n"
            ]
          },
          "metadata": {}
        },
        {
          "output_type": "display_data",
          "data": {
            "text/plain": [
              "\u001b[1m Trainable params: \u001b[0m\u001b[38;5;34m0\u001b[0m (0.00 B)\n"
            ],
            "text/html": [
              "<pre style=\"white-space:pre;overflow-x:auto;line-height:normal;font-family:Menlo,'DejaVu Sans Mono',consolas,'Courier New',monospace\"><span style=\"font-weight: bold\"> Trainable params: </span><span style=\"color: #00af00; text-decoration-color: #00af00\">0</span> (0.00 B)\n",
              "</pre>\n"
            ]
          },
          "metadata": {}
        },
        {
          "output_type": "display_data",
          "data": {
            "text/plain": [
              "\u001b[1m Non-trainable params: \u001b[0m\u001b[38;5;34m0\u001b[0m (0.00 B)\n"
            ],
            "text/html": [
              "<pre style=\"white-space:pre;overflow-x:auto;line-height:normal;font-family:Menlo,'DejaVu Sans Mono',consolas,'Courier New',monospace\"><span style=\"font-weight: bold\"> Non-trainable params: </span><span style=\"color: #00af00; text-decoration-color: #00af00\">0</span> (0.00 B)\n",
              "</pre>\n"
            ]
          },
          "metadata": {}
        }
      ]
    },
    {
      "cell_type": "code",
      "source": [
        "early_stopping = EarlyStopping(monitor='val_loss', patience=3, restore_best_weights=True)\n",
        "\n",
        "# Step 6: Train the Model\n",
        "epochs = 5  # Number of epochs for training\n",
        "\n",
        "# Train the model\n",
        "history = model.fit(\n",
        "    train_dataset,\n",
        "    validation_data=val_dataset,  # Use validation dataset during training\n",
        "    epochs=epochs,\n",
        "    callbacks=[early_stopping],\n",
        "    verbose=1  # Display progress bar during training\n",
        ")"
      ],
      "metadata": {
        "colab": {
          "base_uri": "https://localhost:8080/"
        },
        "id": "jEQ6w-bqrDVd",
        "outputId": "48b046f2-586f-49d4-aae0-386de0c1f1e4"
      },
      "execution_count": null,
      "outputs": [
        {
          "output_type": "stream",
          "name": "stdout",
          "text": [
            "Epoch 1/5\n",
            "\u001b[1m3198/3198\u001b[0m \u001b[32m━━━━━━━━━━━━━━━━━━━━\u001b[0m\u001b[37m\u001b[0m \u001b[1m910s\u001b[0m 282ms/step - accuracy: 0.6711 - loss: 0.9270 - val_accuracy: 0.8190 - val_loss: 0.4927\n",
            "Epoch 2/5\n",
            "\u001b[1m3198/3198\u001b[0m \u001b[32m━━━━━━━━━━━━━━━━━━━━\u001b[0m\u001b[37m\u001b[0m \u001b[1m929s\u001b[0m 290ms/step - accuracy: 0.8301 - loss: 0.4753 - val_accuracy: 0.8558 - val_loss: 0.4007\n",
            "Epoch 3/5\n",
            "\u001b[1m3198/3198\u001b[0m \u001b[32m━━━━━━━━━━━━━━━━━━━━\u001b[0m\u001b[37m\u001b[0m \u001b[1m900s\u001b[0m 281ms/step - accuracy: 0.8561 - loss: 0.3977 - val_accuracy: 0.8659 - val_loss: 0.3618\n",
            "Epoch 4/5\n",
            "\u001b[1m3198/3198\u001b[0m \u001b[32m━━━━━━━━━━━━━━━━━━━━\u001b[0m\u001b[37m\u001b[0m \u001b[1m946s\u001b[0m 288ms/step - accuracy: 0.8708 - loss: 0.3544 - val_accuracy: 0.8765 - val_loss: 0.3222\n",
            "Epoch 5/5\n",
            "\u001b[1m3198/3198\u001b[0m \u001b[32m━━━━━━━━━━━━━━━━━━━━\u001b[0m\u001b[37m\u001b[0m \u001b[1m906s\u001b[0m 283ms/step - accuracy: 0.8803 - loss: 0.3242 - val_accuracy: 0.8880 - val_loss: 0.2974\n"
          ]
        }
      ]
    },
    {
      "cell_type": "code",
      "source": [
        "# Step 7: Save the trained model\n",
        "model_save_path = '/content/drive/MyDrive/COMP4211/trained_lstm_model.h5'  # You can specify any path you like\n",
        "model.save(model_save_path)\n",
        "\n",
        "print(f\"Model saved to {model_save_path}\")"
      ],
      "metadata": {
        "colab": {
          "base_uri": "https://localhost:8080/"
        },
        "id": "RECUlbFC4ysQ",
        "outputId": "ff0a4860-82db-49f7-ac6b-652028624ffd"
      },
      "execution_count": null,
      "outputs": [
        {
          "output_type": "stream",
          "name": "stderr",
          "text": [
            "WARNING:absl:You are saving your model as an HDF5 file via `model.save()` or `keras.saving.save_model(model)`. This file format is considered legacy. We recommend using instead the native Keras format, e.g. `model.save('my_model.keras')` or `keras.saving.save_model(model, 'my_model.keras')`. \n"
          ]
        },
        {
          "output_type": "stream",
          "name": "stdout",
          "text": [
            "Model saved to /content/drive/MyDrive/COMP4211/trained_lstm_model.h5\n"
          ]
        }
      ]
    },
    {
      "cell_type": "code",
      "source": [
        "# from tensorflow.keras.models import load_model\n",
        "\n",
        "# # Load the saved model\n",
        "# loaded_model = load_model('trained_lstm_model.h5')"
      ],
      "metadata": {
        "id": "xtQXhtji7_AP"
      },
      "execution_count": null,
      "outputs": []
    },
    {
      "cell_type": "markdown",
      "source": [
        "# Prediction"
      ],
      "metadata": {
        "id": "NIFkoBj7vpT3"
      }
    },
    {
      "cell_type": "code",
      "source": [
        "def preprocess_input(dataframe, vocab, max_length=15):\n",
        "    features_list = []\n",
        "\n",
        "    for _, row in dataframe.iterrows():\n",
        "        # Concatenate EventA and EventB\n",
        "        features = row['EventA'] + \" \" + row['EventB']\n",
        "        tokens = features.split()\n",
        "\n",
        "        # Convert tokens to indices\n",
        "        feature_indices = [vocab.get(word, 0) for word in tokens]\n",
        "\n",
        "        # Pad or truncate sequences\n",
        "        if len(feature_indices) > max_length:\n",
        "            feature_indices = feature_indices[:max_length]\n",
        "        else:\n",
        "            feature_indices += [0] * (max_length - len(feature_indices))\n",
        "\n",
        "        features_list.append(feature_indices)\n",
        "\n",
        "    # Convert to NumPy array\n",
        "    features_np = np.array(features_list, dtype=np.int32)\n",
        "    return features_np"
      ],
      "metadata": {
        "id": "N84m7bD4uczH"
      },
      "execution_count": null,
      "outputs": []
    },
    {
      "cell_type": "code",
      "source": [
        "for i in range(5):\n",
        "    # Step 1: Randomly select one data point from train_df[100000:] # size = 100000\n",
        "    random_index = random.randint(0, len(train_df) - 1)\n",
        "    random_sample = train_df.iloc[random_index:random_index + 1]\n",
        "\n",
        "    # Step 2: Preprocess the selected input using the function you defined earlier\n",
        "    input_features_np = preprocess_input(random_sample, vocab)\n",
        "\n",
        "    # Step 3: Get the correct output label for comparison\n",
        "    correct_relation = random_sample['relation'].values[0]\n",
        "\n",
        "    # Step 4: Make the prediction\n",
        "    predictions = model.predict(input_features_np)\n",
        "\n",
        "    # Step 5: Convert prediction to class label\n",
        "    predicted_class = np.argmax(predictions, axis=-1)[0]  # Since it's only one input\n",
        "    inverse_relation_vocab = {v: k for k, v in relation_vocab.items()}\n",
        "    predicted_label = inverse_relation_vocab[predicted_class]\n",
        "\n",
        "    # Step 6: Display the input, correct output, and predicted output\n",
        "    print(\"Input Features:\", random_sample['EventA'].values[0], \"+\", random_sample['EventB'].values[0])\n",
        "    print(\"Correct Output:\", correct_relation)\n",
        "    print(\"Predicted Output:\", predicted_label)"
      ],
      "metadata": {
        "colab": {
          "base_uri": "https://localhost:8080/"
        },
        "id": "K3oxCk1wv3lR",
        "outputId": "f4cd7960-9f2e-4c83-bd57-c25ecdfc6631"
      },
      "execution_count": null,
      "outputs": [
        {
          "output_type": "stream",
          "name": "stdout",
          "text": [
            "\u001b[1m1/1\u001b[0m \u001b[32m━━━━━━━━━━━━━━━━━━━━\u001b[0m\u001b[37m\u001b[0m \u001b[1m0s\u001b[0m 33ms/step\n",
            "Input Features: PersonX teaches ___ for years + ['devoted', 'enthusiastic']\n",
            "Correct Output: xAttr\n",
            "Predicted Output: xAttr\n",
            "\u001b[1m1/1\u001b[0m \u001b[32m━━━━━━━━━━━━━━━━━━━━\u001b[0m\u001b[37m\u001b[0m \u001b[1m0s\u001b[0m 30ms/step\n",
            "Input Features: PersonX puts PersonY's arm around PersonY + ['has body contact with PersonY', 'gets attached to PersonY']\n",
            "Correct Output: xEffect\n",
            "Predicted Output: xEffect\n",
            "\u001b[1m1/1\u001b[0m \u001b[32m━━━━━━━━━━━━━━━━━━━━\u001b[0m\u001b[37m\u001b[0m \u001b[1m0s\u001b[0m 34ms/step\n",
            "Input Features: PersonX reads PersonY article + ['glad that he could help person']\n",
            "Correct Output: xReact\n",
            "Predicted Output: xReact\n",
            "\u001b[1m1/1\u001b[0m \u001b[32m━━━━━━━━━━━━━━━━━━━━\u001b[0m\u001b[37m\u001b[0m \u001b[1m0s\u001b[0m 29ms/step\n",
            "Input Features: PersonX petitions the ___ for a redress + ['to start a blog', 'to protest']\n",
            "Correct Output: xNeed\n",
            "Predicted Output: xNeed\n",
            "\u001b[1m1/1\u001b[0m \u001b[32m━━━━━━━━━━━━━━━━━━━━\u001b[0m\u001b[37m\u001b[0m \u001b[1m0s\u001b[0m 31ms/step\n",
            "Input Features: PersonX sees a car + ['go to ride', 'to buy a new car']\n",
            "Correct Output: xEffect\n",
            "Predicted Output: xWant\n"
          ]
        }
      ]
    },
    {
      "cell_type": "code",
      "source": [
        "from sklearn.metrics import confusion_matrix, ConfusionMatrixDisplay\n",
        "\n",
        "# Step 1: Make predictions on the validation dataset\n",
        "val_features = []\n",
        "val_labels = []\n",
        "\n",
        "for features, label in val_dataset:\n",
        "    val_features.append(features.numpy())\n",
        "    val_labels.append(label.numpy())\n",
        "\n",
        "# Convert lists to numpy arrays\n",
        "val_features_np = np.concatenate(val_features, axis=0)\n",
        "val_labels_np = np.concatenate(val_labels, axis=0)\n",
        "\n",
        "# Get predictions\n",
        "predictions = model.predict(val_features_np)\n",
        "predicted_labels = np.argmax(predictions, axis=-1)\n",
        "\n",
        "# Step 2: Generate confusion matrix\n",
        "cm = confusion_matrix(val_labels_np, predicted_labels)"
      ],
      "metadata": {
        "id": "b4JJk9D4xD0-",
        "colab": {
          "base_uri": "https://localhost:8080/"
        },
        "outputId": "4ca93a7c-6e07-447a-f954-a6d6188be5dc"
      },
      "execution_count": null,
      "outputs": [
        {
          "output_type": "stream",
          "name": "stdout",
          "text": [
            "\u001b[1m6396/6396\u001b[0m \u001b[32m━━━━━━━━━━━━━━━━━━━━\u001b[0m\u001b[37m\u001b[0m \u001b[1m110s\u001b[0m 17ms/step\n"
          ]
        }
      ]
    },
    {
      "cell_type": "code",
      "source": [
        "# Step 3: Plot confusion matrix\n",
        "# %matplotlib inline\n",
        "# plt.figure(figsize=(20, 20))\n",
        "disp = ConfusionMatrixDisplay(confusion_matrix=cm, display_labels=list(relation_vocab.keys()))\n",
        "disp.plot(cmap=plt.cm.Blues)\n",
        "\n",
        "# Show the confusion matrix\n",
        "fig = disp.figure_\n",
        "fig.set_size_inches(10, 10)  # 调整图表的大小\n",
        "plt.show()"
      ],
      "metadata": {
        "colab": {
          "base_uri": "https://localhost:8080/",
          "height": 815
        },
        "id": "Wo06eMGmv6Ga",
        "outputId": "b6dc4975-bad6-4e95-d889-c5e21b882884"
      },
      "execution_count": null,
      "outputs": [
        {
          "output_type": "display_data",
          "data": {
            "text/plain": [
              "<Figure size 1000x1000 with 2 Axes>"
            ],
            "image/png": "[encoded data removed]"
          },
          "metadata": {}
        }
      ]
    },
    {
      "cell_type": "code",
      "source": [
        "# 获取类别数\n",
        "num_classes = cm.shape[0]\n",
        "\n",
        "# 初始化 Precision 和 Recall 列表\n",
        "precision = []\n",
        "recall = []\n",
        "\n",
        "# 计算每个类别的 Precision 和 Recall\n",
        "for i in range(num_classes):\n",
        "    TP = cm[i, i]  # 对角线元素\n",
        "    FP = np.sum(cm[:, i]) - TP  # 列上的所有元素之和减去 TP\n",
        "    FN = np.sum(cm[i, :]) - TP  # 行上的所有元素之和减去 TP\n",
        "\n",
        "    precision_i = TP / (TP + FP) if (TP + FP) > 0 else 0\n",
        "    recall_i = TP / (TP + FN) if (TP + FN) > 0 else 0\n",
        "\n",
        "    precision.append(precision_i)\n",
        "    recall.append(recall_i)\n",
        "\n",
        "# 转换为百分比并打印结果\n",
        "precision_percent = [f\"{p * 100:.2f}%\" for p in precision]\n",
        "recall_percent = [f\"{r * 100:.2f}%\" for r in recall]\n",
        "\n",
        "# 打印每个类别的 Precision 和 Recall\n",
        "labels = ['xIntent', 'xEffect', 'xWant', 'xAttr', 'xNeed', 'xReact', 'oWant', 'oEffect', 'oReact']\n",
        "for i, label in enumerate(labels):\n",
        "    print(f\"{label}: Precision = {precision_percent[i]}, Recall = {recall_percent[i]}\")"
      ],
      "metadata": {
        "colab": {
          "base_uri": "https://localhost:8080/"
        },
        "id": "MfSHjSJMxU6K",
        "outputId": "1f71c4b0-3f86-4f93-b13b-b2c22c6f7632"
      },
      "execution_count": null,
      "outputs": [
        {
          "output_type": "stream",
          "name": "stdout",
          "text": [
            "xIntent: Precision = 88.69%, Recall = 79.36%\n",
            "xEffect: Precision = 86.04%, Recall = 90.34%\n",
            "xWant: Precision = 92.51%, Recall = 86.68%\n",
            "xAttr: Precision = 93.65%, Recall = 96.81%\n",
            "xNeed: Precision = 80.42%, Recall = 91.50%\n",
            "xReact: Precision = 82.22%, Recall = 87.25%\n",
            "oWant: Precision = 95.56%, Recall = 93.13%\n",
            "oEffect: Precision = 97.49%, Recall = 90.96%\n",
            "oReact: Precision = 80.67%, Recall = 63.96%\n"
          ]
        }
      ]
    },
    {
      "cell_type": "markdown",
      "source": [
        "# Error Analysis"
      ],
      "metadata": {
        "id": "826k8OEycywZ"
      }
    },
    {
      "cell_type": "code",
      "source": [
        "# Assuming you have the validation dataset and trained model\n",
        "val_predictions = model.predict(val_dataset)  # Get predictions for validation dataset\n",
        "val_predictions_classes = np.argmax(val_predictions, axis=1)  # Get predicted class labels\n",
        "\n",
        "# Get the true labels from the validation dataset\n",
        "val_features = []\n",
        "val_targets = []\n",
        "for features, targets in val_dataset:\n",
        "    val_features.extend(features.numpy())\n",
        "    val_targets.extend(targets.numpy())\n",
        "\n",
        "val_features = np.array(val_features)\n",
        "val_targets = np.array(val_targets)\n",
        "\n",
        "# Identify misclassified examples\n",
        "misclassified_indices = np.where(val_predictions_classes != val_targets)[0]\n",
        "misclassified_features = val_features[misclassified_indices]\n",
        "misclassified_true_labels = val_targets[misclassified_indices]\n",
        "misclassified_predicted_labels = val_predictions_classes[misclassified_indices]\n",
        "\n",
        "# Create a DataFrame with the misclassified examples\n",
        "error_analysis_df = pd.DataFrame({\n",
        "    'features': list(misclassified_features),\n",
        "    'true_label': misclassified_true_labels,\n",
        "    'predicted_label': misclassified_predicted_labels\n",
        "})\n",
        "\n",
        "# If your features are sequences, you may also want to decode them back into readable strings\n",
        "def decode_features(features, vocab):\n",
        "    reverse_vocab = {idx: word for word, idx in vocab.items()}\n",
        "    return ' '.join([reverse_vocab.get(idx, '<unk>') for idx in features if idx != 0])\n",
        "\n",
        "# Example: Decode features for error analysis\n",
        "error_analysis_df['decoded_features'] = error_analysis_df['features'].apply(lambda x: decode_features(x, vocab))"
      ],
      "metadata": {
        "colab": {
          "base_uri": "https://localhost:8080/",
          "height": 393
        },
        "id": "S3_1oroRb1Cp",
        "outputId": "99b587ad-50ab-48a2-f3ca-56b92ce1ab9a"
      },
      "execution_count": null,
      "outputs": [
        {
          "output_type": "stream",
          "name": "stdout",
          "text": [
            "\u001b[1m800/800\u001b[0m \u001b[32m━━━━━━━━━━━━━━━━━━━━\u001b[0m\u001b[37m\u001b[0m \u001b[1m63s\u001b[0m 78ms/step\n"
          ]
        },
        {
          "output_type": "error",
          "ename": "ModuleNotFoundError",
          "evalue": "No module named 'ace_tools'",
          "traceback": [
            "\u001b[0;31m---------------------------------------------------------------------------\u001b[0m",
            "\u001b[0;31mModuleNotFoundError\u001b[0m                       Traceback (most recent call last)",
            "\u001b[0;32m<ipython-input-151-699c328fb34d>\u001b[0m in \u001b[0;36m<cell line: 40>\u001b[0;34m()\u001b[0m\n\u001b[1;32m     38\u001b[0m \u001b[0;34m\u001b[0m\u001b[0m\n\u001b[1;32m     39\u001b[0m \u001b[0;31m# Display the DataFrame for qualitative inspection\u001b[0m\u001b[0;34m\u001b[0m\u001b[0;34m\u001b[0m\u001b[0m\n\u001b[0;32m---> 40\u001b[0;31m \u001b[0;32mimport\u001b[0m \u001b[0mace_tools\u001b[0m \u001b[0;32mas\u001b[0m \u001b[0mtools\u001b[0m\u001b[0;34m\u001b[0m\u001b[0;34m\u001b[0m\u001b[0m\n\u001b[0m\u001b[1;32m     41\u001b[0m \u001b[0mtools\u001b[0m\u001b[0;34m.\u001b[0m\u001b[0mdisplay_dataframe_to_user\u001b[0m\u001b[0;34m(\u001b[0m\u001b[0mname\u001b[0m\u001b[0;34m=\u001b[0m\u001b[0;34m\"Misclassified Examples\"\u001b[0m\u001b[0;34m,\u001b[0m \u001b[0mdataframe\u001b[0m\u001b[0;34m=\u001b[0m\u001b[0merror_analysis_df\u001b[0m\u001b[0;34m)\u001b[0m\u001b[0;34m\u001b[0m\u001b[0;34m\u001b[0m\u001b[0m\n",
            "\u001b[0;31mModuleNotFoundError\u001b[0m: No module named 'ace_tools'",
            "",
            "\u001b[0;31m---------------------------------------------------------------------------\u001b[0;32m\nNOTE: If your import is failing due to a missing package, you can\nmanually install dependencies using either !pip or !apt.\n\nTo view examples of installing some common dependencies, click the\n\"Open Examples\" button below.\n\u001b[0;31m---------------------------------------------------------------------------\u001b[0m\n"
          ],
          "errorDetails": {
            "actions": [
              {
                "action": "open_url",
                "actionText": "Open Examples",
                "url": "/notebooks/snippets/importing_libraries.ipynb"
              }
            ]
          }
        }
      ]
    },
    {
      "cell_type": "code",
      "source": [
        "!pip install ace_tools\n",
        "!pip show ace_tools"
      ],
      "metadata": {
        "colab": {
          "base_uri": "https://localhost:8080/"
        },
        "id": "wVJtOQCYfR1Z",
        "outputId": "ef1dd1fd-7371-4134-8c28-ccd58bbd0c91"
      },
      "execution_count": null,
      "outputs": [
        {
          "output_type": "stream",
          "name": "stdout",
          "text": [
            "Requirement already satisfied: ace_tools in /usr/local/lib/python3.10/dist-packages (0.0)\n",
            "Name: ace_tools\n",
            "Version: 0.0\n",
            "Summary: A placeholder empty package\n",
            "Home-page: \n",
            "Author: Paul McMillan\n",
            "Author-email: paul@mcmillan.ws\n",
            "License: \n",
            "Location: /usr/local/lib/python3.10/dist-packages\n",
            "Requires: \n",
            "Required-by: \n"
          ]
        }
      ]
    },
    {
      "cell_type": "code",
      "source": [
        "# Create a reverse mapping from indices to relation names\n",
        "index_to_relation = {v: k for k, v in relation_vocab.items()}\n",
        "\n",
        "# Apply the reverse mapping to 'true_label' and 'predicted_label' columns\n",
        "error_analysis_df['true_label_name'] = error_analysis_df['true_label'].map(index_to_relation)\n",
        "error_analysis_df['predicted_label_name'] = error_analysis_df['predicted_label'].map(index_to_relation)"
      ],
      "metadata": {
        "id": "pK9qdxJwhREl"
      },
      "execution_count": 164,
      "outputs": []
    },
    {
      "cell_type": "code",
      "source": [
        "# Display the DataFrame for qualitative inspection\n",
        "from IPython.display import display\n",
        "display(error_analysis_df)"
      ],
      "metadata": {
        "colab": {
          "base_uri": "https://localhost:8080/",
          "height": 424
        },
        "id": "YVRYOk9GfUKA",
        "outputId": "4dbae118-57d0-427e-9cff-8bd5ca680610"
      },
      "execution_count": 165,
      "outputs": [
        {
          "output_type": "display_data",
          "data": {
            "text/plain": [
              "                                                features  true_label  \\\n",
              "0      [1, 48, 334, 94, 4, 164, 12479, 6929, 22, 9576...           6   \n",
              "1      [1, 2012, 29, 1130, 7523, 0, 0, 0, 0, 0, 0, 0,...           8   \n",
              "2      [1, 2, 29, 4, 3502, 6334, 1182, 4, 610, 9297, ...           7   \n",
              "3      [1, 34, 27, 28, 13741, 15300, 0, 0, 0, 0, 0, 0...           8   \n",
              "4      [1, 266, 1993, 35, 451, 52723, 0, 0, 0, 0, 0, ...           8   \n",
              "...                                                  ...         ...   \n",
              "22921  [1, 197, 4, 198, 1025, 7226, 280, 6448, 21247,...           2   \n",
              "22922  [1, 168, 1590, 12, 1591, 7294, 28215, 0, 0, 0,...           3   \n",
              "22923  [1, 729, 12, 35, 313, 6334, 5946, 4, 7012, 632...           0   \n",
              "22924  [1, 653, 137, 7007, 12415, 0, 0, 0, 0, 0, 0, 0...           3   \n",
              "22925  [1, 448, 35, 236, 6334, 662, 6715, 6329, 408, ...           2   \n",
              "\n",
              "       predicted_label                                   decoded_features  \\\n",
              "0                    1  PersonX is hit by a car ['dies', 'screams in p...   \n",
              "1                    5        PersonX publishes ___ online ['interested']   \n",
              "2                    4  PersonX gives ___ a massage ['to beryllium a g...   \n",
              "3                    3  PersonX takes PersonY's baby ['delighted', 'fr...   \n",
              "4                    5  PersonX remains until PersonX's death ['sad,cr...   \n",
              "...                ...                                                ...   \n",
              "22921                4  PersonX buys a new truck ['save up money', 'sh...   \n",
              "22922                5  PersonX be allergic to peanuts ['scared', 'itc...   \n",
              "22923                4  PersonX talks to PersonX's mother ['to build a...   \n",
              "22924                5  PersonX finally brand ['accomplished', 'comple...   \n",
              "22925                4  PersonX lose PersonX's hair ['to work hard', '...   \n",
              "\n",
              "                      error_category true_label_name predicted_label_name  \n",
              "0      Missing Features or Ambiguous         xEffect              oEffect  \n",
              "1      Missing Features or Ambiguous          oReact               xReact  \n",
              "2      Missing Features or Ambiguous         xIntent                xWant  \n",
              "3      Missing Features or Ambiguous          oReact                xAttr  \n",
              "4      Missing Features or Ambiguous          oReact               xReact  \n",
              "...                              ...             ...                  ...  \n",
              "22921  Missing Features or Ambiguous           xNeed                xWant  \n",
              "22922  Missing Features or Ambiguous           xAttr               xReact  \n",
              "22923  Missing Features or Ambiguous           oWant                xWant  \n",
              "22924  Missing Features or Ambiguous           xAttr               xReact  \n",
              "22925  Missing Features or Ambiguous           xNeed                xWant  \n",
              "\n",
              "[22926 rows x 7 columns]"
            ],
            "text/html": [
              "\n",
              "  <div id=\"df-80f8f010-f2c2-4bab-8952-f90beebec29e\" class=\"colab-df-container\">\n",
              "    <div>\n",
              "<style scoped>\n",
              "    .dataframe tbody tr th:only-of-type {\n",
              "        vertical-align: middle;\n",
              "    }\n",
              "\n",
              "    .dataframe tbody tr th {\n",
              "        vertical-align: top;\n",
              "    }\n",
              "\n",
              "    .dataframe thead th {\n",
              "        text-align: right;\n",
              "    }\n",
              "</style>\n",
              "<table border=\"1\" class=\"dataframe\">\n",
              "  <thead>\n",
              "    <tr style=\"text-align: right;\">\n",
              "      <th></th>\n",
              "      <th>features</th>\n",
              "      <th>true_label</th>\n",
              "      <th>predicted_label</th>\n",
              "      <th>decoded_features</th>\n",
              "      <th>error_category</th>\n",
              "      <th>true_label_name</th>\n",
              "      <th>predicted_label_name</th>\n",
              "    </tr>\n",
              "  </thead>\n",
              "  <tbody>\n",
              "    <tr>\n",
              "      <th>0</th>\n",
              "      <td>[1, 48, 334, 94, 4, 164, 12479, 6929, 22, 9576...</td>\n",
              "      <td>6</td>\n",
              "      <td>1</td>\n",
              "      <td>PersonX is hit by a car ['dies', 'screams in p...</td>\n",
              "      <td>Missing Features or Ambiguous</td>\n",
              "      <td>xEffect</td>\n",
              "      <td>oEffect</td>\n",
              "    </tr>\n",
              "    <tr>\n",
              "      <th>1</th>\n",
              "      <td>[1, 2012, 29, 1130, 7523, 0, 0, 0, 0, 0, 0, 0,...</td>\n",
              "      <td>8</td>\n",
              "      <td>5</td>\n",
              "      <td>PersonX publishes ___ online ['interested']</td>\n",
              "      <td>Missing Features or Ambiguous</td>\n",
              "      <td>oReact</td>\n",
              "      <td>xReact</td>\n",
              "    </tr>\n",
              "    <tr>\n",
              "      <th>2</th>\n",
              "      <td>[1, 2, 29, 4, 3502, 6334, 1182, 4, 610, 9297, ...</td>\n",
              "      <td>7</td>\n",
              "      <td>4</td>\n",
              "      <td>PersonX gives ___ a massage ['to beryllium a g...</td>\n",
              "      <td>Missing Features or Ambiguous</td>\n",
              "      <td>xIntent</td>\n",
              "      <td>xWant</td>\n",
              "    </tr>\n",
              "    <tr>\n",
              "      <th>3</th>\n",
              "      <td>[1, 34, 27, 28, 13741, 15300, 0, 0, 0, 0, 0, 0...</td>\n",
              "      <td>8</td>\n",
              "      <td>3</td>\n",
              "      <td>PersonX takes PersonY's baby ['delighted', 'fr...</td>\n",
              "      <td>Missing Features or Ambiguous</td>\n",
              "      <td>oReact</td>\n",
              "      <td>xAttr</td>\n",
              "    </tr>\n",
              "    <tr>\n",
              "      <th>4</th>\n",
              "      <td>[1, 266, 1993, 35, 451, 52723, 0, 0, 0, 0, 0, ...</td>\n",
              "      <td>8</td>\n",
              "      <td>5</td>\n",
              "      <td>PersonX remains until PersonX's death ['sad,cr...</td>\n",
              "      <td>Missing Features or Ambiguous</td>\n",
              "      <td>oReact</td>\n",
              "      <td>xReact</td>\n",
              "    </tr>\n",
              "    <tr>\n",
              "      <th>...</th>\n",
              "      <td>...</td>\n",
              "      <td>...</td>\n",
              "      <td>...</td>\n",
              "      <td>...</td>\n",
              "      <td>...</td>\n",
              "      <td>...</td>\n",
              "      <td>...</td>\n",
              "    </tr>\n",
              "    <tr>\n",
              "      <th>22921</th>\n",
              "      <td>[1, 197, 4, 198, 1025, 7226, 280, 6448, 21247,...</td>\n",
              "      <td>2</td>\n",
              "      <td>4</td>\n",
              "      <td>PersonX buys a new truck ['save up money', 'sh...</td>\n",
              "      <td>Missing Features or Ambiguous</td>\n",
              "      <td>xNeed</td>\n",
              "      <td>xWant</td>\n",
              "    </tr>\n",
              "    <tr>\n",
              "      <th>22922</th>\n",
              "      <td>[1, 168, 1590, 12, 1591, 7294, 28215, 0, 0, 0,...</td>\n",
              "      <td>3</td>\n",
              "      <td>5</td>\n",
              "      <td>PersonX be allergic to peanuts ['scared', 'itc...</td>\n",
              "      <td>Missing Features or Ambiguous</td>\n",
              "      <td>xAttr</td>\n",
              "      <td>xReact</td>\n",
              "    </tr>\n",
              "    <tr>\n",
              "      <th>22923</th>\n",
              "      <td>[1, 729, 12, 35, 313, 6334, 5946, 4, 7012, 632...</td>\n",
              "      <td>0</td>\n",
              "      <td>4</td>\n",
              "      <td>PersonX talks to PersonX's mother ['to build a...</td>\n",
              "      <td>Missing Features or Ambiguous</td>\n",
              "      <td>oWant</td>\n",
              "      <td>xWant</td>\n",
              "    </tr>\n",
              "    <tr>\n",
              "      <th>22924</th>\n",
              "      <td>[1, 653, 137, 7007, 12415, 0, 0, 0, 0, 0, 0, 0...</td>\n",
              "      <td>3</td>\n",
              "      <td>5</td>\n",
              "      <td>PersonX finally brand ['accomplished', 'comple...</td>\n",
              "      <td>Missing Features or Ambiguous</td>\n",
              "      <td>xAttr</td>\n",
              "      <td>xReact</td>\n",
              "    </tr>\n",
              "    <tr>\n",
              "      <th>22925</th>\n",
              "      <td>[1, 448, 35, 236, 6334, 662, 6715, 6329, 408, ...</td>\n",
              "      <td>2</td>\n",
              "      <td>4</td>\n",
              "      <td>PersonX lose PersonX's hair ['to work hard', '...</td>\n",
              "      <td>Missing Features or Ambiguous</td>\n",
              "      <td>xNeed</td>\n",
              "      <td>xWant</td>\n",
              "    </tr>\n",
              "  </tbody>\n",
              "</table>\n",
              "<p>22926 rows × 7 columns</p>\n",
              "</div>\n",
              "    <div class=\"colab-df-buttons\">\n",
              "\n",
              "  <div class=\"colab-df-container\">\n",
              "    <button class=\"colab-df-convert\" onclick=\"convertToInteractive('df-80f8f010-f2c2-4bab-8952-f90beebec29e')\"\n",
              "            title=\"Convert this dataframe to an interactive table.\"\n",
              "            style=\"display:none;\">\n",
              "\n",
              "  <svg xmlns=\"http://www.w3.org/2000/svg\" height=\"24px\" viewBox=\"0 -960 960 960\">\n",
              "    <path d=\"M120-120v-720h720v720H120Zm60-500h600v-160H180v160Zm220 220h160v-160H400v160Zm0 220h160v-160H400v160ZM180-400h160v-160H180v160Zm440 0h160v-160H620v160ZM180-180h160v-160H180v160Zm440 0h160v-160H620v160Z\"/>\n",
              "  </svg>\n",
              "    </button>\n",
              "\n",
              "  <style>\n",
              "    .colab-df-container {\n",
              "      display:flex;\n",
              "      gap: 12px;\n",
              "    }\n",
              "\n",
              "    .colab-df-convert {\n",
              "      background-color: #E8F0FE;\n",
              "      border: none;\n",
              "      border-radius: 50%;\n",
              "      cursor: pointer;\n",
              "      display: none;\n",
              "      fill: #1967D2;\n",
              "      height: 32px;\n",
              "      padding: 0 0 0 0;\n",
              "      width: 32px;\n",
              "    }\n",
              "\n",
              "    .colab-df-convert:hover {\n",
              "      background-color: #E2EBFA;\n",
              "      box-shadow: 0px 1px 2px rgba(60, 64, 67, 0.3), 0px 1px 3px 1px rgba(60, 64, 67, 0.15);\n",
              "      fill: #174EA6;\n",
              "    }\n",
              "\n",
              "    .colab-df-buttons div {\n",
              "      margin-bottom: 4px;\n",
              "    }\n",
              "\n",
              "    [theme=dark] .colab-df-convert {\n",
              "      background-color: #3B4455;\n",
              "      fill: #D2E3FC;\n",
              "    }\n",
              "\n",
              "    [theme=dark] .colab-df-convert:hover {\n",
              "      background-color: #434B5C;\n",
              "      box-shadow: 0px 1px 3px 1px rgba(0, 0, 0, 0.15);\n",
              "      filter: drop-shadow(0px 1px 2px rgba(0, 0, 0, 0.3));\n",
              "      fill: #FFFFFF;\n",
              "    }\n",
              "  </style>\n",
              "\n",
              "    <script>\n",
              "      const buttonEl =\n",
              "        document.querySelector('#df-80f8f010-f2c2-4bab-8952-f90beebec29e button.colab-df-convert');\n",
              "      buttonEl.style.display =\n",
              "        google.colab.kernel.accessAllowed ? 'block' : 'none';\n",
              "\n",
              "      async function convertToInteractive(key) {\n",
              "        const element = document.querySelector('#df-80f8f010-f2c2-4bab-8952-f90beebec29e');\n",
              "        const dataTable =\n",
              "          await google.colab.kernel.invokeFunction('convertToInteractive',\n",
              "                                                    [key], {});\n",
              "        if (!dataTable) return;\n",
              "\n",
              "        const docLinkHtml = 'Like what you see? Visit the ' +\n",
              "          '<a target=\"_blank\" href=https://colab.research.google.com/notebooks/data_table.ipynb>data table notebook</a>'\n",
              "          + ' to learn more about interactive tables.';\n",
              "        element.innerHTML = '';\n",
              "        dataTable['output_type'] = 'display_data';\n",
              "        await google.colab.output.renderOutput(dataTable, element);\n",
              "        const docLink = document.createElement('div');\n",
              "        docLink.innerHTML = docLinkHtml;\n",
              "        element.appendChild(docLink);\n",
              "      }\n",
              "    </script>\n",
              "  </div>\n",
              "\n",
              "\n",
              "<div id=\"df-16ca2c86-ef36-4f7d-9311-c351951008eb\">\n",
              "  <button class=\"colab-df-quickchart\" onclick=\"quickchart('df-16ca2c86-ef36-4f7d-9311-c351951008eb')\"\n",
              "            title=\"Suggest charts\"\n",
              "            style=\"display:none;\">\n",
              "\n",
              "<svg xmlns=\"http://www.w3.org/2000/svg\" height=\"24px\"viewBox=\"0 0 24 24\"\n",
              "     width=\"24px\">\n",
              "    <g>\n",
              "        <path d=\"M19 3H5c-1.1 0-2 .9-2 2v14c0 1.1.9 2 2 2h14c1.1 0 2-.9 2-2V5c0-1.1-.9-2-2-2zM9 17H7v-7h2v7zm4 0h-2V7h2v10zm4 0h-2v-4h2v4z\"/>\n",
              "    </g>\n",
              "</svg>\n",
              "  </button>\n",
              "\n",
              "<style>\n",
              "  .colab-df-quickchart {\n",
              "      --bg-color: #E8F0FE;\n",
              "      --fill-color: #1967D2;\n",
              "      --hover-bg-color: #E2EBFA;\n",
              "      --hover-fill-color: #174EA6;\n",
              "      --disabled-fill-color: #AAA;\n",
              "      --disabled-bg-color: #DDD;\n",
              "  }\n",
              "\n",
              "  [theme=dark] .colab-df-quickchart {\n",
              "      --bg-color: #3B4455;\n",
              "      --fill-color: #D2E3FC;\n",
              "      --hover-bg-color: #434B5C;\n",
              "      --hover-fill-color: #FFFFFF;\n",
              "      --disabled-bg-color: #3B4455;\n",
              "      --disabled-fill-color: #666;\n",
              "  }\n",
              "\n",
              "  .colab-df-quickchart {\n",
              "    background-color: var(--bg-color);\n",
              "    border: none;\n",
              "    border-radius: 50%;\n",
              "    cursor: pointer;\n",
              "    display: none;\n",
              "    fill: var(--fill-color);\n",
              "    height: 32px;\n",
              "    padding: 0;\n",
              "    width: 32px;\n",
              "  }\n",
              "\n",
              "  .colab-df-quickchart:hover {\n",
              "    background-color: var(--hover-bg-color);\n",
              "    box-shadow: 0 1px 2px rgba(60, 64, 67, 0.3), 0 1px 3px 1px rgba(60, 64, 67, 0.15);\n",
              "    fill: var(--button-hover-fill-color);\n",
              "  }\n",
              "\n",
              "  .colab-df-quickchart-complete:disabled,\n",
              "  .colab-df-quickchart-complete:disabled:hover {\n",
              "    background-color: var(--disabled-bg-color);\n",
              "    fill: var(--disabled-fill-color);\n",
              "    box-shadow: none;\n",
              "  }\n",
              "\n",
              "  .colab-df-spinner {\n",
              "    border: 2px solid var(--fill-color);\n",
              "    border-color: transparent;\n",
              "    border-bottom-color: var(--fill-color);\n",
              "    animation:\n",
              "      spin 1s steps(1) infinite;\n",
              "  }\n",
              "\n",
              "  @keyframes spin {\n",
              "    0% {\n",
              "      border-color: transparent;\n",
              "      border-bottom-color: var(--fill-color);\n",
              "      border-left-color: var(--fill-color);\n",
              "    }\n",
              "    20% {\n",
              "      border-color: transparent;\n",
              "      border-left-color: var(--fill-color);\n",
              "      border-top-color: var(--fill-color);\n",
              "    }\n",
              "    30% {\n",
              "      border-color: transparent;\n",
              "      border-left-color: var(--fill-color);\n",
              "      border-top-color: var(--fill-color);\n",
              "      border-right-color: var(--fill-color);\n",
              "    }\n",
              "    40% {\n",
              "      border-color: transparent;\n",
              "      border-right-color: var(--fill-color);\n",
              "      border-top-color: var(--fill-color);\n",
              "    }\n",
              "    60% {\n",
              "      border-color: transparent;\n",
              "      border-right-color: var(--fill-color);\n",
              "    }\n",
              "    80% {\n",
              "      border-color: transparent;\n",
              "      border-right-color: var(--fill-color);\n",
              "      border-bottom-color: var(--fill-color);\n",
              "    }\n",
              "    90% {\n",
              "      border-color: transparent;\n",
              "      border-bottom-color: var(--fill-color);\n",
              "    }\n",
              "  }\n",
              "</style>\n",
              "\n",
              "  <script>\n",
              "    async function quickchart(key) {\n",
              "      const quickchartButtonEl =\n",
              "        document.querySelector('#' + key + ' button');\n",
              "      quickchartButtonEl.disabled = true;  // To prevent multiple clicks.\n",
              "      quickchartButtonEl.classList.add('colab-df-spinner');\n",
              "      try {\n",
              "        const charts = await google.colab.kernel.invokeFunction(\n",
              "            'suggestCharts', [key], {});\n",
              "      } catch (error) {\n",
              "        console.error('Error during call to suggestCharts:', error);\n",
              "      }\n",
              "      quickchartButtonEl.classList.remove('colab-df-spinner');\n",
              "      quickchartButtonEl.classList.add('colab-df-quickchart-complete');\n",
              "    }\n",
              "    (() => {\n",
              "      let quickchartButtonEl =\n",
              "        document.querySelector('#df-16ca2c86-ef36-4f7d-9311-c351951008eb button');\n",
              "      quickchartButtonEl.style.display =\n",
              "        google.colab.kernel.accessAllowed ? 'block' : 'none';\n",
              "    })();\n",
              "  </script>\n",
              "</div>\n",
              "\n",
              "  <div id=\"id_049351cd-f6fd-442d-b967-8ebcbe3e006e\">\n",
              "    <style>\n",
              "      .colab-df-generate {\n",
              "        background-color: #E8F0FE;\n",
              "        border: none;\n",
              "        border-radius: 50%;\n",
              "        cursor: pointer;\n",
              "        display: none;\n",
              "        fill: #1967D2;\n",
              "        height: 32px;\n",
              "        padding: 0 0 0 0;\n",
              "        width: 32px;\n",
              "      }\n",
              "\n",
              "      .colab-df-generate:hover {\n",
              "        background-color: #E2EBFA;\n",
              "        box-shadow: 0px 1px 2px rgba(60, 64, 67, 0.3), 0px 1px 3px 1px rgba(60, 64, 67, 0.15);\n",
              "        fill: #174EA6;\n",
              "      }\n",
              "\n",
              "      [theme=dark] .colab-df-generate {\n",
              "        background-color: #3B4455;\n",
              "        fill: #D2E3FC;\n",
              "      }\n",
              "\n",
              "      [theme=dark] .colab-df-generate:hover {\n",
              "        background-color: #434B5C;\n",
              "        box-shadow: 0px 1px 3px 1px rgba(0, 0, 0, 0.15);\n",
              "        filter: drop-shadow(0px 1px 2px rgba(0, 0, 0, 0.3));\n",
              "        fill: #FFFFFF;\n",
              "      }\n",
              "    </style>\n",
              "    <button class=\"colab-df-generate\" onclick=\"generateWithVariable('error_analysis_df')\"\n",
              "            title=\"Generate code using this dataframe.\"\n",
              "            style=\"display:none;\">\n",
              "\n",
              "  <svg xmlns=\"http://www.w3.org/2000/svg\" height=\"24px\"viewBox=\"0 0 24 24\"\n",
              "       width=\"24px\">\n",
              "    <path d=\"M7,19H8.4L18.45,9,17,7.55,7,17.6ZM5,21V16.75L18.45,3.32a2,2,0,0,1,2.83,0l1.4,1.43a1.91,1.91,0,0,1,.58,1.4,1.91,1.91,0,0,1-.58,1.4L9.25,21ZM18.45,9,17,7.55Zm-12,3A5.31,5.31,0,0,0,4.9,8.1,5.31,5.31,0,0,0,1,6.5,5.31,5.31,0,0,0,4.9,4.9,5.31,5.31,0,0,0,6.5,1,5.31,5.31,0,0,0,8.1,4.9,5.31,5.31,0,0,0,12,6.5,5.46,5.46,0,0,0,6.5,12Z\"/>\n",
              "  </svg>\n",
              "    </button>\n",
              "    <script>\n",
              "      (() => {\n",
              "      const buttonEl =\n",
              "        document.querySelector('#id_049351cd-f6fd-442d-b967-8ebcbe3e006e button.colab-df-generate');\n",
              "      buttonEl.style.display =\n",
              "        google.colab.kernel.accessAllowed ? 'block' : 'none';\n",
              "\n",
              "      buttonEl.onclick = () => {\n",
              "        google.colab.notebook.generateWithVariable('error_analysis_df');\n",
              "      }\n",
              "      })();\n",
              "    </script>\n",
              "  </div>\n",
              "\n",
              "    </div>\n",
              "  </div>\n"
            ],
            "application/vnd.google.colaboratory.intrinsic+json": {
              "type": "dataframe",
              "variable_name": "error_analysis_df",
              "summary": "{\n  \"name\": \"error_analysis_df\",\n  \"rows\": 22926,\n  \"fields\": [\n    {\n      \"column\": \"features\",\n      \"properties\": {\n        \"dtype\": \"object\",\n        \"semantic_type\": \"\",\n        \"description\": \"\"\n      }\n    },\n    {\n      \"column\": \"true_label\",\n      \"properties\": {\n        \"dtype\": \"int32\",\n        \"num_unique_values\": 9,\n        \"samples\": [\n          0,\n          8,\n          4\n        ],\n        \"semantic_type\": \"\",\n        \"description\": \"\"\n      }\n    },\n    {\n      \"column\": \"predicted_label\",\n      \"properties\": {\n        \"dtype\": \"number\",\n        \"std\": 1,\n        \"min\": 0,\n        \"max\": 8,\n        \"num_unique_values\": 9,\n        \"samples\": [\n          6,\n          5,\n          8\n        ],\n        \"semantic_type\": \"\",\n        \"description\": \"\"\n      }\n    },\n    {\n      \"column\": \"decoded_features\",\n      \"properties\": {\n        \"dtype\": \"string\",\n        \"num_unique_values\": 21192,\n        \"samples\": [\n          \"PersonX give ___ trouble ['leave', 'instigate more']\",\n          \"PersonX axial_rotation down the window ['fresh air in the car', 'to pay for his food\",\n          \"PersonX buys the ingredients ['to make dinner', 'to make food', 'to make lunch']\"\n        ],\n        \"semantic_type\": \"\",\n        \"description\": \"\"\n      }\n    },\n    {\n      \"column\": \"error_category\",\n      \"properties\": {\n        \"dtype\": \"category\",\n        \"num_unique_values\": 1,\n        \"samples\": [\n          \"Missing Features or Ambiguous\"\n        ],\n        \"semantic_type\": \"\",\n        \"description\": \"\"\n      }\n    },\n    {\n      \"column\": \"true_label_name\",\n      \"properties\": {\n        \"dtype\": \"category\",\n        \"num_unique_values\": 9,\n        \"samples\": [\n          \"oWant\"\n        ],\n        \"semantic_type\": \"\",\n        \"description\": \"\"\n      }\n    },\n    {\n      \"column\": \"predicted_label_name\",\n      \"properties\": {\n        \"dtype\": \"category\",\n        \"num_unique_values\": 9,\n        \"samples\": [\n          \"xEffect\"\n        ],\n        \"semantic_type\": \"\",\n        \"description\": \"\"\n      }\n    }\n  ]\n}"
            }
          },
          "metadata": {}
        }
      ]
    },
    {
      "cell_type": "code",
      "source": [
        "# Categorize errors based on observed patterns\n",
        "def categorize_error(row):\n",
        "    if row['true_label'] in ['Class_A', 'Class_B']:  # Use actual classes that might be ambiguous\n",
        "        return 'Ambiguous Labeling'\n",
        "    elif row['predicted_label'] in ['Class_X', 'Class_Y']:  # Use actual classes that could have noisy labels\n",
        "        return 'Noisy Label'\n",
        "    else:\n",
        "        return 'Missing Features or Ambiguous'\n",
        "\n",
        "# Apply the categorization to each row in the DataFrame\n",
        "error_analysis_df['error_category'] = error_analysis_df.apply(categorize_error, axis=1)\n",
        "\n",
        "# Display the first few rows of categorized errors for qualitative inspection\n",
        "display(error_analysis_df[['true_label', 'predicted_label', 'error_category']].head(10))\n",
        "\n",
        "# Count the number of errors in each category\n",
        "error_category_counts = error_analysis_df['error_category'].value_counts()"
      ],
      "metadata": {
        "colab": {
          "base_uri": "https://localhost:8080/",
          "height": 363
        },
        "id": "x7UKmKFlc59-",
        "outputId": "a2d0645e-11d4-4c1a-9e1d-08470464587f"
      },
      "execution_count": null,
      "outputs": [
        {
          "output_type": "display_data",
          "data": {
            "text/plain": [
              "   true_label  predicted_label                 error_category\n",
              "0           6                1  Missing Features or Ambiguous\n",
              "1           8                5  Missing Features or Ambiguous\n",
              "2           7                4  Missing Features or Ambiguous\n",
              "3           8                3  Missing Features or Ambiguous\n",
              "4           8                5  Missing Features or Ambiguous\n",
              "5           7                0  Missing Features or Ambiguous\n",
              "6           6                1  Missing Features or Ambiguous\n",
              "7           3                8  Missing Features or Ambiguous\n",
              "8           8                5  Missing Features or Ambiguous\n",
              "9           2                4  Missing Features or Ambiguous"
            ],
            "text/html": [
              "\n",
              "  <div id=\"df-294439a4-da4e-45ab-9a88-352a65addfe0\" class=\"colab-df-container\">\n",
              "    <div>\n",
              "<style scoped>\n",
              "    .dataframe tbody tr th:only-of-type {\n",
              "        vertical-align: middle;\n",
              "    }\n",
              "\n",
              "    .dataframe tbody tr th {\n",
              "        vertical-align: top;\n",
              "    }\n",
              "\n",
              "    .dataframe thead th {\n",
              "        text-align: right;\n",
              "    }\n",
              "</style>\n",
              "<table border=\"1\" class=\"dataframe\">\n",
              "  <thead>\n",
              "    <tr style=\"text-align: right;\">\n",
              "      <th></th>\n",
              "      <th>true_label</th>\n",
              "      <th>predicted_label</th>\n",
              "      <th>error_category</th>\n",
              "    </tr>\n",
              "  </thead>\n",
              "  <tbody>\n",
              "    <tr>\n",
              "      <th>0</th>\n",
              "      <td>6</td>\n",
              "      <td>1</td>\n",
              "      <td>Missing Features or Ambiguous</td>\n",
              "    </tr>\n",
              "    <tr>\n",
              "      <th>1</th>\n",
              "      <td>8</td>\n",
              "      <td>5</td>\n",
              "      <td>Missing Features or Ambiguous</td>\n",
              "    </tr>\n",
              "    <tr>\n",
              "      <th>2</th>\n",
              "      <td>7</td>\n",
              "      <td>4</td>\n",
              "      <td>Missing Features or Ambiguous</td>\n",
              "    </tr>\n",
              "    <tr>\n",
              "      <th>3</th>\n",
              "      <td>8</td>\n",
              "      <td>3</td>\n",
              "      <td>Missing Features or Ambiguous</td>\n",
              "    </tr>\n",
              "    <tr>\n",
              "      <th>4</th>\n",
              "      <td>8</td>\n",
              "      <td>5</td>\n",
              "      <td>Missing Features or Ambiguous</td>\n",
              "    </tr>\n",
              "    <tr>\n",
              "      <th>5</th>\n",
              "      <td>7</td>\n",
              "      <td>0</td>\n",
              "      <td>Missing Features or Ambiguous</td>\n",
              "    </tr>\n",
              "    <tr>\n",
              "      <th>6</th>\n",
              "      <td>6</td>\n",
              "      <td>1</td>\n",
              "      <td>Missing Features or Ambiguous</td>\n",
              "    </tr>\n",
              "    <tr>\n",
              "      <th>7</th>\n",
              "      <td>3</td>\n",
              "      <td>8</td>\n",
              "      <td>Missing Features or Ambiguous</td>\n",
              "    </tr>\n",
              "    <tr>\n",
              "      <th>8</th>\n",
              "      <td>8</td>\n",
              "      <td>5</td>\n",
              "      <td>Missing Features or Ambiguous</td>\n",
              "    </tr>\n",
              "    <tr>\n",
              "      <th>9</th>\n",
              "      <td>2</td>\n",
              "      <td>4</td>\n",
              "      <td>Missing Features or Ambiguous</td>\n",
              "    </tr>\n",
              "  </tbody>\n",
              "</table>\n",
              "</div>\n",
              "    <div class=\"colab-df-buttons\">\n",
              "\n",
              "  <div class=\"colab-df-container\">\n",
              "    <button class=\"colab-df-convert\" onclick=\"convertToInteractive('df-294439a4-da4e-45ab-9a88-352a65addfe0')\"\n",
              "            title=\"Convert this dataframe to an interactive table.\"\n",
              "            style=\"display:none;\">\n",
              "\n",
              "  <svg xmlns=\"http://www.w3.org/2000/svg\" height=\"24px\" viewBox=\"0 -960 960 960\">\n",
              "    <path d=\"M120-120v-720h720v720H120Zm60-500h600v-160H180v160Zm220 220h160v-160H400v160Zm0 220h160v-160H400v160ZM180-400h160v-160H180v160Zm440 0h160v-160H620v160ZM180-180h160v-160H180v160Zm440 0h160v-160H620v160Z\"/>\n",
              "  </svg>\n",
              "    </button>\n",
              "\n",
              "  <style>\n",
              "    .colab-df-container {\n",
              "      display:flex;\n",
              "      gap: 12px;\n",
              "    }\n",
              "\n",
              "    .colab-df-convert {\n",
              "      background-color: #E8F0FE;\n",
              "      border: none;\n",
              "      border-radius: 50%;\n",
              "      cursor: pointer;\n",
              "      display: none;\n",
              "      fill: #1967D2;\n",
              "      height: 32px;\n",
              "      padding: 0 0 0 0;\n",
              "      width: 32px;\n",
              "    }\n",
              "\n",
              "    .colab-df-convert:hover {\n",
              "      background-color: #E2EBFA;\n",
              "      box-shadow: 0px 1px 2px rgba(60, 64, 67, 0.3), 0px 1px 3px 1px rgba(60, 64, 67, 0.15);\n",
              "      fill: #174EA6;\n",
              "    }\n",
              "\n",
              "    .colab-df-buttons div {\n",
              "      margin-bottom: 4px;\n",
              "    }\n",
              "\n",
              "    [theme=dark] .colab-df-convert {\n",
              "      background-color: #3B4455;\n",
              "      fill: #D2E3FC;\n",
              "    }\n",
              "\n",
              "    [theme=dark] .colab-df-convert:hover {\n",
              "      background-color: #434B5C;\n",
              "      box-shadow: 0px 1px 3px 1px rgba(0, 0, 0, 0.15);\n",
              "      filter: drop-shadow(0px 1px 2px rgba(0, 0, 0, 0.3));\n",
              "      fill: #FFFFFF;\n",
              "    }\n",
              "  </style>\n",
              "\n",
              "    <script>\n",
              "      const buttonEl =\n",
              "        document.querySelector('#df-294439a4-da4e-45ab-9a88-352a65addfe0 button.colab-df-convert');\n",
              "      buttonEl.style.display =\n",
              "        google.colab.kernel.accessAllowed ? 'block' : 'none';\n",
              "\n",
              "      async function convertToInteractive(key) {\n",
              "        const element = document.querySelector('#df-294439a4-da4e-45ab-9a88-352a65addfe0');\n",
              "        const dataTable =\n",
              "          await google.colab.kernel.invokeFunction('convertToInteractive',\n",
              "                                                    [key], {});\n",
              "        if (!dataTable) return;\n",
              "\n",
              "        const docLinkHtml = 'Like what you see? Visit the ' +\n",
              "          '<a target=\"_blank\" href=https://colab.research.google.com/notebooks/data_table.ipynb>data table notebook</a>'\n",
              "          + ' to learn more about interactive tables.';\n",
              "        element.innerHTML = '';\n",
              "        dataTable['output_type'] = 'display_data';\n",
              "        await google.colab.output.renderOutput(dataTable, element);\n",
              "        const docLink = document.createElement('div');\n",
              "        docLink.innerHTML = docLinkHtml;\n",
              "        element.appendChild(docLink);\n",
              "      }\n",
              "    </script>\n",
              "  </div>\n",
              "\n",
              "\n",
              "<div id=\"df-4454fefe-5ba1-4419-8e2d-66c591d17a50\">\n",
              "  <button class=\"colab-df-quickchart\" onclick=\"quickchart('df-4454fefe-5ba1-4419-8e2d-66c591d17a50')\"\n",
              "            title=\"Suggest charts\"\n",
              "            style=\"display:none;\">\n",
              "\n",
              "<svg xmlns=\"http://www.w3.org/2000/svg\" height=\"24px\"viewBox=\"0 0 24 24\"\n",
              "     width=\"24px\">\n",
              "    <g>\n",
              "        <path d=\"M19 3H5c-1.1 0-2 .9-2 2v14c0 1.1.9 2 2 2h14c1.1 0 2-.9 2-2V5c0-1.1-.9-2-2-2zM9 17H7v-7h2v7zm4 0h-2V7h2v10zm4 0h-2v-4h2v4z\"/>\n",
              "    </g>\n",
              "</svg>\n",
              "  </button>\n",
              "\n",
              "<style>\n",
              "  .colab-df-quickchart {\n",
              "      --bg-color: #E8F0FE;\n",
              "      --fill-color: #1967D2;\n",
              "      --hover-bg-color: #E2EBFA;\n",
              "      --hover-fill-color: #174EA6;\n",
              "      --disabled-fill-color: #AAA;\n",
              "      --disabled-bg-color: #DDD;\n",
              "  }\n",
              "\n",
              "  [theme=dark] .colab-df-quickchart {\n",
              "      --bg-color: #3B4455;\n",
              "      --fill-color: #D2E3FC;\n",
              "      --hover-bg-color: #434B5C;\n",
              "      --hover-fill-color: #FFFFFF;\n",
              "      --disabled-bg-color: #3B4455;\n",
              "      --disabled-fill-color: #666;\n",
              "  }\n",
              "\n",
              "  .colab-df-quickchart {\n",
              "    background-color: var(--bg-color);\n",
              "    border: none;\n",
              "    border-radius: 50%;\n",
              "    cursor: pointer;\n",
              "    display: none;\n",
              "    fill: var(--fill-color);\n",
              "    height: 32px;\n",
              "    padding: 0;\n",
              "    width: 32px;\n",
              "  }\n",
              "\n",
              "  .colab-df-quickchart:hover {\n",
              "    background-color: var(--hover-bg-color);\n",
              "    box-shadow: 0 1px 2px rgba(60, 64, 67, 0.3), 0 1px 3px 1px rgba(60, 64, 67, 0.15);\n",
              "    fill: var(--button-hover-fill-color);\n",
              "  }\n",
              "\n",
              "  .colab-df-quickchart-complete:disabled,\n",
              "  .colab-df-quickchart-complete:disabled:hover {\n",
              "    background-color: var(--disabled-bg-color);\n",
              "    fill: var(--disabled-fill-color);\n",
              "    box-shadow: none;\n",
              "  }\n",
              "\n",
              "  .colab-df-spinner {\n",
              "    border: 2px solid var(--fill-color);\n",
              "    border-color: transparent;\n",
              "    border-bottom-color: var(--fill-color);\n",
              "    animation:\n",
              "      spin 1s steps(1) infinite;\n",
              "  }\n",
              "\n",
              "  @keyframes spin {\n",
              "    0% {\n",
              "      border-color: transparent;\n",
              "      border-bottom-color: var(--fill-color);\n",
              "      border-left-color: var(--fill-color);\n",
              "    }\n",
              "    20% {\n",
              "      border-color: transparent;\n",
              "      border-left-color: var(--fill-color);\n",
              "      border-top-color: var(--fill-color);\n",
              "    }\n",
              "    30% {\n",
              "      border-color: transparent;\n",
              "      border-left-color: var(--fill-color);\n",
              "      border-top-color: var(--fill-color);\n",
              "      border-right-color: var(--fill-color);\n",
              "    }\n",
              "    40% {\n",
              "      border-color: transparent;\n",
              "      border-right-color: var(--fill-color);\n",
              "      border-top-color: var(--fill-color);\n",
              "    }\n",
              "    60% {\n",
              "      border-color: transparent;\n",
              "      border-right-color: var(--fill-color);\n",
              "    }\n",
              "    80% {\n",
              "      border-color: transparent;\n",
              "      border-right-color: var(--fill-color);\n",
              "      border-bottom-color: var(--fill-color);\n",
              "    }\n",
              "    90% {\n",
              "      border-color: transparent;\n",
              "      border-bottom-color: var(--fill-color);\n",
              "    }\n",
              "  }\n",
              "</style>\n",
              "\n",
              "  <script>\n",
              "    async function quickchart(key) {\n",
              "      const quickchartButtonEl =\n",
              "        document.querySelector('#' + key + ' button');\n",
              "      quickchartButtonEl.disabled = true;  // To prevent multiple clicks.\n",
              "      quickchartButtonEl.classList.add('colab-df-spinner');\n",
              "      try {\n",
              "        const charts = await google.colab.kernel.invokeFunction(\n",
              "            'suggestCharts', [key], {});\n",
              "      } catch (error) {\n",
              "        console.error('Error during call to suggestCharts:', error);\n",
              "      }\n",
              "      quickchartButtonEl.classList.remove('colab-df-spinner');\n",
              "      quickchartButtonEl.classList.add('colab-df-quickchart-complete');\n",
              "    }\n",
              "    (() => {\n",
              "      let quickchartButtonEl =\n",
              "        document.querySelector('#df-4454fefe-5ba1-4419-8e2d-66c591d17a50 button');\n",
              "      quickchartButtonEl.style.display =\n",
              "        google.colab.kernel.accessAllowed ? 'block' : 'none';\n",
              "    })();\n",
              "  </script>\n",
              "</div>\n",
              "    </div>\n",
              "  </div>\n"
            ],
            "application/vnd.google.colaboratory.intrinsic+json": {
              "type": "dataframe",
              "summary": "{\n  \"name\": \"error_category_counts = error_analysis_df['error_category']\",\n  \"rows\": 10,\n  \"fields\": [\n    {\n      \"column\": \"true_label\",\n      \"properties\": {\n        \"dtype\": \"int32\",\n        \"num_unique_values\": 5,\n        \"samples\": [\n          8,\n          2,\n          7\n        ],\n        \"semantic_type\": \"\",\n        \"description\": \"\"\n      }\n    },\n    {\n      \"column\": \"predicted_label\",\n      \"properties\": {\n        \"dtype\": \"number\",\n        \"std\": 2,\n        \"min\": 0,\n        \"max\": 8,\n        \"num_unique_values\": 6,\n        \"samples\": [\n          1,\n          5,\n          8\n        ],\n        \"semantic_type\": \"\",\n        \"description\": \"\"\n      }\n    },\n    {\n      \"column\": \"error_category\",\n      \"properties\": {\n        \"dtype\": \"category\",\n        \"num_unique_values\": 1,\n        \"samples\": [\n          \"Missing Features or Ambiguous\"\n        ],\n        \"semantic_type\": \"\",\n        \"description\": \"\"\n      }\n    }\n  ]\n}"
            }
          },
          "metadata": {}
        }
      ]
    },
    {
      "cell_type": "code",
      "source": [
        "error_analysis_df[\"error_category\"].unique()"
      ],
      "metadata": {
        "colab": {
          "base_uri": "https://localhost:8080/"
        },
        "id": "-2Z8UprogJQE",
        "outputId": "415b5f50-bf00-497b-ee70-5101a680a440"
      },
      "execution_count": null,
      "outputs": [
        {
          "output_type": "execute_result",
          "data": {
            "text/plain": [
              "array(['Missing Features or Ambiguous'], dtype=object)"
            ]
          },
          "metadata": {},
          "execution_count": 162
        }
      ]
    },
    {
      "cell_type": "code",
      "source": [
        "# Plot the error categories\n",
        "plt.figure(figsize=(10, 6))\n",
        "sns.barplot(x=error_category_counts.index, y=error_category_counts.values)\n",
        "plt.xlabel('Error Category')\n",
        "plt.ylabel('Number of Errors')\n",
        "plt.title('Error Category Analysis')\n",
        "plt.xticks(rotation=45)\n",
        "plt.show()"
      ],
      "metadata": {
        "colab": {
          "base_uri": "https://localhost:8080/",
          "height": 713
        },
        "id": "70np_1RVdA-A",
        "outputId": "f53d8511-7d62-4424-f439-a0cbdd3c5281"
      },
      "execution_count": null,
      "outputs": [
        {
          "output_type": "display_data",
          "data": {
            "text/plain": [
              "<Figure size 1000x600 with 1 Axes>"
            ],
            "image/png": "[encoded data removed]"
          },
          "metadata": {}
        }
      ]
    },
    {
      "cell_type": "code",
      "source": [],
      "metadata": {
        "id": "vmVoCF1Udlz2"
      },
      "execution_count": null,
      "outputs": []
    }
  ],
  "metadata": {
    "kernelspec": {
      "display_name": "myenv",
      "language": "python",
      "name": "python3"
    },
    "language_info": {
      "codemirror_mode": {
        "name": "ipython",
        "version": 3
      },
      "file_extension": ".py",
      "mimetype": "text/x-python",
      "name": "python",
      "nbconvert_exporter": "python",
      "pygments_lexer": "ipython3",
      "version": "3.10.15"
    },
    "colab": {
      "provenance": [],
      "collapsed_sections": [
        "gOGnQIWtzj_9"
      ],
      "toc_visible": true
    }
  },
  "nbformat": 4,
  "nbformat_minor": 0
}